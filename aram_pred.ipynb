{
 "cells": [
  {
   "cell_type": "code",
   "execution_count": 371,
   "metadata": {},
   "outputs": [],
   "source": [
    "import numpy as np\n",
    "import pandas as pd\n",
    "import matplotlib.pyplot as plt\n",
    "%matplotlib inline"
   ]
  },
  {
   "cell_type": "code",
   "execution_count": 372,
   "metadata": {},
   "outputs": [],
   "source": [
    "df_train_all = pd.read_csv('./train_formated.csv', index_col=[0])\n",
    "df_train_all = df_train_all.rename(columns={'Давление пластовое' : 'press',\n",
    "                                            'ПЛАСТ_X' : 'x_coord',\n",
    "                                            'ПЛАСТ_Y' : 'y_coord',\n",
    "                                            'clust' : 'cluster'})\n",
    "df_train = df_train_all[df_train_all.month == 0]"
   ]
  },
  {
   "cell_type": "code",
   "execution_count": 373,
   "metadata": {},
   "outputs": [],
   "source": [
    "df_test = pd.read_csv('./test_formatted.csv', index_col=[0])\n",
    "\n",
    "df_test = df_test.rename(columns={'Давление пластовое' : 'press',\n",
    "                                  'ПЛАСТ_X' : 'x_coord',\n",
    "                                  'ПЛАСТ_Y' : 'y_coord',\n",
    "                                  'clust' : 'cluster'})\n",
    "df_test = df_test.drop('index', 1)"
   ]
  },
  {
   "cell_type": "code",
   "execution_count": 374,
   "metadata": {},
   "outputs": [
    {
     "data": {
      "text/html": [
       "<div>\n",
       "<style>\n",
       "    .dataframe thead tr:only-child th {\n",
       "        text-align: right;\n",
       "    }\n",
       "\n",
       "    .dataframe thead th {\n",
       "        text-align: left;\n",
       "    }\n",
       "\n",
       "    .dataframe tbody tr th {\n",
       "        vertical-align: top;\n",
       "    }\n",
       "</style>\n",
       "<table border=\"1\" class=\"dataframe\">\n",
       "  <thead>\n",
       "    <tr style=\"text-align: right;\">\n",
       "      <th></th>\n",
       "      <th>Дата</th>\n",
       "      <th>liq_rate</th>\n",
       "      <th>oil_rate</th>\n",
       "      <th>wct</th>\n",
       "      <th>gas_rate</th>\n",
       "      <th>gf</th>\n",
       "      <th>gas_prod</th>\n",
       "      <th>days_on</th>\n",
       "      <th>oil_prod</th>\n",
       "      <th>frac</th>\n",
       "      <th>month</th>\n",
       "      <th>press</th>\n",
       "      <th>x_coord</th>\n",
       "      <th>y_coord</th>\n",
       "      <th>cluster</th>\n",
       "      <th>num_of_pr</th>\n",
       "      <th>num_of_plast</th>\n",
       "    </tr>\n",
       "    <tr>\n",
       "      <th>Скважина</th>\n",
       "      <th></th>\n",
       "      <th></th>\n",
       "      <th></th>\n",
       "      <th></th>\n",
       "      <th></th>\n",
       "      <th></th>\n",
       "      <th></th>\n",
       "      <th></th>\n",
       "      <th></th>\n",
       "      <th></th>\n",
       "      <th></th>\n",
       "      <th></th>\n",
       "      <th></th>\n",
       "      <th></th>\n",
       "      <th></th>\n",
       "      <th></th>\n",
       "      <th></th>\n",
       "    </tr>\n",
       "  </thead>\n",
       "  <tbody>\n",
       "    <tr>\n",
       "      <th>005642f48d3e86d871bb701bac2ba042</th>\n",
       "      <td>2005-06-01</td>\n",
       "      <td>29.777778</td>\n",
       "      <td>29.722222</td>\n",
       "      <td>0.001866</td>\n",
       "      <td>1642.666667</td>\n",
       "      <td>64.000000</td>\n",
       "      <td>29568.0</td>\n",
       "      <td>18.000000</td>\n",
       "      <td>462.00</td>\n",
       "      <td>1.0</td>\n",
       "      <td>0</td>\n",
       "      <td>103.150000</td>\n",
       "      <td>NaN</td>\n",
       "      <td>NaN</td>\n",
       "      <td>NaN</td>\n",
       "      <td>2.0</td>\n",
       "      <td>NaN</td>\n",
       "    </tr>\n",
       "    <tr>\n",
       "      <th>02384c4d1324238fb99fcf66c88fbdad</th>\n",
       "      <td>2011-03-01</td>\n",
       "      <td>41.020408</td>\n",
       "      <td>32.204082</td>\n",
       "      <td>0.214925</td>\n",
       "      <td>1941.122449</td>\n",
       "      <td>69.224891</td>\n",
       "      <td>31705.0</td>\n",
       "      <td>16.333333</td>\n",
       "      <td>458.00</td>\n",
       "      <td>1.0</td>\n",
       "      <td>0</td>\n",
       "      <td>218.566667</td>\n",
       "      <td>NaN</td>\n",
       "      <td>NaN</td>\n",
       "      <td>NaN</td>\n",
       "      <td>3.0</td>\n",
       "      <td>NaN</td>\n",
       "    </tr>\n",
       "    <tr>\n",
       "      <th>02bd0350b7f0cef7af7ca50801d89810</th>\n",
       "      <td>2011-08-01</td>\n",
       "      <td>32.070000</td>\n",
       "      <td>18.270000</td>\n",
       "      <td>0.430309</td>\n",
       "      <td>2148.000000</td>\n",
       "      <td>140.208877</td>\n",
       "      <td>2148.0</td>\n",
       "      <td>1.000000</td>\n",
       "      <td>15.32</td>\n",
       "      <td>1.0</td>\n",
       "      <td>0</td>\n",
       "      <td>255.150000</td>\n",
       "      <td>1.297986e+07</td>\n",
       "      <td>3.998130e+07</td>\n",
       "      <td>1.0</td>\n",
       "      <td>2.0</td>\n",
       "      <td>1.0</td>\n",
       "    </tr>\n",
       "    <tr>\n",
       "      <th>02dba139f57f4aa50c3fbf56f586551f</th>\n",
       "      <td>2005-10-01</td>\n",
       "      <td>24.642857</td>\n",
       "      <td>19.785714</td>\n",
       "      <td>0.197101</td>\n",
       "      <td>1101.714286</td>\n",
       "      <td>64.000000</td>\n",
       "      <td>15424.0</td>\n",
       "      <td>14.000000</td>\n",
       "      <td>241.00</td>\n",
       "      <td>1.0</td>\n",
       "      <td>0</td>\n",
       "      <td>NaN</td>\n",
       "      <td>NaN</td>\n",
       "      <td>NaN</td>\n",
       "      <td>NaN</td>\n",
       "      <td>NaN</td>\n",
       "      <td>NaN</td>\n",
       "    </tr>\n",
       "    <tr>\n",
       "      <th>031f7cf95ada8d6e49ad6bd96c886d9c</th>\n",
       "      <td>2010-03-01</td>\n",
       "      <td>11.200000</td>\n",
       "      <td>10.752000</td>\n",
       "      <td>0.040000</td>\n",
       "      <td>688.128000</td>\n",
       "      <td>64.000000</td>\n",
       "      <td>NaN</td>\n",
       "      <td>NaN</td>\n",
       "      <td>NaN</td>\n",
       "      <td>0.0</td>\n",
       "      <td>0</td>\n",
       "      <td>83.000000</td>\n",
       "      <td>NaN</td>\n",
       "      <td>NaN</td>\n",
       "      <td>NaN</td>\n",
       "      <td>1.0</td>\n",
       "      <td>NaN</td>\n",
       "    </tr>\n",
       "  </tbody>\n",
       "</table>\n",
       "</div>"
      ],
      "text/plain": [
       "                                        Дата   liq_rate   oil_rate       wct  \\\n",
       "Скважина                                                                       \n",
       "005642f48d3e86d871bb701bac2ba042  2005-06-01  29.777778  29.722222  0.001866   \n",
       "02384c4d1324238fb99fcf66c88fbdad  2011-03-01  41.020408  32.204082  0.214925   \n",
       "02bd0350b7f0cef7af7ca50801d89810  2011-08-01  32.070000  18.270000  0.430309   \n",
       "02dba139f57f4aa50c3fbf56f586551f  2005-10-01  24.642857  19.785714  0.197101   \n",
       "031f7cf95ada8d6e49ad6bd96c886d9c  2010-03-01  11.200000  10.752000  0.040000   \n",
       "\n",
       "                                     gas_rate          gf  gas_prod  \\\n",
       "Скважина                                                              \n",
       "005642f48d3e86d871bb701bac2ba042  1642.666667   64.000000   29568.0   \n",
       "02384c4d1324238fb99fcf66c88fbdad  1941.122449   69.224891   31705.0   \n",
       "02bd0350b7f0cef7af7ca50801d89810  2148.000000  140.208877    2148.0   \n",
       "02dba139f57f4aa50c3fbf56f586551f  1101.714286   64.000000   15424.0   \n",
       "031f7cf95ada8d6e49ad6bd96c886d9c   688.128000   64.000000       NaN   \n",
       "\n",
       "                                    days_on  oil_prod  frac  month  \\\n",
       "Скважина                                                             \n",
       "005642f48d3e86d871bb701bac2ba042  18.000000    462.00   1.0      0   \n",
       "02384c4d1324238fb99fcf66c88fbdad  16.333333    458.00   1.0      0   \n",
       "02bd0350b7f0cef7af7ca50801d89810   1.000000     15.32   1.0      0   \n",
       "02dba139f57f4aa50c3fbf56f586551f  14.000000    241.00   1.0      0   \n",
       "031f7cf95ada8d6e49ad6bd96c886d9c        NaN       NaN   0.0      0   \n",
       "\n",
       "                                       press       x_coord       y_coord  \\\n",
       "Скважина                                                                   \n",
       "005642f48d3e86d871bb701bac2ba042  103.150000           NaN           NaN   \n",
       "02384c4d1324238fb99fcf66c88fbdad  218.566667           NaN           NaN   \n",
       "02bd0350b7f0cef7af7ca50801d89810  255.150000  1.297986e+07  3.998130e+07   \n",
       "02dba139f57f4aa50c3fbf56f586551f         NaN           NaN           NaN   \n",
       "031f7cf95ada8d6e49ad6bd96c886d9c   83.000000           NaN           NaN   \n",
       "\n",
       "                                  cluster  num_of_pr  num_of_plast  \n",
       "Скважина                                                            \n",
       "005642f48d3e86d871bb701bac2ba042      NaN        2.0           NaN  \n",
       "02384c4d1324238fb99fcf66c88fbdad      NaN        3.0           NaN  \n",
       "02bd0350b7f0cef7af7ca50801d89810      1.0        2.0           1.0  \n",
       "02dba139f57f4aa50c3fbf56f586551f      NaN        NaN           NaN  \n",
       "031f7cf95ada8d6e49ad6bd96c886d9c      NaN        1.0           NaN  "
      ]
     },
     "execution_count": 374,
     "metadata": {},
     "output_type": "execute_result"
    }
   ],
   "source": [
    "df_train.head()"
   ]
  },
  {
   "cell_type": "code",
   "execution_count": 375,
   "metadata": {},
   "outputs": [
    {
     "data": {
      "text/html": [
       "<div>\n",
       "<style>\n",
       "    .dataframe thead tr:only-child th {\n",
       "        text-align: right;\n",
       "    }\n",
       "\n",
       "    .dataframe thead th {\n",
       "        text-align: left;\n",
       "    }\n",
       "\n",
       "    .dataframe tbody tr th {\n",
       "        vertical-align: top;\n",
       "    }\n",
       "</style>\n",
       "<table border=\"1\" class=\"dataframe\">\n",
       "  <thead>\n",
       "    <tr style=\"text-align: right;\">\n",
       "      <th></th>\n",
       "      <th>Дата</th>\n",
       "      <th>wct</th>\n",
       "      <th>gas_rate</th>\n",
       "      <th>gas_prod</th>\n",
       "      <th>days_on</th>\n",
       "      <th>frac</th>\n",
       "      <th>press</th>\n",
       "      <th>x_coord</th>\n",
       "      <th>y_coord</th>\n",
       "      <th>cluster</th>\n",
       "      <th>num_of_pr</th>\n",
       "      <th>num_of_plast</th>\n",
       "    </tr>\n",
       "    <tr>\n",
       "      <th>Скважина</th>\n",
       "      <th></th>\n",
       "      <th></th>\n",
       "      <th></th>\n",
       "      <th></th>\n",
       "      <th></th>\n",
       "      <th></th>\n",
       "      <th></th>\n",
       "      <th></th>\n",
       "      <th></th>\n",
       "      <th></th>\n",
       "      <th></th>\n",
       "      <th></th>\n",
       "    </tr>\n",
       "  </thead>\n",
       "  <tbody>\n",
       "    <tr>\n",
       "      <th>002ff5b8a6dc271f58581e1b4fa2c5fc</th>\n",
       "      <td>2016-12-01</td>\n",
       "      <td>0.000</td>\n",
       "      <td>NaN</td>\n",
       "      <td>0.0</td>\n",
       "      <td>0.0</td>\n",
       "      <td>1</td>\n",
       "      <td>NaN</td>\n",
       "      <td>NaN</td>\n",
       "      <td>NaN</td>\n",
       "      <td>NaN</td>\n",
       "      <td>NaN</td>\n",
       "      <td>NaN</td>\n",
       "    </tr>\n",
       "    <tr>\n",
       "      <th>008d0347e572a5d938a9c40c29e539fc</th>\n",
       "      <td>2013-10-01</td>\n",
       "      <td>0.630</td>\n",
       "      <td>NaN</td>\n",
       "      <td>NaN</td>\n",
       "      <td>NaN</td>\n",
       "      <td>0</td>\n",
       "      <td>NaN</td>\n",
       "      <td>1.272636e+07</td>\n",
       "      <td>3.857880e+07</td>\n",
       "      <td>0.0</td>\n",
       "      <td>NaN</td>\n",
       "      <td>1.0</td>\n",
       "    </tr>\n",
       "    <tr>\n",
       "      <th>00b40cb7bb8c9fd1ac26b4cc86f2b291</th>\n",
       "      <td>2018-02-01</td>\n",
       "      <td>0.520</td>\n",
       "      <td>NaN</td>\n",
       "      <td>NaN</td>\n",
       "      <td>NaN</td>\n",
       "      <td>0</td>\n",
       "      <td>NaN</td>\n",
       "      <td>NaN</td>\n",
       "      <td>NaN</td>\n",
       "      <td>NaN</td>\n",
       "      <td>NaN</td>\n",
       "      <td>NaN</td>\n",
       "    </tr>\n",
       "    <tr>\n",
       "      <th>01ba18d8b6d29875a18d4bca4eb201d7</th>\n",
       "      <td>2014-05-01</td>\n",
       "      <td>0.348</td>\n",
       "      <td>1385.8</td>\n",
       "      <td>6929.0</td>\n",
       "      <td>5.0</td>\n",
       "      <td>1</td>\n",
       "      <td>117.5</td>\n",
       "      <td>NaN</td>\n",
       "      <td>NaN</td>\n",
       "      <td>NaN</td>\n",
       "      <td>1.0</td>\n",
       "      <td>NaN</td>\n",
       "    </tr>\n",
       "    <tr>\n",
       "      <th>024ec6f6e3f9c5150ecf525bf8b7a6a3</th>\n",
       "      <td>2017-06-01</td>\n",
       "      <td>0.000</td>\n",
       "      <td>NaN</td>\n",
       "      <td>0.0</td>\n",
       "      <td>0.0</td>\n",
       "      <td>1</td>\n",
       "      <td>231.0</td>\n",
       "      <td>1.243423e+07</td>\n",
       "      <td>3.781085e+07</td>\n",
       "      <td>1.0</td>\n",
       "      <td>1.0</td>\n",
       "      <td>2.0</td>\n",
       "    </tr>\n",
       "  </tbody>\n",
       "</table>\n",
       "</div>"
      ],
      "text/plain": [
       "                                        Дата    wct  gas_rate  gas_prod  \\\n",
       "Скважина                                                                  \n",
       "002ff5b8a6dc271f58581e1b4fa2c5fc  2016-12-01  0.000       NaN       0.0   \n",
       "008d0347e572a5d938a9c40c29e539fc  2013-10-01  0.630       NaN       NaN   \n",
       "00b40cb7bb8c9fd1ac26b4cc86f2b291  2018-02-01  0.520       NaN       NaN   \n",
       "01ba18d8b6d29875a18d4bca4eb201d7  2014-05-01  0.348    1385.8    6929.0   \n",
       "024ec6f6e3f9c5150ecf525bf8b7a6a3  2017-06-01  0.000       NaN       0.0   \n",
       "\n",
       "                                  days_on  frac  press       x_coord  \\\n",
       "Скважина                                                               \n",
       "002ff5b8a6dc271f58581e1b4fa2c5fc      0.0     1    NaN           NaN   \n",
       "008d0347e572a5d938a9c40c29e539fc      NaN     0    NaN  1.272636e+07   \n",
       "00b40cb7bb8c9fd1ac26b4cc86f2b291      NaN     0    NaN           NaN   \n",
       "01ba18d8b6d29875a18d4bca4eb201d7      5.0     1  117.5           NaN   \n",
       "024ec6f6e3f9c5150ecf525bf8b7a6a3      0.0     1  231.0  1.243423e+07   \n",
       "\n",
       "                                       y_coord  cluster  num_of_pr  \\\n",
       "Скважина                                                             \n",
       "002ff5b8a6dc271f58581e1b4fa2c5fc           NaN      NaN        NaN   \n",
       "008d0347e572a5d938a9c40c29e539fc  3.857880e+07      0.0        NaN   \n",
       "00b40cb7bb8c9fd1ac26b4cc86f2b291           NaN      NaN        NaN   \n",
       "01ba18d8b6d29875a18d4bca4eb201d7           NaN      NaN        1.0   \n",
       "024ec6f6e3f9c5150ecf525bf8b7a6a3  3.781085e+07      1.0        1.0   \n",
       "\n",
       "                                  num_of_plast  \n",
       "Скважина                                        \n",
       "002ff5b8a6dc271f58581e1b4fa2c5fc           NaN  \n",
       "008d0347e572a5d938a9c40c29e539fc           1.0  \n",
       "00b40cb7bb8c9fd1ac26b4cc86f2b291           NaN  \n",
       "01ba18d8b6d29875a18d4bca4eb201d7           NaN  \n",
       "024ec6f6e3f9c5150ecf525bf8b7a6a3           2.0  "
      ]
     },
     "execution_count": 375,
     "metadata": {},
     "output_type": "execute_result"
    }
   ],
   "source": [
    "df_test.head()"
   ]
  },
  {
   "cell_type": "markdown",
   "metadata": {},
   "source": [
    "## Предсказываем начальный дебит"
   ]
  },
  {
   "cell_type": "markdown",
   "metadata": {},
   "source": [
    "Через газ"
   ]
  },
  {
   "cell_type": "code",
   "execution_count": 376,
   "metadata": {},
   "outputs": [],
   "source": [
    "gas_index = df_test.gas_prod > 0\n",
    "gas_0 = df_test.gas_prod == 0"
   ]
  },
  {
   "cell_type": "code",
   "execution_count": 377,
   "metadata": {},
   "outputs": [],
   "source": [
    "mean_angle = (df_train.oil_prod[df_train.gas_prod > 0] / (df_train.gas_prod[df_train.gas_prod > 0])).mean(skipna=True)"
   ]
  },
  {
   "cell_type": "code",
   "execution_count": 378,
   "metadata": {},
   "outputs": [
    {
     "data": {
      "text/plain": [
       "0.015612541152141288"
      ]
     },
     "execution_count": 378,
     "metadata": {},
     "output_type": "execute_result"
    }
   ],
   "source": [
    "mean_angle"
   ]
  },
  {
   "cell_type": "code",
   "execution_count": 379,
   "metadata": {},
   "outputs": [],
   "source": [
    "starting_oil_pred = np.zeros(df_test.shape[0]) \n",
    "starting_oil_pred[gas_index] = mean_angle * df_test.gas_prod[gas_index]"
   ]
  },
  {
   "cell_type": "markdown",
   "metadata": {},
   "source": [
    "Остальное"
   ]
  },
  {
   "cell_type": "code",
   "execution_count": 380,
   "metadata": {},
   "outputs": [],
   "source": [
    "X = pd.DataFrame(df_train[['frac', 'press', 'x_coord', 'y_coord', 'cluster', 'num_of_pr', 'num_of_plast', 'oil_prod']])\n",
    "X_test = pd.DataFrame(df_test[['frac', 'press', 'x_coord', 'y_coord', 'cluster', 'num_of_pr', 'num_of_plast']])[~gas_index]"
   ]
  },
  {
   "cell_type": "code",
   "execution_count": 381,
   "metadata": {},
   "outputs": [],
   "source": [
    "unity = pd.concat([X, X_test], axis=0)\n",
    "unity = pd.get_dummies(unity, columns=['frac', 'cluster', 'num_of_pr', 'num_of_plast'])\n",
    "X = pd.DataFrame(unity[:X.shape[0]])\n",
    "X_test = pd.DataFrame(unity[X.shape[0]:])"
   ]
  },
  {
   "cell_type": "code",
   "execution_count": 382,
   "metadata": {},
   "outputs": [],
   "source": [
    "X['w'] = df_train.x_coord.notnull()"
   ]
  },
  {
   "cell_type": "code",
   "execution_count": 383,
   "metadata": {},
   "outputs": [],
   "source": [
    "X_test = X_test.fillna({'press' : X.press.mean(),\n",
    "                        'cluster' : -1,\n",
    "                        'x_coord' : X.x_coord.mean(),\n",
    "                        'y_coord' : X.y_coord.mean(),\n",
    "                        'num_of_pr' : -1,\n",
    "                        'num_of_plast' : -1})\n",
    "\n",
    "X = X.fillna({'press' : X.press.mean(),\n",
    "             'cluster' : -1,\n",
    "             'x_coord' : X.x_coord.mean(),\n",
    "             'y_coord' : X.y_coord.mean(),\n",
    "             'num_of_pr' : -1,\n",
    "             'num_of_plast' : -1}).dropna(0)"
   ]
  },
  {
   "cell_type": "code",
   "execution_count": 384,
   "metadata": {},
   "outputs": [],
   "source": [
    "y = X.oil_prod\n",
    "weights = (X['w'] * 2 + 1).values\n",
    "X = X.drop(['oil_prod', 'w'], 1)\n",
    "X_test = X_test.drop('oil_prod', 1)"
   ]
  },
  {
   "cell_type": "code",
   "execution_count": 385,
   "metadata": {},
   "outputs": [],
   "source": [
    "from sklearn.preprocessing import scale, StandardScaler"
   ]
  },
  {
   "cell_type": "code",
   "execution_count": 386,
   "metadata": {},
   "outputs": [],
   "source": [
    "scaler = StandardScaler()\n",
    "X = scaler.fit_transform(X)\n",
    "X_test = scaler.transform(X_test)"
   ]
  },
  {
   "cell_type": "markdown",
   "metadata": {},
   "source": [
    "Модель"
   ]
  },
  {
   "cell_type": "code",
   "execution_count": 387,
   "metadata": {},
   "outputs": [],
   "source": [
    "from sklearn.svm import LinearSVR, SVR"
   ]
  },
  {
   "cell_type": "code",
   "execution_count": 388,
   "metadata": {},
   "outputs": [],
   "source": [
    "from sklearn.model_selection import cross_val_score\n",
    "from sklearn.metrics import mean_absolute_error as mae\n",
    "from sklearn.metrics import make_scorer"
   ]
  },
  {
   "cell_type": "code",
   "execution_count": 390,
   "metadata": {},
   "outputs": [
    {
     "data": {
      "text/plain": [
       "353.91611903645446"
      ]
     },
     "execution_count": 390,
     "metadata": {},
     "output_type": "execute_result"
    }
   ],
   "source": [
    "svm = SVR(kernel='linear')\n",
    "cross_val_score(svm, X, y, fit_params={'sample_weight' : weights}, cv=10, scoring=make_scorer(mae)).mean()"
   ]
  },
  {
   "cell_type": "code",
   "execution_count": 391,
   "metadata": {},
   "outputs": [
    {
     "data": {
      "text/plain": [
       "SVR(C=1.0, cache_size=200, coef0=0.0, degree=3, epsilon=0.1, gamma='auto',\n",
       "  kernel='linear', max_iter=-1, shrinking=True, tol=0.001, verbose=False)"
      ]
     },
     "execution_count": 391,
     "metadata": {},
     "output_type": "execute_result"
    }
   ],
   "source": [
    "svm.fit(X, y, weights)"
   ]
  },
  {
   "cell_type": "code",
   "execution_count": 392,
   "metadata": {},
   "outputs": [],
   "source": [
    "starting_oil_pred[~gas_index] = svm.predict(X_test)"
   ]
  },
  {
   "cell_type": "markdown",
   "metadata": {},
   "source": [
    "## Предсказываем ряд добычи"
   ]
  },
  {
   "cell_type": "code",
   "execution_count": 393,
   "metadata": {},
   "outputs": [],
   "source": [
    "df_train_all['prev_debit'] = np.roll(df_train_all.oil_prod, 1)"
   ]
  },
  {
   "cell_type": "code",
   "execution_count": 394,
   "metadata": {},
   "outputs": [],
   "source": [
    "X = pd.DataFrame(df_train_all[['month', 'oil_prod','prev_debit', 'frac', 'press', 'x_coord', 'y_coord', 'cluster', 'num_of_pr', 'num_of_plast']])\n",
    "X = X[X.month != 0]"
   ]
  },
  {
   "cell_type": "code",
   "execution_count": 420,
   "metadata": {},
   "outputs": [],
   "source": [
    "X_test = pd.concat([df_test[['frac', 'press', 'x_coord', 'y_coord', 'cluster', 'num_of_pr', 'num_of_plast']]]*6).sort_index()"
   ]
  },
  {
   "cell_type": "code",
   "execution_count": 421,
   "metadata": {},
   "outputs": [],
   "source": [
    "X_test['month'] = np.repeat([[0, 1, 2, 3, 4, 5]], X_test.shape[0] / 6, axis=0).ravel()\n",
    "X_test['prev_debit'] = np.repeat(starting_oil_pred, 6)\n",
    "X_test['oil_prod'] = np.repeat(starting_oil_pred, 6)\n",
    "X_test = X_test.sort_index()"
   ]
  },
  {
   "cell_type": "code",
   "execution_count": 422,
   "metadata": {},
   "outputs": [
    {
     "data": {
      "text/html": [
       "<div>\n",
       "<style>\n",
       "    .dataframe thead tr:only-child th {\n",
       "        text-align: right;\n",
       "    }\n",
       "\n",
       "    .dataframe thead th {\n",
       "        text-align: left;\n",
       "    }\n",
       "\n",
       "    .dataframe tbody tr th {\n",
       "        vertical-align: top;\n",
       "    }\n",
       "</style>\n",
       "<table border=\"1\" class=\"dataframe\">\n",
       "  <thead>\n",
       "    <tr style=\"text-align: right;\">\n",
       "      <th></th>\n",
       "      <th>frac</th>\n",
       "      <th>press</th>\n",
       "      <th>x_coord</th>\n",
       "      <th>y_coord</th>\n",
       "      <th>cluster</th>\n",
       "      <th>num_of_pr</th>\n",
       "      <th>num_of_plast</th>\n",
       "      <th>month</th>\n",
       "      <th>prev_debit</th>\n",
       "      <th>oil_prod</th>\n",
       "    </tr>\n",
       "    <tr>\n",
       "      <th>Скважина</th>\n",
       "      <th></th>\n",
       "      <th></th>\n",
       "      <th></th>\n",
       "      <th></th>\n",
       "      <th></th>\n",
       "      <th></th>\n",
       "      <th></th>\n",
       "      <th></th>\n",
       "      <th></th>\n",
       "      <th></th>\n",
       "    </tr>\n",
       "  </thead>\n",
       "  <tbody>\n",
       "    <tr>\n",
       "      <th>002ff5b8a6dc271f58581e1b4fa2c5fc</th>\n",
       "      <td>1</td>\n",
       "      <td>NaN</td>\n",
       "      <td>NaN</td>\n",
       "      <td>NaN</td>\n",
       "      <td>NaN</td>\n",
       "      <td>NaN</td>\n",
       "      <td>NaN</td>\n",
       "      <td>0</td>\n",
       "      <td>271.099942</td>\n",
       "      <td>271.099942</td>\n",
       "    </tr>\n",
       "    <tr>\n",
       "      <th>002ff5b8a6dc271f58581e1b4fa2c5fc</th>\n",
       "      <td>1</td>\n",
       "      <td>NaN</td>\n",
       "      <td>NaN</td>\n",
       "      <td>NaN</td>\n",
       "      <td>NaN</td>\n",
       "      <td>NaN</td>\n",
       "      <td>NaN</td>\n",
       "      <td>1</td>\n",
       "      <td>271.099942</td>\n",
       "      <td>271.099942</td>\n",
       "    </tr>\n",
       "    <tr>\n",
       "      <th>002ff5b8a6dc271f58581e1b4fa2c5fc</th>\n",
       "      <td>1</td>\n",
       "      <td>NaN</td>\n",
       "      <td>NaN</td>\n",
       "      <td>NaN</td>\n",
       "      <td>NaN</td>\n",
       "      <td>NaN</td>\n",
       "      <td>NaN</td>\n",
       "      <td>2</td>\n",
       "      <td>271.099942</td>\n",
       "      <td>271.099942</td>\n",
       "    </tr>\n",
       "    <tr>\n",
       "      <th>002ff5b8a6dc271f58581e1b4fa2c5fc</th>\n",
       "      <td>1</td>\n",
       "      <td>NaN</td>\n",
       "      <td>NaN</td>\n",
       "      <td>NaN</td>\n",
       "      <td>NaN</td>\n",
       "      <td>NaN</td>\n",
       "      <td>NaN</td>\n",
       "      <td>3</td>\n",
       "      <td>271.099942</td>\n",
       "      <td>271.099942</td>\n",
       "    </tr>\n",
       "    <tr>\n",
       "      <th>002ff5b8a6dc271f58581e1b4fa2c5fc</th>\n",
       "      <td>1</td>\n",
       "      <td>NaN</td>\n",
       "      <td>NaN</td>\n",
       "      <td>NaN</td>\n",
       "      <td>NaN</td>\n",
       "      <td>NaN</td>\n",
       "      <td>NaN</td>\n",
       "      <td>4</td>\n",
       "      <td>271.099942</td>\n",
       "      <td>271.099942</td>\n",
       "    </tr>\n",
       "    <tr>\n",
       "      <th>002ff5b8a6dc271f58581e1b4fa2c5fc</th>\n",
       "      <td>1</td>\n",
       "      <td>NaN</td>\n",
       "      <td>NaN</td>\n",
       "      <td>NaN</td>\n",
       "      <td>NaN</td>\n",
       "      <td>NaN</td>\n",
       "      <td>NaN</td>\n",
       "      <td>5</td>\n",
       "      <td>271.099942</td>\n",
       "      <td>271.099942</td>\n",
       "    </tr>\n",
       "    <tr>\n",
       "      <th>008d0347e572a5d938a9c40c29e539fc</th>\n",
       "      <td>0</td>\n",
       "      <td>NaN</td>\n",
       "      <td>1.272636e+07</td>\n",
       "      <td>3.857880e+07</td>\n",
       "      <td>0.0</td>\n",
       "      <td>NaN</td>\n",
       "      <td>1.0</td>\n",
       "      <td>0</td>\n",
       "      <td>471.904099</td>\n",
       "      <td>471.904099</td>\n",
       "    </tr>\n",
       "    <tr>\n",
       "      <th>008d0347e572a5d938a9c40c29e539fc</th>\n",
       "      <td>0</td>\n",
       "      <td>NaN</td>\n",
       "      <td>1.272636e+07</td>\n",
       "      <td>3.857880e+07</td>\n",
       "      <td>0.0</td>\n",
       "      <td>NaN</td>\n",
       "      <td>1.0</td>\n",
       "      <td>1</td>\n",
       "      <td>471.904099</td>\n",
       "      <td>471.904099</td>\n",
       "    </tr>\n",
       "    <tr>\n",
       "      <th>008d0347e572a5d938a9c40c29e539fc</th>\n",
       "      <td>0</td>\n",
       "      <td>NaN</td>\n",
       "      <td>1.272636e+07</td>\n",
       "      <td>3.857880e+07</td>\n",
       "      <td>0.0</td>\n",
       "      <td>NaN</td>\n",
       "      <td>1.0</td>\n",
       "      <td>2</td>\n",
       "      <td>471.904099</td>\n",
       "      <td>471.904099</td>\n",
       "    </tr>\n",
       "    <tr>\n",
       "      <th>008d0347e572a5d938a9c40c29e539fc</th>\n",
       "      <td>0</td>\n",
       "      <td>NaN</td>\n",
       "      <td>1.272636e+07</td>\n",
       "      <td>3.857880e+07</td>\n",
       "      <td>0.0</td>\n",
       "      <td>NaN</td>\n",
       "      <td>1.0</td>\n",
       "      <td>3</td>\n",
       "      <td>471.904099</td>\n",
       "      <td>471.904099</td>\n",
       "    </tr>\n",
       "  </tbody>\n",
       "</table>\n",
       "</div>"
      ],
      "text/plain": [
       "                                  frac  press       x_coord       y_coord  \\\n",
       "Скважина                                                                    \n",
       "002ff5b8a6dc271f58581e1b4fa2c5fc     1    NaN           NaN           NaN   \n",
       "002ff5b8a6dc271f58581e1b4fa2c5fc     1    NaN           NaN           NaN   \n",
       "002ff5b8a6dc271f58581e1b4fa2c5fc     1    NaN           NaN           NaN   \n",
       "002ff5b8a6dc271f58581e1b4fa2c5fc     1    NaN           NaN           NaN   \n",
       "002ff5b8a6dc271f58581e1b4fa2c5fc     1    NaN           NaN           NaN   \n",
       "002ff5b8a6dc271f58581e1b4fa2c5fc     1    NaN           NaN           NaN   \n",
       "008d0347e572a5d938a9c40c29e539fc     0    NaN  1.272636e+07  3.857880e+07   \n",
       "008d0347e572a5d938a9c40c29e539fc     0    NaN  1.272636e+07  3.857880e+07   \n",
       "008d0347e572a5d938a9c40c29e539fc     0    NaN  1.272636e+07  3.857880e+07   \n",
       "008d0347e572a5d938a9c40c29e539fc     0    NaN  1.272636e+07  3.857880e+07   \n",
       "\n",
       "                                  cluster  num_of_pr  num_of_plast  month  \\\n",
       "Скважина                                                                    \n",
       "002ff5b8a6dc271f58581e1b4fa2c5fc      NaN        NaN           NaN      0   \n",
       "002ff5b8a6dc271f58581e1b4fa2c5fc      NaN        NaN           NaN      1   \n",
       "002ff5b8a6dc271f58581e1b4fa2c5fc      NaN        NaN           NaN      2   \n",
       "002ff5b8a6dc271f58581e1b4fa2c5fc      NaN        NaN           NaN      3   \n",
       "002ff5b8a6dc271f58581e1b4fa2c5fc      NaN        NaN           NaN      4   \n",
       "002ff5b8a6dc271f58581e1b4fa2c5fc      NaN        NaN           NaN      5   \n",
       "008d0347e572a5d938a9c40c29e539fc      0.0        NaN           1.0      0   \n",
       "008d0347e572a5d938a9c40c29e539fc      0.0        NaN           1.0      1   \n",
       "008d0347e572a5d938a9c40c29e539fc      0.0        NaN           1.0      2   \n",
       "008d0347e572a5d938a9c40c29e539fc      0.0        NaN           1.0      3   \n",
       "\n",
       "                                  prev_debit    oil_prod  \n",
       "Скважина                                                  \n",
       "002ff5b8a6dc271f58581e1b4fa2c5fc  271.099942  271.099942  \n",
       "002ff5b8a6dc271f58581e1b4fa2c5fc  271.099942  271.099942  \n",
       "002ff5b8a6dc271f58581e1b4fa2c5fc  271.099942  271.099942  \n",
       "002ff5b8a6dc271f58581e1b4fa2c5fc  271.099942  271.099942  \n",
       "002ff5b8a6dc271f58581e1b4fa2c5fc  271.099942  271.099942  \n",
       "002ff5b8a6dc271f58581e1b4fa2c5fc  271.099942  271.099942  \n",
       "008d0347e572a5d938a9c40c29e539fc  471.904099  471.904099  \n",
       "008d0347e572a5d938a9c40c29e539fc  471.904099  471.904099  \n",
       "008d0347e572a5d938a9c40c29e539fc  471.904099  471.904099  \n",
       "008d0347e572a5d938a9c40c29e539fc  471.904099  471.904099  "
      ]
     },
     "execution_count": 422,
     "metadata": {},
     "output_type": "execute_result"
    }
   ],
   "source": [
    "X_test[:10]"
   ]
  },
  {
   "cell_type": "code",
   "execution_count": 423,
   "metadata": {},
   "outputs": [
    {
     "data": {
      "text/html": [
       "<div>\n",
       "<style>\n",
       "    .dataframe thead tr:only-child th {\n",
       "        text-align: right;\n",
       "    }\n",
       "\n",
       "    .dataframe thead th {\n",
       "        text-align: left;\n",
       "    }\n",
       "\n",
       "    .dataframe tbody tr th {\n",
       "        vertical-align: top;\n",
       "    }\n",
       "</style>\n",
       "<table border=\"1\" class=\"dataframe\">\n",
       "  <thead>\n",
       "    <tr style=\"text-align: right;\">\n",
       "      <th></th>\n",
       "      <th>month</th>\n",
       "      <th>oil_prod</th>\n",
       "      <th>prev_debit</th>\n",
       "      <th>frac</th>\n",
       "      <th>press</th>\n",
       "      <th>x_coord</th>\n",
       "      <th>y_coord</th>\n",
       "      <th>cluster</th>\n",
       "      <th>num_of_pr</th>\n",
       "      <th>num_of_plast</th>\n",
       "    </tr>\n",
       "    <tr>\n",
       "      <th>Скважина</th>\n",
       "      <th></th>\n",
       "      <th></th>\n",
       "      <th></th>\n",
       "      <th></th>\n",
       "      <th></th>\n",
       "      <th></th>\n",
       "      <th></th>\n",
       "      <th></th>\n",
       "      <th></th>\n",
       "      <th></th>\n",
       "    </tr>\n",
       "  </thead>\n",
       "  <tbody>\n",
       "    <tr>\n",
       "      <th>005642f48d3e86d871bb701bac2ba042</th>\n",
       "      <td>1</td>\n",
       "      <td>170.00</td>\n",
       "      <td>462.00</td>\n",
       "      <td>1.0</td>\n",
       "      <td>103.150000</td>\n",
       "      <td>NaN</td>\n",
       "      <td>NaN</td>\n",
       "      <td>NaN</td>\n",
       "      <td>2.0</td>\n",
       "      <td>NaN</td>\n",
       "    </tr>\n",
       "    <tr>\n",
       "      <th>005642f48d3e86d871bb701bac2ba042</th>\n",
       "      <td>2</td>\n",
       "      <td>140.00</td>\n",
       "      <td>170.00</td>\n",
       "      <td>1.0</td>\n",
       "      <td>103.150000</td>\n",
       "      <td>NaN</td>\n",
       "      <td>NaN</td>\n",
       "      <td>NaN</td>\n",
       "      <td>2.0</td>\n",
       "      <td>NaN</td>\n",
       "    </tr>\n",
       "    <tr>\n",
       "      <th>005642f48d3e86d871bb701bac2ba042</th>\n",
       "      <td>3</td>\n",
       "      <td>124.00</td>\n",
       "      <td>140.00</td>\n",
       "      <td>1.0</td>\n",
       "      <td>103.150000</td>\n",
       "      <td>NaN</td>\n",
       "      <td>NaN</td>\n",
       "      <td>NaN</td>\n",
       "      <td>2.0</td>\n",
       "      <td>NaN</td>\n",
       "    </tr>\n",
       "    <tr>\n",
       "      <th>005642f48d3e86d871bb701bac2ba042</th>\n",
       "      <td>4</td>\n",
       "      <td>254.00</td>\n",
       "      <td>124.00</td>\n",
       "      <td>1.0</td>\n",
       "      <td>103.150000</td>\n",
       "      <td>NaN</td>\n",
       "      <td>NaN</td>\n",
       "      <td>NaN</td>\n",
       "      <td>2.0</td>\n",
       "      <td>NaN</td>\n",
       "    </tr>\n",
       "    <tr>\n",
       "      <th>005642f48d3e86d871bb701bac2ba042</th>\n",
       "      <td>5</td>\n",
       "      <td>1269.00</td>\n",
       "      <td>254.00</td>\n",
       "      <td>1.0</td>\n",
       "      <td>103.150000</td>\n",
       "      <td>NaN</td>\n",
       "      <td>NaN</td>\n",
       "      <td>NaN</td>\n",
       "      <td>2.0</td>\n",
       "      <td>NaN</td>\n",
       "    </tr>\n",
       "    <tr>\n",
       "      <th>02384c4d1324238fb99fcf66c88fbdad</th>\n",
       "      <td>1</td>\n",
       "      <td>981.00</td>\n",
       "      <td>458.00</td>\n",
       "      <td>1.0</td>\n",
       "      <td>218.566667</td>\n",
       "      <td>NaN</td>\n",
       "      <td>NaN</td>\n",
       "      <td>NaN</td>\n",
       "      <td>3.0</td>\n",
       "      <td>NaN</td>\n",
       "    </tr>\n",
       "    <tr>\n",
       "      <th>02384c4d1324238fb99fcf66c88fbdad</th>\n",
       "      <td>2</td>\n",
       "      <td>757.00</td>\n",
       "      <td>981.00</td>\n",
       "      <td>1.0</td>\n",
       "      <td>218.566667</td>\n",
       "      <td>NaN</td>\n",
       "      <td>NaN</td>\n",
       "      <td>NaN</td>\n",
       "      <td>3.0</td>\n",
       "      <td>NaN</td>\n",
       "    </tr>\n",
       "    <tr>\n",
       "      <th>02384c4d1324238fb99fcf66c88fbdad</th>\n",
       "      <td>3</td>\n",
       "      <td>730.00</td>\n",
       "      <td>757.00</td>\n",
       "      <td>1.0</td>\n",
       "      <td>218.566667</td>\n",
       "      <td>NaN</td>\n",
       "      <td>NaN</td>\n",
       "      <td>NaN</td>\n",
       "      <td>3.0</td>\n",
       "      <td>NaN</td>\n",
       "    </tr>\n",
       "    <tr>\n",
       "      <th>02384c4d1324238fb99fcf66c88fbdad</th>\n",
       "      <td>4</td>\n",
       "      <td>639.57</td>\n",
       "      <td>730.00</td>\n",
       "      <td>1.0</td>\n",
       "      <td>218.566667</td>\n",
       "      <td>NaN</td>\n",
       "      <td>NaN</td>\n",
       "      <td>NaN</td>\n",
       "      <td>3.0</td>\n",
       "      <td>NaN</td>\n",
       "    </tr>\n",
       "    <tr>\n",
       "      <th>02384c4d1324238fb99fcf66c88fbdad</th>\n",
       "      <td>5</td>\n",
       "      <td>639.57</td>\n",
       "      <td>639.57</td>\n",
       "      <td>1.0</td>\n",
       "      <td>218.566667</td>\n",
       "      <td>NaN</td>\n",
       "      <td>NaN</td>\n",
       "      <td>NaN</td>\n",
       "      <td>3.0</td>\n",
       "      <td>NaN</td>\n",
       "    </tr>\n",
       "  </tbody>\n",
       "</table>\n",
       "</div>"
      ],
      "text/plain": [
       "                                  month  oil_prod  prev_debit  frac  \\\n",
       "Скважина                                                              \n",
       "005642f48d3e86d871bb701bac2ba042      1    170.00      462.00   1.0   \n",
       "005642f48d3e86d871bb701bac2ba042      2    140.00      170.00   1.0   \n",
       "005642f48d3e86d871bb701bac2ba042      3    124.00      140.00   1.0   \n",
       "005642f48d3e86d871bb701bac2ba042      4    254.00      124.00   1.0   \n",
       "005642f48d3e86d871bb701bac2ba042      5   1269.00      254.00   1.0   \n",
       "02384c4d1324238fb99fcf66c88fbdad      1    981.00      458.00   1.0   \n",
       "02384c4d1324238fb99fcf66c88fbdad      2    757.00      981.00   1.0   \n",
       "02384c4d1324238fb99fcf66c88fbdad      3    730.00      757.00   1.0   \n",
       "02384c4d1324238fb99fcf66c88fbdad      4    639.57      730.00   1.0   \n",
       "02384c4d1324238fb99fcf66c88fbdad      5    639.57      639.57   1.0   \n",
       "\n",
       "                                       press  x_coord  y_coord  cluster  \\\n",
       "Скважина                                                                  \n",
       "005642f48d3e86d871bb701bac2ba042  103.150000      NaN      NaN      NaN   \n",
       "005642f48d3e86d871bb701bac2ba042  103.150000      NaN      NaN      NaN   \n",
       "005642f48d3e86d871bb701bac2ba042  103.150000      NaN      NaN      NaN   \n",
       "005642f48d3e86d871bb701bac2ba042  103.150000      NaN      NaN      NaN   \n",
       "005642f48d3e86d871bb701bac2ba042  103.150000      NaN      NaN      NaN   \n",
       "02384c4d1324238fb99fcf66c88fbdad  218.566667      NaN      NaN      NaN   \n",
       "02384c4d1324238fb99fcf66c88fbdad  218.566667      NaN      NaN      NaN   \n",
       "02384c4d1324238fb99fcf66c88fbdad  218.566667      NaN      NaN      NaN   \n",
       "02384c4d1324238fb99fcf66c88fbdad  218.566667      NaN      NaN      NaN   \n",
       "02384c4d1324238fb99fcf66c88fbdad  218.566667      NaN      NaN      NaN   \n",
       "\n",
       "                                  num_of_pr  num_of_plast  \n",
       "Скважина                                                   \n",
       "005642f48d3e86d871bb701bac2ba042        2.0           NaN  \n",
       "005642f48d3e86d871bb701bac2ba042        2.0           NaN  \n",
       "005642f48d3e86d871bb701bac2ba042        2.0           NaN  \n",
       "005642f48d3e86d871bb701bac2ba042        2.0           NaN  \n",
       "005642f48d3e86d871bb701bac2ba042        2.0           NaN  \n",
       "02384c4d1324238fb99fcf66c88fbdad        3.0           NaN  \n",
       "02384c4d1324238fb99fcf66c88fbdad        3.0           NaN  \n",
       "02384c4d1324238fb99fcf66c88fbdad        3.0           NaN  \n",
       "02384c4d1324238fb99fcf66c88fbdad        3.0           NaN  \n",
       "02384c4d1324238fb99fcf66c88fbdad        3.0           NaN  "
      ]
     },
     "execution_count": 423,
     "metadata": {},
     "output_type": "execute_result"
    }
   ],
   "source": [
    "X[:10]"
   ]
  },
  {
   "cell_type": "code",
   "execution_count": 424,
   "metadata": {},
   "outputs": [],
   "source": [
    "xy = X[['month', 'oil_prod', 'prev_debit']].dropna()\n",
    "x = xy[['month', 'prev_debit']]\n",
    "y = xy.oil_prod"
   ]
  },
  {
   "cell_type": "code",
   "execution_count": 425,
   "metadata": {},
   "outputs": [],
   "source": [
    "x = pd.get_dummies(x, columns=['month'])"
   ]
  },
  {
   "cell_type": "code",
   "execution_count": 426,
   "metadata": {},
   "outputs": [],
   "source": [
    "x = scaler.fit_transform(x)"
   ]
  },
  {
   "cell_type": "code",
   "execution_count": 427,
   "metadata": {},
   "outputs": [
    {
     "data": {
      "text/plain": [
       "177.77762614658914"
      ]
     },
     "execution_count": 427,
     "metadata": {},
     "output_type": "execute_result"
    }
   ],
   "source": [
    "pred_svm = SVR('linear')\n",
    "cross_val_score(pred_svm, x, y, cv=10, scoring=make_scorer(mae)).mean()"
   ]
  },
  {
   "cell_type": "code",
   "execution_count": 428,
   "metadata": {},
   "outputs": [
    {
     "data": {
      "text/plain": [
       "SVR(C=1.0, cache_size=200, coef0=0.0, degree=3, epsilon=0.1, gamma='auto',\n",
       "  kernel='linear', max_iter=-1, shrinking=True, tol=0.001, verbose=False)"
      ]
     },
     "execution_count": 428,
     "metadata": {},
     "output_type": "execute_result"
    }
   ],
   "source": [
    "pred_svm.fit(x, y)"
   ]
  },
  {
   "cell_type": "code",
   "execution_count": 429,
   "metadata": {},
   "outputs": [],
   "source": [
    "preds = pd.get_dummies(X_test[['month', 'prev_debit']], columns=['month'])\n",
    "preds = preds[preds.month_0 != 1]\n",
    "preds = preds.drop('month_0', 1)"
   ]
  },
  {
   "cell_type": "code",
   "execution_count": 431,
   "metadata": {},
   "outputs": [],
   "source": [
    "s = starting_oil_pred.size\n",
    "pred_0 = np.zeros(s)\n",
    "pred_1 = np.zeros(s)\n",
    "pred_2 = np.zeros(s)\n",
    "pred_3 = np.zeros(s)\n",
    "pred_4 = np.zeros(s)\n",
    "pred_5 = np.zeros(s)"
   ]
  },
  {
   "cell_type": "code",
   "execution_count": 432,
   "metadata": {},
   "outputs": [
    {
     "name": "stderr",
     "output_type": "stream",
     "text": [
      "/Users/aramdavtyan/datascience-env/lib/python3.6/site-packages/ipykernel_launcher.py:3: SettingWithCopyWarning: \n",
      "A value is trying to be set on a copy of a slice from a DataFrame\n",
      "\n",
      "See the caveats in the documentation: http://pandas.pydata.org/pandas-docs/stable/indexing.html#indexing-view-versus-copy\n",
      "  This is separate from the ipykernel package so we can avoid doing imports until\n",
      "/Users/aramdavtyan/datascience-env/lib/python3.6/site-packages/ipykernel_launcher.py:5: SettingWithCopyWarning: \n",
      "A value is trying to be set on a copy of a slice from a DataFrame\n",
      "\n",
      "See the caveats in the documentation: http://pandas.pydata.org/pandas-docs/stable/indexing.html#indexing-view-versus-copy\n",
      "  \"\"\"\n",
      "/Users/aramdavtyan/datascience-env/lib/python3.6/site-packages/ipykernel_launcher.py:7: SettingWithCopyWarning: \n",
      "A value is trying to be set on a copy of a slice from a DataFrame\n",
      "\n",
      "See the caveats in the documentation: http://pandas.pydata.org/pandas-docs/stable/indexing.html#indexing-view-versus-copy\n",
      "  import sys\n",
      "/Users/aramdavtyan/datascience-env/lib/python3.6/site-packages/ipykernel_launcher.py:9: SettingWithCopyWarning: \n",
      "A value is trying to be set on a copy of a slice from a DataFrame\n",
      "\n",
      "See the caveats in the documentation: http://pandas.pydata.org/pandas-docs/stable/indexing.html#indexing-view-versus-copy\n",
      "  if __name__ == '__main__':\n",
      "/Users/aramdavtyan/datascience-env/lib/python3.6/site-packages/ipykernel_launcher.py:11: SettingWithCopyWarning: \n",
      "A value is trying to be set on a copy of a slice from a DataFrame\n",
      "\n",
      "See the caveats in the documentation: http://pandas.pydata.org/pandas-docs/stable/indexing.html#indexing-view-versus-copy\n",
      "  # This is added back by InteractiveShellApp.init_path()\n"
     ]
    }
   ],
   "source": [
    "pred_0[~gas_0] = starting_oil_pred[~gas_0]\n",
    "pred_1[gas_0] = starting_oil_pred[gas_0]\n",
    "preds['prev_debit'][preds.month_1 == 1] = pred_0\n",
    "pred_1[~gas_0] = pred_svm.predict(scaler.transform(preds[preds.month_1 == 1][~gas_0]))\n",
    "preds['prev_debit'][preds.month_2 == 1] = pred_1\n",
    "pred_2 = pred_svm.predict(scaler.transform(preds[preds.month_2 == 1]))\n",
    "preds['prev_debit'][preds.month_3 == 1] = pred_2\n",
    "pred_3 = pred_svm.predict(scaler.transform(preds[preds.month_3 == 1]))\n",
    "preds['prev_debit'][preds.month_4 == 1] = pred_3\n",
    "pred_4 = pred_svm.predict(scaler.transform(preds[preds.month_4 == 1]))\n",
    "preds['prev_debit'][preds.month_5 == 1] = pred_4\n",
    "pred_5 = pred_svm.predict(scaler.transform(preds[preds.month_5 == 1]))"
   ]
  },
  {
   "cell_type": "code",
   "execution_count": 434,
   "metadata": {},
   "outputs": [],
   "source": [
    "oil_series = np.stack([pred_0, pred_1, pred_2, pred_3, pred_4, pred_5], 1)"
   ]
  },
  {
   "cell_type": "code",
   "execution_count": 436,
   "metadata": {},
   "outputs": [
    {
     "data": {
      "text/plain": [
       "(266, 6)"
      ]
     },
     "execution_count": 436,
     "metadata": {},
     "output_type": "execute_result"
    }
   ],
   "source": [
    "oil_series.shape"
   ]
  },
  {
   "cell_type": "code",
   "execution_count": 437,
   "metadata": {},
   "outputs": [
    {
     "data": {
      "text/plain": [
       "<matplotlib.axes._subplots.AxesSubplot at 0x113eb76a0>"
      ]
     },
     "execution_count": 437,
     "metadata": {},
     "output_type": "execute_result"
    },
    {
     "data": {
      "image/png": "[encoded data removed]",
      "text/plain": [
       "<matplotlib.figure.Figure at 0x113ed8a90>"
      ]
     },
     "metadata": {},
     "output_type": "display_data"
    }
   ],
   "source": [
    "plt.figure(figsize=(16, 10))\n",
    "pd.DataFrame(oil_series).boxplot()"
   ]
  },
  {
   "cell_type": "code",
   "execution_count": 368,
   "metadata": {},
   "outputs": [],
   "source": [
    "oil_series = 2*oil_series"
   ]
  },
  {
   "cell_type": "code",
   "execution_count": 369,
   "metadata": {},
   "outputs": [],
   "source": [
    "# pd.DataFrame(oil_series.reshape(-1, 1)).to_csv('./predictions.csv')"
   ]
  }
 ],
 "metadata": {
  "kernelspec": {
   "display_name": "Python 3",
   "language": "python",
   "name": "python3"
  },
  "language_info": {
   "codemirror_mode": {
    "name": "ipython",
    "version": 3
   },
   "file_extension": ".py",
   "mimetype": "text/x-python",
   "name": "python",
   "nbconvert_exporter": "python",
   "pygments_lexer": "ipython3",
   "version": "3.6.3"
  }
 },
 "nbformat": 4,
 "nbformat_minor": 2
}
