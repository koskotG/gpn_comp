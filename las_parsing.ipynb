{
 "cells": [
  {
   "cell_type": "code",
   "execution_count": null,
   "metadata": {},
   "outputs": [],
   "source": [
    "import numpy as np\n",
    "import pandas as pd\n",
    "from matplotlib import pyplot as plt\n",
    "\n",
    "from os import listdir\n",
    "from sklearn.preprocessing import MinMaxScaler\n",
    "from sklearn.cluster import KMeans, SpectralClustering\n",
    "import lasio\n",
    "from sklearn.metrics import mean_absolute_error as mae\n",
    "import itertools"
   ]
  },
  {
   "cell_type": "code",
   "execution_count": null,
   "metadata": {},
   "outputs": [],
   "source": [
    "las_files = listdir('init/1/las_train2/')"
   ]
  },
  {
   "cell_type": "code",
   "execution_count": null,
   "metadata": {},
   "outputs": [],
   "source": [
    "las = {}\n",
    "for las_file in las_files[:]:\n",
    "    las[las_file[:-4]] = (lasio.read('init/1/las_train2/{}'.format(las_file))).df()"
   ]
  },
  {
   "cell_type": "code",
   "execution_count": null,
   "metadata": {},
   "outputs": [],
   "source": [
    "def stats_add(logs, stats):\n",
    "    new_cols = []\n",
    "    for log in logs:\n",
    "        for stat in stats:\n",
    "            new_cols.append(log + '_' + stat)\n",
    "    return new_cols"
   ]
  },
  {
   "cell_type": "code",
   "execution_count": null,
   "metadata": {},
   "outputs": [],
   "source": [
    "stats = ['mean', 'median', 'min', 'max']\n",
    "logs = ['GK', 'BK']#, 'KGL']#'SP']#, 'IK', 'GZ1']\n",
    "new_cols = stats_add(logs, stats)"
   ]
  },
  {
   "cell_type": "code",
   "execution_count": null,
   "metadata": {},
   "outputs": [],
   "source": [
    "def extract_las_feat(las, logs, stats):\n",
    "    new_cols = stats_add(logs, stats)\n",
    "    df_las_feat = pd.DataFrame(np.zeros((len(las), len(new_cols))),\n",
    "                              index = list(las.keys()),\n",
    "                              columns = new_cols\n",
    "                              )\n",
    "    #anoms = {}\n",
    "    #conc_df = []\n",
    "    bad_wells = []\n",
    "    i=1\n",
    "    for well in las.keys():\n",
    "        km_anom = KMeans(n_clusters=2)\n",
    "    #sc_anom = SpectralClustering(n_clusters=2, n_neighbors=500)\n",
    "    #log_scaler = MinMaxScaler()\n",
    "\n",
    "        X_temp = las[well].loc[2500:, logs].dropna()\n",
    "        if all(X_temp.any()):\n",
    "        #X = pd.DataFrame(log_scaler.fit_transform(X_temp[X_temp[logs[0]] >0].ewm(span=50).mean()),\n",
    "        #                 index = X_temp[X_temp[logs[0]] >0].index,\n",
    "         #                columns = X_temp.columns\n",
    "         #               )\n",
    "            X = X_temp[X_temp[logs[0]] >0].ewm(span=50).mean()\n",
    "        #conc_df.append(X.values)\n",
    "    \n",
    "           \n",
    "            df_anom = pd.DataFrame(km_anom.fit_predict(X),\n",
    "                                   index = X.index,\n",
    "                                   columns = ['anom']\n",
    "                                   )\n",
    "            X = X.join(df_anom)\n",
    "            for log in logs:\n",
    "                if X.loc[(X['anom']==1), 'anom'].count() > X.loc[(X['anom']==0), 'anom'].count():\n",
    "                    anom_value = 0\n",
    "                    df_las_feat.loc[well, 'thick'] = X.loc[(X['anom']==0), 'anom'].count()/10\n",
    "                else:\n",
    "                    anom_value = 1\n",
    "                    df_las_feat.loc[well, 'thick'] = X.loc[(X['anom']==1), 'anom'].count()/10\n",
    "                df_las_feat.loc[well, log+'_mean'] = X.loc[(X['anom']==anom_value) & (X[logs[0]]>0), log].mean()\n",
    "                df_las_feat.loc[well, log+'_median'] = X.loc[(X['anom']==anom_value) & (X[logs[0]]>0), log].median()\n",
    "                df_las_feat.loc[well, log+'_min'] = X.loc[(X['anom']==anom_value) & (X[logs[0]]>0), log].min()\n",
    "                df_las_feat.loc[well, log+'_max'] = X.loc[(X['anom']==anom_value) & (X[logs[0]]>0), log].max()\n",
    "   \n",
    "        else:\n",
    "            bad_wells.append(well)\n",
    "        i += 1\n",
    "        print('well {} is done'.format(i))\n",
    "    return df_las_feat, bad_wells"
   ]
  },
  {
   "cell_type": "code",
   "execution_count": null,
   "metadata": {},
   "outputs": [],
   "source": [
    "df_las_feat, bad_wells = extract_las_feat(las, logs, stats)"
   ]
  },
  {
   "cell_type": "code",
   "execution_count": null,
   "metadata": {},
   "outputs": [],
   "source": [
    "df_las_feat.to_csv('./init/las_feat_train.csv')"
   ]
  },
  {
   "cell_type": "code",
   "execution_count": null,
   "metadata": {},
   "outputs": [],
   "source": [
    "del las"
   ]
  },
  {
   "cell_type": "code",
   "execution_count": null,
   "metadata": {
    "scrolled": true
   },
   "outputs": [],
   "source": [
    "well = '02dba139f57f4aa50c3fbf56f586551f'\n",
    "anoms[well][logs+['anom']].plot()\n",
    "#anoms[well][logs].plot()\n",
    "#las[well][logs].plot()\n",
    "ax = plt.gca()\n",
    "#ax.plot(las[well][logs], c='y')\n",
    "ax.set_xlim(anoms[well].index.min(), anoms[well].index.max())\n",
    "#ax.set_ylim(0, 1.2)\n",
    "ax.legend()"
   ]
  },
  {
   "cell_type": "code",
   "execution_count": null,
   "metadata": {},
   "outputs": [],
   "source": [
    "def extract_las_feat_full(las, logs, stats):\n",
    "    df_las_feat = pd.DataFrame(np.zeros((len(las), len(new_cols))),\n",
    "                              index = list(las.keys()),\n",
    "                              columns = new_cols\n",
    "                              )\n",
    "    anoms = {}\n",
    "    conc_df = []\n",
    "    bad_wells = []\n",
    "    i=1\n",
    "    for well in las.keys():\n",
    "        km_anom = KMeans(n_clusters=2)\n",
    "    #sc_anom = SpectralClustering(n_clusters=2, n_neighbors=500)\n",
    "        log_scaler = MinMaxScaler()\n",
    "\n",
    "        X_temp = las[well].loc[2000:, logs].dropna()\n",
    "        if all(X_temp.any()):\n",
    "        #anoms[well] = pd.DataFrame(log_scaler.fit_transform(X_temp[X_temp[logs[0]] >0].ewm(span=50).mean()),\n",
    "        #                 index = X_temp[X_temp[logs[0]] >0].index,\n",
    "         #                columns = X_temp.columns\n",
    "         #               )\n",
    "            anoms[well] = X_temp[X_temp[logs[0]] >0].ewm(span=50).mean()\n",
    "        #conc_df.append(anoms[well].values)\n",
    "    \n",
    "           \n",
    "            df_anom = pd.DataFrame(km_anom.fit_predict(anoms[well]),\n",
    "                               index = anoms[well].index,\n",
    "                               columns = ['anom']\n",
    "                               )\n",
    "            anoms[well] = anoms[well].join(df_anom)\n",
    "            for log in logs:\n",
    "                if anoms[well].loc[(anoms[well]['anom']==1), 'anom'].count() > anoms[well].loc[(anoms[well]['anom']==0), 'anom'].count():\n",
    "                    anom_value = 0\n",
    "                    df_las_feat.loc[well, 'thick'] = anoms[well].loc[(anoms[well]['anom']==0), 'anom'].count()/10\n",
    "                else:\n",
    "                    anom_value = 1\n",
    "                    df_las_feat.loc[well, 'thick'] = anoms[well].loc[(anoms[well]['anom']==1), 'anom'].count()/10\n",
    "                df_las_feat.loc[well, log+'_mean'] = anoms[well].loc[(anoms[well]['anom']==anom_value) & (anoms[well][logs[0]]>0), log].mean()\n",
    "                df_las_feat.loc[well, log+'_median'] = anoms[well].loc[(anoms[well]['anom']==anom_value) & (anoms[well][logs[0]]>0), log].median()\n",
    "                df_las_feat.loc[well, log+'_min'] = anoms[well].loc[(anoms[well]['anom']==anom_value) & (anoms[well][logs[0]]>0), log].min()\n",
    "                df_las_feat.loc[well, log+'_max'] = anoms[well].loc[(anoms[well]['anom']==anom_value) & (anoms[well][logs[0]]>0), log].max()\n",
    "   \n",
    "        else:\n",
    "            bad_wells.append(well)  \n",
    "        i += 1\n",
    "        print('well {} is done'.format(i))\n",
    "    return df_las_feat, bad_wells"
   ]
  },
  {
   "cell_type": "code",
   "execution_count": null,
   "metadata": {},
   "outputs": [],
   "source": []
  }
 ],
 "metadata": {
  "kernelspec": {
   "display_name": "Python 3",
   "language": "python",
   "name": "python3"
  },
  "language_info": {
   "codemirror_mode": {
    "name": "ipython",
    "version": 3
   },
   "file_extension": ".py",
   "mimetype": "text/x-python",
   "name": "python",
   "nbconvert_exporter": "python",
   "pygments_lexer": "ipython3",
   "version": "3.6.5"
  }
 },
 "nbformat": 4,
 "nbformat_minor": 2
}
