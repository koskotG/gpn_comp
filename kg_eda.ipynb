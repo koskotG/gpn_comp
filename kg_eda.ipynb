{
 "cells": [
  {
   "cell_type": "code",
   "execution_count": 1,
   "metadata": {
    "ExecuteTime": {
     "end_time": "2018-09-25T17:01:59.332180Z",
     "start_time": "2018-09-25T17:01:57.172758Z"
    }
   },
   "outputs": [],
   "source": [
    "import numpy as np\n",
    "import pandas as pd\n",
    "from matplotlib import pyplot as plt\n",
    "from itertools import repeat\n",
    "import seaborn as sns\n",
    "from sklearn.preprocessing import MinMaxScaler\n",
    "%matplotlib inline"
   ]
  },
  {
   "cell_type": "code",
   "execution_count": 2,
   "metadata": {
    "ExecuteTime": {
     "end_time": "2018-09-25T17:01:59.346851Z",
     "start_time": "2018-09-25T17:01:59.341631Z"
    }
   },
   "outputs": [],
   "source": [
    "def conv(s):\n",
    "    if s == '':\n",
    "        return np.nan\n",
    "    return float(s.replace(',', '.'))\n",
    "\n",
    "columns_to_conv = ['Нефть, т', 'Конденсат, т', 'Приемистость, м3/сут', 'Обводненность (вес), %', 'Нефть, м3', 'Жидкость, м3', \\\n",
    "                    'Дебит конденсата', 'Добыча растворенного газа, м3', 'Дебит попутного газа, м3/сут']\n",
    "convertors = dict(zip(columns_to_conv, repeat(conv.__call__, len(columns_to_conv))))\n",
    "\n",
    "def conv_date(x):\n",
    "    if x.day != 1:\n",
    "        return (x + pd.offsets.MonthBegin(1))\n",
    "    else:\n",
    "        return x"
   ]
  },
  {
   "cell_type": "markdown",
   "metadata": {},
   "source": [
    "### Загружаем данные"
   ]
  },
  {
   "cell_type": "code",
   "execution_count": 3,
   "metadata": {
    "ExecuteTime": {
     "end_time": "2018-09-25T17:02:01.420257Z",
     "start_time": "2018-09-25T17:02:01.171909Z"
    }
   },
   "outputs": [],
   "source": [
    "df_train = pd.read_csv('init/1/train_1.8.csv', header = 0 ,encoding = 'cp1251', parse_dates = ['Дата'], converters= convertors)\n",
    "df_test = pd.read_csv('init/1/test_1.9.csv', header = 0 ,encoding = 'cp1251', parse_dates = ['Дата'], converters= convertors)\n",
    "\n",
    "df_coord_train = pd.read_csv('init/1/coords_train_1.1.csv', header = 0,encoding = 'cp1251')\n",
    "df_coord_test = pd.read_csv('init/1/coords_test_1.1.csv', header = 0,encoding = 'cp1251')\n",
    "df_coord_train = df_coord_train.rename(columns={'well_hash' : 'Скважина'})\n",
    "df_coord_test = df_coord_test.rename(columns={'well_hash' : 'Скважина'})\n",
    "\n",
    "df_frac_train = pd.read_csv('init/1/frac_train_1.csv', header = 0,encoding = 'cp1251')\n",
    "df_frac_test = pd.read_csv('init/1/frac_test_1.csv', header = 0,encoding = 'cp1251')\n",
    "\n",
    "df_gdis_train = pd.read_csv('init/1/gdis_train1.2.csv', header = 0,encoding = 'cp1251')\n",
    "df_gdis_test = pd.read_csv('init/1/gdis_test1.2.csv', header = 0,encoding = 'cp1251')\n",
    "df_gdis_train_gr = df_gdis_train.groupby('Скважина').mean().reset_index()\n",
    "df_gdis_test_gr = df_gdis_test.groupby('Скважина').mean().reset_index()"
   ]
  },
  {
   "cell_type": "markdown",
   "metadata": {},
   "source": [
    "### Центруем координаты (может и не надо)"
   ]
  },
  {
   "cell_type": "code",
   "execution_count": 4,
   "metadata": {
    "ExecuteTime": {
     "end_time": "2018-09-25T17:02:02.182403Z",
     "start_time": "2018-09-25T17:02:02.155901Z"
    }
   },
   "outputs": [],
   "source": [
    "df_coord_train['x'] = df_coord_train['ПЛАСТ_X'].astype(dtype='int32')\n",
    "df_coord_train['y'] = df_coord_train['ПЛАСТ_Y'].astype(dtype='int32')\n",
    "df_coord_train['x'] = df_coord_train['x'] - df_coord_train['x'].mean()\n",
    "df_coord_train['y'] = df_coord_train['y'] - df_coord_train['y'].mean()\n",
    "\n",
    "df_coord_train['x_head'] = df_coord_train['УСТЬЕ_X'].astype(dtype='int32')\n",
    "df_coord_train['y_head'] = df_coord_train['УСТЬЕ_Y'].astype(dtype='int32')\n",
    "df_coord_train['x_head'] = df_coord_train['x_head'] - df_coord_train['x_head'].mean()\n",
    "df_coord_train['x_head'] = df_coord_train['x_head'] - df_coord_train['x_head'].mean()"
   ]
  },
  {
   "cell_type": "code",
   "execution_count": null,
   "metadata": {
    "ExecuteTime": {
     "end_time": "2018-09-25T17:02:02.955950Z",
     "start_time": "2018-09-25T17:02:02.861432Z"
    }
   },
   "outputs": [],
   "source": [
    "%matplotlib notebook\n",
    "plt.figure(figsize=(10,10))\n",
    "plt.scatter(df_coord_train.drop_duplicates('well_hash', 'first')['ПЛАСТ_X'], \n",
    "            df_coord_train.drop_duplicates('well_hash', 'first')['ПЛАСТ_Y'], color = 'g', label='train')\n",
    "plt.scatter(df_coord_test.drop_duplicates('well_hash', 'first')['ПЛАСТ_X'], \n",
    "            df_coord_test.drop_duplicates('well_hash', 'first')['ПЛАСТ_Y'], color = 'r', label='test')\n",
    "plt.legend()"
   ]
  },
  {
   "cell_type": "code",
   "execution_count": 6,
   "metadata": {
    "ExecuteTime": {
     "end_time": "2018-09-25T17:02:09.755708Z",
     "start_time": "2018-09-25T17:02:09.745999Z"
    }
   },
   "outputs": [],
   "source": [
    "w_coord_train = df_coord_train['Скважина'].unique()\n",
    "w_coord_test = df_coord_test['Скважина'].unique()\n",
    "w_train = df_train['Скважина'].unique()\n",
    "w_test = df_test['Скважина'].unique()\n",
    "w_frac_train = df_frac_train['Скважина'].unique()\n",
    "w_frac_test = df_frac_test['Скважина'].unique()\n",
    "w_gdis_train = df_gdis_train['Скважина'].unique()\n",
    "w_gdis_test = df_gdis_test['Скважина'].unique()"
   ]
  },
  {
   "cell_type": "code",
   "execution_count": 7,
   "metadata": {
    "ExecuteTime": {
     "end_time": "2018-09-25T17:02:10.336588Z",
     "start_time": "2018-09-25T17:02:10.326520Z"
    },
    "collapsed": true
   },
   "outputs": [
    {
     "name": "stdout",
     "output_type": "stream",
     "text": [
      "# of wells in train:  563\n",
      "# of wells in coord train:  234\n",
      "# of wells intersect train and coord train:  233\n",
      "# of wells in frac train:  490\n",
      "# of wells in gdis train:  388\n"
     ]
    }
   ],
   "source": [
    "print('# of wells in train: ', len(w_train))\n",
    "print('# of wells in coord train: ', len(w_coord_train))\n",
    "print('# of wells intersect train and coord train: ', len(list(set(w_train) & set(w_coord_train))))\n",
    "print('# of wells in frac train: ', len(w_frac_train))\n",
    "print('# of wells in gdis train: ', len(w_gdis_train))"
   ]
  },
  {
   "cell_type": "code",
   "execution_count": 8,
   "metadata": {
    "ExecuteTime": {
     "end_time": "2018-09-25T17:02:10.956187Z",
     "start_time": "2018-09-25T17:02:10.946516Z"
    },
    "collapsed": true
   },
   "outputs": [
    {
     "name": "stdout",
     "output_type": "stream",
     "text": [
      "# of wells in test:  266\n",
      "# of wells in coord test:  137\n",
      "# of wells in frac test:  193\n",
      "# of wells in gdis test:  106\n"
     ]
    }
   ],
   "source": [
    "print('# of wells in test: ', len(w_test))\n",
    "print('# of wells in coord test: ', len(w_coord_test))\n",
    "print('# of wells in frac test: ', len(w_frac_test))\n",
    "print('# of wells in gdis test: ', len(w_gdis_test))"
   ]
  },
  {
   "cell_type": "markdown",
   "metadata": {},
   "source": [
    "### Рассчитаем нужные свойства и объединим стобцы"
   ]
  },
  {
   "cell_type": "code",
   "execution_count": 9,
   "metadata": {
    "ExecuteTime": {
     "end_time": "2018-09-25T17:02:12.292628Z",
     "start_time": "2018-09-25T17:02:12.122193Z"
    }
   },
   "outputs": [],
   "source": [
    "df_train.loc[:, 'Дата'] = df_train['Дата'].apply(conv_date)\n",
    "\n",
    "df_train['days_on'] = df_train['Время работы, ч']/24\n",
    "\n",
    "df_train['oil_rate'] = df_train['Нефть, м3']/(df_train['Время работы, ч']/24)\n",
    "\n",
    "df_train['oil_prod'] = df_train['Нефть, т']\n",
    "\n",
    "df_train['liq_rate'] = df_train['Жидкость, м3']/(df_train['Время работы, ч']/24)\n",
    "\n",
    "df_train.loc[df_train['liq_rate'].isnull(), 'liq_rate'] = df_train[df_train['liq_rate'].isnull()]['Дебит жидкости']\n",
    "\n",
    "df_train.loc[df_train['oil_rate'].isnull(), 'oil_rate'] = df_train[df_train['oil_rate'].isnull()]['liq_rate'] \\\n",
    "                                                            *(1-df_train[df_train['oil_rate'].isnull()]['Обводненность']/100)\n",
    "\n",
    "df_train['wct'] = 1 - df_train['Нефть, м3']/df_train['Жидкость, м3']\n",
    "df_train.loc[df_train['wct'].isnull(), 'wct'] = df_train.loc[df_train['wct'].isnull(), 'Обводненность']/100\n",
    "\n",
    "df_train['gas_rate'] = df_train['Попутный газ, м3']/(df_train['Время работы, ч']/24)\n",
    "df_train.loc[df_train['gas_rate'].isnull(), 'gas_rate'] = df_train[df_train['gas_rate'].isnull()]['Газовый фактор']* \\\n",
    "                                                           df_train[df_train['gas_rate'].isnull()]['oil_rate'] \n",
    "\n",
    "df_train['gas_prod'] = df_train['Попутный газ, м3']\n",
    "\n",
    "df_train['gf'] = df_train['Попутный газ, м3']/df_train['Нефть, т']\n",
    "df_train.loc[df_train['gf'].isnull(), 'gf'] = df_train[df_train['gf'].isnull()]['Газовый фактор']\n",
    "\n",
    "df_train['state'] = df_train['Состояние']\n",
    "df_train.loc[df_train['state'].isnull(), 'state'] = df_train.loc[df_train['state'].isnull(), 'Состояние на конец месяца'] \n",
    "\n",
    "df_train['frac'] = df_train['Скважина'].apply(lambda x: x in df_frac_train['Скважина'].values).astype(int)"
   ]
  },
  {
   "cell_type": "code",
   "execution_count": 11,
   "metadata": {
    "ExecuteTime": {
     "end_time": "2018-09-25T17:02:14.675392Z",
     "start_time": "2018-09-25T17:02:14.672194Z"
    }
   },
   "outputs": [],
   "source": [
    "cols_of_interest = ['Скважина', 'Дата', 'liq_rate', 'oil_rate', 'wct', 'gas_rate', \\\n",
    "                    'gf', 'gas_prod', 'days_on', 'oil_prod', 'frac']\n",
    "#df_train[['Скважина', 'Дата', 'liq_rate', 'oil_rate', 'wct', 'gas_rate', 'gf','Жидкость, м3', 'Нефть, м3', 'Время работы, ч', 'Дебит жидкости', 'Обводненность']]"
   ]
  },
  {
   "cell_type": "markdown",
   "metadata": {},
   "source": [
    "### Объединим все"
   ]
  },
  {
   "cell_type": "code",
   "execution_count": 25,
   "metadata": {},
   "outputs": [],
   "source": [
    "df_all_train = df_train[cols_of_interest].set_index('Скважина'). \\\n",
    "                join(df_gdis_train_gr.set_index('Скважина')). \\\n",
    "                join(df_coord_train[['Скважина', 'ПЛАСТ_X', 'ПЛАСТ_Y']].set_index('Скважина')).reset_index()"
   ]
  },
  {
   "cell_type": "code",
   "execution_count": 26,
   "metadata": {},
   "outputs": [
    {
     "data": {
      "text/html": [
       "<div>\n",
       "<style scoped>\n",
       "    .dataframe tbody tr th:only-of-type {\n",
       "        vertical-align: middle;\n",
       "    }\n",
       "\n",
       "    .dataframe tbody tr th {\n",
       "        vertical-align: top;\n",
       "    }\n",
       "\n",
       "    .dataframe thead th {\n",
       "        text-align: right;\n",
       "    }\n",
       "</style>\n",
       "<table border=\"1\" class=\"dataframe\">\n",
       "  <thead>\n",
       "    <tr style=\"text-align: right;\">\n",
       "      <th></th>\n",
       "      <th>Скважина</th>\n",
       "      <th>Дата</th>\n",
       "      <th>liq_rate</th>\n",
       "      <th>oil_rate</th>\n",
       "      <th>wct</th>\n",
       "      <th>gas_rate</th>\n",
       "      <th>gf</th>\n",
       "      <th>gas_prod</th>\n",
       "      <th>days_on</th>\n",
       "      <th>oil_prod</th>\n",
       "      <th>frac</th>\n",
       "      <th>Давление пластовое</th>\n",
       "      <th>ПЛАСТ_X</th>\n",
       "      <th>ПЛАСТ_Y</th>\n",
       "    </tr>\n",
       "  </thead>\n",
       "  <tbody>\n",
       "    <tr>\n",
       "      <th>0</th>\n",
       "      <td>005642f48d3e86d871bb701bac2ba042</td>\n",
       "      <td>2005-06-01</td>\n",
       "      <td>29.777778</td>\n",
       "      <td>29.722222</td>\n",
       "      <td>0.001866</td>\n",
       "      <td>1642.666667</td>\n",
       "      <td>64.0</td>\n",
       "      <td>29568.0</td>\n",
       "      <td>18.0</td>\n",
       "      <td>462.0</td>\n",
       "      <td>1</td>\n",
       "      <td>103.15</td>\n",
       "      <td>NaN</td>\n",
       "      <td>NaN</td>\n",
       "    </tr>\n",
       "    <tr>\n",
       "      <th>1</th>\n",
       "      <td>005642f48d3e86d871bb701bac2ba042</td>\n",
       "      <td>2005-07-01</td>\n",
       "      <td>6.290323</td>\n",
       "      <td>6.290323</td>\n",
       "      <td>0.000000</td>\n",
       "      <td>350.967742</td>\n",
       "      <td>64.0</td>\n",
       "      <td>10880.0</td>\n",
       "      <td>31.0</td>\n",
       "      <td>170.0</td>\n",
       "      <td>1</td>\n",
       "      <td>103.15</td>\n",
       "      <td>NaN</td>\n",
       "      <td>NaN</td>\n",
       "    </tr>\n",
       "    <tr>\n",
       "      <th>2</th>\n",
       "      <td>005642f48d3e86d871bb701bac2ba042</td>\n",
       "      <td>2005-08-01</td>\n",
       "      <td>5.366667</td>\n",
       "      <td>5.366667</td>\n",
       "      <td>0.000000</td>\n",
       "      <td>298.666667</td>\n",
       "      <td>64.0</td>\n",
       "      <td>8960.0</td>\n",
       "      <td>30.0</td>\n",
       "      <td>140.0</td>\n",
       "      <td>1</td>\n",
       "      <td>103.15</td>\n",
       "      <td>NaN</td>\n",
       "      <td>NaN</td>\n",
       "    </tr>\n",
       "    <tr>\n",
       "      <th>3</th>\n",
       "      <td>005642f48d3e86d871bb701bac2ba042</td>\n",
       "      <td>2005-09-01</td>\n",
       "      <td>5.500000</td>\n",
       "      <td>5.500000</td>\n",
       "      <td>0.000000</td>\n",
       "      <td>305.230769</td>\n",
       "      <td>64.0</td>\n",
       "      <td>7936.0</td>\n",
       "      <td>26.0</td>\n",
       "      <td>124.0</td>\n",
       "      <td>1</td>\n",
       "      <td>103.15</td>\n",
       "      <td>NaN</td>\n",
       "      <td>NaN</td>\n",
       "    </tr>\n",
       "    <tr>\n",
       "      <th>4</th>\n",
       "      <td>005642f48d3e86d871bb701bac2ba042</td>\n",
       "      <td>2005-10-01</td>\n",
       "      <td>9.733333</td>\n",
       "      <td>9.733333</td>\n",
       "      <td>0.000000</td>\n",
       "      <td>541.866667</td>\n",
       "      <td>64.0</td>\n",
       "      <td>16256.0</td>\n",
       "      <td>30.0</td>\n",
       "      <td>254.0</td>\n",
       "      <td>1</td>\n",
       "      <td>103.15</td>\n",
       "      <td>NaN</td>\n",
       "      <td>NaN</td>\n",
       "    </tr>\n",
       "  </tbody>\n",
       "</table>\n",
       "</div>"
      ],
      "text/plain": [
       "                           Скважина       Дата   liq_rate   oil_rate  \\\n",
       "0  005642f48d3e86d871bb701bac2ba042 2005-06-01  29.777778  29.722222   \n",
       "1  005642f48d3e86d871bb701bac2ba042 2005-07-01   6.290323   6.290323   \n",
       "2  005642f48d3e86d871bb701bac2ba042 2005-08-01   5.366667   5.366667   \n",
       "3  005642f48d3e86d871bb701bac2ba042 2005-09-01   5.500000   5.500000   \n",
       "4  005642f48d3e86d871bb701bac2ba042 2005-10-01   9.733333   9.733333   \n",
       "\n",
       "        wct     gas_rate    gf  gas_prod  days_on  oil_prod  frac  \\\n",
       "0  0.001866  1642.666667  64.0   29568.0     18.0     462.0     1   \n",
       "1  0.000000   350.967742  64.0   10880.0     31.0     170.0     1   \n",
       "2  0.000000   298.666667  64.0    8960.0     30.0     140.0     1   \n",
       "3  0.000000   305.230769  64.0    7936.0     26.0     124.0     1   \n",
       "4  0.000000   541.866667  64.0   16256.0     30.0     254.0     1   \n",
       "\n",
       "   Давление пластовое  ПЛАСТ_X  ПЛАСТ_Y  \n",
       "0              103.15      NaN      NaN  \n",
       "1              103.15      NaN      NaN  \n",
       "2              103.15      NaN      NaN  \n",
       "3              103.15      NaN      NaN  \n",
       "4              103.15      NaN      NaN  "
      ]
     },
     "execution_count": 26,
     "metadata": {},
     "output_type": "execute_result"
    }
   ],
   "source": [
    "df_all_train.head()"
   ]
  },
  {
   "cell_type": "markdown",
   "metadata": {},
   "source": [
    "### Приведем данные к единому виду:\n",
    "    Чтобы все скважины имели ненулевой дебит в первом месяце и работали 6 месяцев.\n",
    "    Для этого убираем первые месяца, когда некоторые скважины имеют нулевую добычу. Дописываем им занчения фичей до 6-ти месяев согласно предыдущим значениям.\n",
    "    "
   ]
  },
  {
   "cell_type": "code",
   "execution_count": 28,
   "metadata": {
    "ExecuteTime": {
     "end_time": "2018-09-25T17:03:31.539442Z",
     "start_time": "2018-09-25T17:02:18.042334Z"
    }
   },
   "outputs": [
    {
     "name": "stderr",
     "output_type": "stream",
     "text": [
      "C:\\Users\\k.gopa\\AppData\\Local\\Continuum\\anaconda3\\lib\\site-packages\\pandas\\core\\indexing.py:543: SettingWithCopyWarning: \n",
      "A value is trying to be set on a copy of a slice from a DataFrame.\n",
      "Try using .loc[row_indexer,col_indexer] = value instead\n",
      "\n",
      "See the caveats in the documentation: http://pandas.pydata.org/pandas-docs/stable/indexing.html#indexing-view-versus-copy\n",
      "  self.obj[item] = s\n"
     ]
    }
   ],
   "source": [
    "df_train_temp = df_train[cols_of_interest]\n",
    "#df_train_temp.loc[:,'Дата'] = df_train_temp['Дата'].asfreq('M')\n",
    "\n",
    "\n",
    "wells_start = df_train_temp[df_train_temp['liq_rate'].isnull()]['Скважина'].unique().tolist()\n",
    "\n",
    "AttributeError_wells = []\n",
    "ValueError_wells = []\n",
    "for well in wells_start:\n",
    "#well = 'a2d46cb2c0cce62767b4cd7dacc28d1e'\n",
    "    df_well_train = df_train_temp[df_train_temp['Скважина'] == well].set_index('Дата')\n",
    "    #df_well_train.index.rename('Дата', inplace=True)\n",
    "    start_index = df_well_train['liq_rate'].first_valid_index()\n",
    "    try:\n",
    "        m_shift = start_index.to_period('M') - df_well_train.first_valid_index().to_period('M')\n",
    "        last_index = pd.Timestamp(df_well_train.last_valid_index(), freq = 'MS') + m_shift\n",
    "    \n",
    "        df_train_temp.loc[df_train_temp['Скважина'] == well, :] = df_well_train.reindex(index = pd.date_range(start_index, last_index, freq = 'MS')). \\\n",
    "                                        fillna(method='ffill').reset_index().set_index('Скважина').reset_index().values\n",
    "    except AttributeError:\n",
    "        AttributeError_wells.append(well)\n",
    "    except ValueError:\n",
    "        ValueError_wells.append(well)\n",
    "    #df_train_temp_b.loc[df_train_temp['Скважина'] == well]"
   ]
  },
  {
   "cell_type": "markdown",
   "metadata": {},
   "source": [
    "### Удаляем косячные скважины"
   ]
  },
  {
   "cell_type": "code",
   "execution_count": 30,
   "metadata": {
    "ExecuteTime": {
     "end_time": "2018-09-25T17:03:35.778108Z",
     "start_time": "2018-09-25T17:03:35.770950Z"
    }
   },
   "outputs": [],
   "source": [
    "df_train_temp = df_train_temp[~df_train_temp['Скважина'].isin(ValueError_wells)]\n",
    "df_train_temp = df_train_temp[~df_train_temp['Скважина'].isin(AttributeError_wells)]"
   ]
  },
  {
   "cell_type": "markdown",
   "metadata": {},
   "source": [
    "### Добавляем месяц работы для каждой скважины [0,1,2,3,4,5]"
   ]
  },
  {
   "cell_type": "code",
   "execution_count": 31,
   "metadata": {
    "ExecuteTime": {
     "end_time": "2018-09-25T17:03:39.643148Z",
     "start_time": "2018-09-25T17:03:37.480528Z"
    }
   },
   "outputs": [],
   "source": [
    "#df_train_temp = df_train_temp.copy()\n",
    "df_train_temp['month'] = 0\n",
    "short_wells = []\n",
    "for well in df_train_temp['Скважина'].unique().tolist():\n",
    "    num_month = df_train_temp.loc[df_train_temp['Скважина'] == well].shape[0]\n",
    "    if num_month != 6:\n",
    "        short_wells.append(well)\n",
    "    df_train_temp.loc[df_train_temp['Скважина'] == well, 'month'] = list(range(num_month))\n",
    "        "
   ]
  },
  {
   "cell_type": "markdown",
   "metadata": {},
   "source": [
    "### Удаляем еще косячные скважины"
   ]
  },
  {
   "cell_type": "code",
   "execution_count": 32,
   "metadata": {
    "ExecuteTime": {
     "end_time": "2018-09-25T17:03:43.982848Z",
     "start_time": "2018-09-25T17:03:43.977775Z"
    }
   },
   "outputs": [],
   "source": [
    "df_train_temp = df_train_temp[~df_train_temp['Скважина'].isin(short_wells)]"
   ]
  },
  {
   "cell_type": "markdown",
   "metadata": {},
   "source": [
    "Пример таблицы с дебитами жидкости по каждой скважине"
   ]
  },
  {
   "cell_type": "code",
   "execution_count": 41,
   "metadata": {
    "ExecuteTime": {
     "end_time": "2018-09-25T17:03:48.774403Z",
     "start_time": "2018-09-25T17:03:48.758515Z"
    }
   },
   "outputs": [
    {
     "data": {
      "text/plain": [
       "<matplotlib.axes._subplots.AxesSubplot at 0x1783654fd0>"
      ]
     },
     "execution_count": 41,
     "metadata": {},
     "output_type": "execute_result"
    },
    {
     "data": {
      "image/png": "[encoded data removed]",
      "text/plain": [
       "<Figure size 720x360 with 1 Axes>"
      ]
     },
     "metadata": {},
     "output_type": "display_data"
    }
   ],
   "source": [
    "df_liq_train = df_train_temp[['Скважина','month', 'liq_rate']].set_index(['Скважина', 'month']).unstack(0).fillna(0)\n",
    "df_liq_train.columns = df_liq_train.columns.droplevel(0)\n",
    "\n",
    "liq_scaler = MinMaxScaler()\n",
    "df_liq_train_norm = pd.DataFrame(liq_scaler.fit(df_liq_train.values).transform(df_liq_train.values), \n",
    "                                 index = df_liq_train.index, columns = df_liq_train.columns)\n",
    "%matplotlib inline\n",
    "plt.figure(figsize=(10,5))\n",
    "\n",
    "df_liq_train_norm.T.boxplot()"
   ]
  },
  {
   "cell_type": "markdown",
   "metadata": {},
   "source": [
    "### Дни работы скважины по месяцам. Видно, что в первом месяце работают в среднем по пол месяца, а дальше уже почти все дни"
   ]
  },
  {
   "cell_type": "code",
   "execution_count": 42,
   "metadata": {
    "ExecuteTime": {
     "end_time": "2018-09-25T17:03:48.774403Z",
     "start_time": "2018-09-25T17:03:48.758515Z"
    }
   },
   "outputs": [
    {
     "data": {
      "text/plain": [
       "<matplotlib.axes._subplots.AxesSubplot at 0x178372c160>"
      ]
     },
     "execution_count": 42,
     "metadata": {},
     "output_type": "execute_result"
    },
    {
     "data": {
      "image/png": "[encoded data removed]",
      "text/plain": [
       "<Figure size 720x360 with 1 Axes>"
      ]
     },
     "metadata": {},
     "output_type": "display_data"
    }
   ],
   "source": [
    "df_days_train = df_train_temp[['Скважина','month', 'days_on']].set_index(['Скважина', 'month']).unstack(0).fillna(0)\n",
    "df_days_train.columns = df_days_train.columns.droplevel(0)\n",
    "mean_days_on = df_days_train[df_days_train>5].mean(axis = 1).values\n",
    "%matplotlib inline\n",
    "plt.figure(figsize=(10,5))\n",
    "df_days_train.T.boxplot()"
   ]
  },
  {
   "cell_type": "markdown",
   "metadata": {},
   "source": [
    "### Падение по дебиту нефти"
   ]
  },
  {
   "cell_type": "code",
   "execution_count": 43,
   "metadata": {
    "ExecuteTime": {
     "end_time": "2018-09-25T17:07:21.773354Z",
     "start_time": "2018-09-25T17:07:21.763142Z"
    }
   },
   "outputs": [
    {
     "data": {
      "text/plain": [
       "<matplotlib.axes._subplots.AxesSubplot at 0x17838023c8>"
      ]
     },
     "execution_count": 43,
     "metadata": {},
     "output_type": "execute_result"
    },
    {
     "data": {
      "image/png": "[encoded data removed]",
      "text/plain": [
       "<Figure size 720x360 with 1 Axes>"
      ]
     },
     "metadata": {},
     "output_type": "display_data"
    }
   ],
   "source": [
    "df_oil_train = df_train_temp[['Скважина','month', 'oil_rate']].set_index(['Скважина', 'month']).unstack(0).fillna(0)\n",
    "df_oil_train.columns = df_oil_train.columns.droplevel(0)\n",
    "oil_scaler = MinMaxScaler()\n",
    "df_oil_train_norm = pd.DataFrame(oil_scaler.fit(df_oil_train.values).transform(df_oil_train.values), \n",
    "                                 index = df_oil_train.index, columns = df_oil_train.columns)\n",
    "plt.figure(figsize=(10,5))\n",
    "df_oil_train_norm.T.boxplot()"
   ]
  },
  {
   "cell_type": "code",
   "execution_count": 49,
   "metadata": {},
   "outputs": [
    {
     "data": {
      "text/plain": [
       "Index([], dtype='object', name='Скважина')"
      ]
     },
     "execution_count": 49,
     "metadata": {},
     "output_type": "execute_result"
    }
   ],
   "source": [
    "df_liq_train.columns[df_liq_train.isnull().all(0)]"
   ]
  },
  {
   "cell_type": "markdown",
   "metadata": {},
   "source": [
    "### Распределение добычи нефти по месяцам"
   ]
  },
  {
   "cell_type": "code",
   "execution_count": 50,
   "metadata": {
    "ExecuteTime": {
     "end_time": "2018-09-25T17:03:48.774403Z",
     "start_time": "2018-09-25T17:03:48.758515Z"
    }
   },
   "outputs": [
    {
     "data": {
      "text/plain": [
       "<matplotlib.axes._subplots.AxesSubplot at 0x17838c6d68>"
      ]
     },
     "execution_count": 50,
     "metadata": {},
     "output_type": "execute_result"
    },
    {
     "data": {
      "image/png": "[encoded data removed]",
      "text/plain": [
       "<Figure size 720x360 with 1 Axes>"
      ]
     },
     "metadata": {},
     "output_type": "display_data"
    }
   ],
   "source": [
    "df_oil_prod_train = df_train_temp[['Скважина','month', 'oil_prod']].set_index(['Скважина', 'month']).unstack(0)#.fillna(0)\n",
    "df_oil_prod_train.columns = df_oil_prod_train.columns.droplevel(0)\n",
    "plt.figure(figsize=(10,5))\n",
    "df_oil_prod_train.T.boxplot()"
   ]
  },
  {
   "cell_type": "code",
   "execution_count": null,
   "metadata": {},
   "outputs": [],
   "source": [
    "df_oil_prod_train.loc[0,:].mean()"
   ]
  },
  {
   "cell_type": "markdown",
   "metadata": {},
   "source": [
    "### Вычислим среднее падение дебита по месяцам"
   ]
  },
  {
   "cell_type": "code",
   "execution_count": 51,
   "metadata": {},
   "outputs": [],
   "source": [
    "oil_rate_decline = df_oil_train_norm.mean(axis= 1).values"
   ]
  },
  {
   "cell_type": "code",
   "execution_count": null,
   "metadata": {},
   "outputs": [],
   "source": [
    "x = df_train_temp['gas_prod'].values.astype(np.float64)[:, np.newaxis]\n",
    "y = df_train_temp['oil_prod'].values.astype(np.float64)[:, np.newaxis]\n",
    "angle = y / (x + 1)\n",
    "\n",
    "plt.figure(figsize=(10, 8))\n",
    "plt.scatter(x, y)"
   ]
  },
  {
   "cell_type": "markdown",
   "metadata": {},
   "source": [
    "Загрузка прогноза стартовой добычи"
   ]
  },
  {
   "cell_type": "code",
   "execution_count": 53,
   "metadata": {},
   "outputs": [],
   "source": [
    "df_start_oil_pred = pd.read_csv('./out/start_oil.csv')\n",
    "\n",
    "df_start_oil_pred.columns = ['Скважина', 'oil_pred']\n",
    "\n",
    "df_test_temp = pd.concat([df_test.set_index('Скважина'),df_start_oil_pred.set_index('Скважина')], axis= 1).reset_index()\n",
    "\n",
    "df_test_temp.loc[df_test_temp['Состояние'] == 'ОСВ ТГ', 'oil_pred'] = 0\n",
    "#df_test_temp.loc[df_test_temp['Состояние'] == 'ОСТ.', 'oil_pred'] = 0\n",
    "\n",
    "\n",
    "wells_1 = df_test_temp.loc[df_test_temp['Состояние'] == 'ОСВ ТГ', 'Скважина'].tolist()\n",
    "wells_0 = list(set(df_test_temp['Скважина'].tolist()) - set(wells_1))\n",
    "\n",
    "\n",
    "df_test_temp['month'] = 0"
   ]
  },
  {
   "cell_type": "code",
   "execution_count": 55,
   "metadata": {},
   "outputs": [],
   "source": [
    "df_test_temp['days_on'] = 0\n",
    "df_test_temp.loc[df_test_temp['Скважина'].isin(wells_0), 'days_on'] = \\\n",
    "        (df_test_temp.loc[df_test_temp['Скважина'].isin(wells_0),'Время работы, ч']/24).fillna(mean_days_on[0])\n",
    "#df_test_temp.loc[df_test_temp['Скважина'].isin(wells_1), 'days_on'] = mean_days_on"
   ]
  },
  {
   "cell_type": "code",
   "execution_count": 57,
   "metadata": {},
   "outputs": [],
   "source": [
    "df_test_temp['pred_oil_rate'] = (df_test_temp['oil_pred'] / df_test_temp['days_on']).fillna(0)\n",
    "\n",
    "df_test_pred_rate = df_test_temp[['Скважина','month', 'pred_oil_rate']].set_index(['Скважина', 'month']).unstack(0)\n",
    "\n",
    "df_test_pred_rate.columns = df_test_pred_rate.columns.droplevel(0)\n",
    "\n",
    "df_test_pred_rate = pd.concat([df_test_pred_rate, \n",
    "                                              pd.DataFrame(np.zeros((5, df_test_pred_rate.shape[1])), \n",
    "                                                           index = range(1,6),\n",
    "                                                          columns = df_test_pred_rate.columns)])"
   ]
  },
  {
   "cell_type": "code",
   "execution_count": 58,
   "metadata": {},
   "outputs": [],
   "source": [
    "df_test_pred_rate.loc[1, wells_1] = df_start_oil_pred.loc[df_start_oil_pred['Скважина'].isin(wells_1), 'oil_pred'].values/mean_days_on[0]"
   ]
  },
  {
   "cell_type": "code",
   "execution_count": 59,
   "metadata": {},
   "outputs": [],
   "source": [
    "for i in range(2,6):\n",
    "    df_test_pred_rate.loc[i, wells_1] = df_test_pred_rate.loc[1, wells_1]*oil_rate_decline[i-1]"
   ]
  },
  {
   "cell_type": "code",
   "execution_count": 60,
   "metadata": {},
   "outputs": [],
   "source": [
    "for i in range(1,6):\n",
    "    df_test_pred_rate.loc[i, wells_0] = df_test_pred_rate.loc[0, wells_0]*oil_rate_decline[i]"
   ]
  },
  {
   "cell_type": "code",
   "execution_count": 61,
   "metadata": {},
   "outputs": [],
   "source": [
    "df_test_pred_prod = df_test_pred_rate.copy()"
   ]
  },
  {
   "cell_type": "code",
   "execution_count": 62,
   "metadata": {},
   "outputs": [],
   "source": [
    "df_test_pred_prod.loc[0, :] = df_test_pred_rate.loc[0, :]*df_test_temp['days_on'].values"
   ]
  },
  {
   "cell_type": "code",
   "execution_count": 63,
   "metadata": {},
   "outputs": [],
   "source": [
    "df_test_pred_prod.loc[1, wells_1] = df_test_pred_rate.loc[1, wells_1].values * mean_days_on[0]"
   ]
  },
  {
   "cell_type": "code",
   "execution_count": 64,
   "metadata": {},
   "outputs": [],
   "source": [
    "for i in range (2,6):\n",
    "    df_test_pred_prod.loc[i, wells_1] = df_test_pred_rate.loc[i, wells_1].values * mean_days_on[i]\n",
    "for i in range(1,6):\n",
    "    df_test_pred_prod.loc[i, wells_0] = df_test_pred_rate.loc[i, wells_0].values * mean_days_on[i]"
   ]
  },
  {
   "cell_type": "code",
   "execution_count": null,
   "metadata": {},
   "outputs": [],
   "source": [
    "df_test_final_pred = pd.DataFrame(df_test_pred_prod.values.T.reshape(-1,1))\n",
    "\n",
    "df_test_final_pred.to_csv('./out/subm.csv')"
   ]
  },
  {
   "cell_type": "code",
   "execution_count": null,
   "metadata": {},
   "outputs": [],
   "source": [
    "df_test_final_pred"
   ]
  },
  {
   "cell_type": "code",
   "execution_count": null,
   "metadata": {},
   "outputs": [],
   "source": []
  }
 ],
 "metadata": {
  "kernelspec": {
   "display_name": "Python 3",
   "language": "python",
   "name": "python3"
  },
  "language_info": {
   "codemirror_mode": {
    "name": "ipython",
    "version": 3
   },
   "file_extension": ".py",
   "mimetype": "text/x-python",
   "name": "python",
   "nbconvert_exporter": "python",
   "pygments_lexer": "ipython3",
   "version": "3.6.5"
  },
  "varInspector": {
   "cols": {
    "lenName": 16,
    "lenType": 16,
    "lenVar": 40
   },
   "kernels_config": {
    "python": {
     "delete_cmd_postfix": "",
     "delete_cmd_prefix": "del ",
     "library": "var_list.py",
     "varRefreshCmd": "print(var_dic_list())"
    },
    "r": {
     "delete_cmd_postfix": ") ",
     "delete_cmd_prefix": "rm(",
     "library": "var_list.r",
     "varRefreshCmd": "cat(var_dic_list()) "
    }
   },
   "types_to_exclude": [
    "module",
    "function",
    "builtin_function_or_method",
    "instance",
    "_Feature"
   ],
   "window_display": false
  }
 },
 "nbformat": 4,
 "nbformat_minor": 2
}
