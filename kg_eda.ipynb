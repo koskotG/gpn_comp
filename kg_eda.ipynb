{
 "cells": [
  {
   "cell_type": "code",
   "execution_count": 265,
   "metadata": {
    "ExecuteTime": {
     "end_time": "2018-09-29T13:44:13.718578Z",
     "start_time": "2018-09-29T13:44:13.710869Z"
    }
   },
   "outputs": [],
   "source": [
    "import numpy as np\n",
    "import pandas as pd\n",
    "from matplotlib import pyplot as plt\n",
    "from itertools import repeat\n",
    "import seaborn as sns\n",
    "from sklearn.preprocessing import MinMaxScaler\n",
    "from sklearn.cluster import KMeans\n",
    "from sklearn.model_selection import cross_validate\n",
    "from catboost import CatBoostClassifier, CatBoostRegressor, Pool, cv\n",
    "#import lasio\n",
    "from sklearn.metrics import mean_absolute_error as mae\n",
    "from os import listdir\n",
    "#from matplotlib_venn import venn2\n",
    "from sklearn.ensemble import GradientBoostingRegressor, GradientBoostingClassifier\n",
    "%matplotlib inline"
   ]
  },
  {
   "cell_type": "code",
   "execution_count": 256,
   "metadata": {},
   "outputs": [],
   "source": [
    "np.set_printoptions(precision=3, suppress=True)"
   ]
  },
  {
   "cell_type": "code",
   "execution_count": 2,
   "metadata": {
    "ExecuteTime": {
     "end_time": "2018-09-29T12:56:10.924718Z",
     "start_time": "2018-09-29T12:56:10.919498Z"
    },
    "collapsed": true
   },
   "outputs": [],
   "source": [
    "def conv(s):\n",
    "    if s == '':\n",
    "        return np.nan\n",
    "    return float(s.replace(',', '.'))\n",
    "\n",
    "columns_to_conv = ['Нефть, т', 'Конденсат, т', 'Приемистость, м3/сут', 'Обводненность (вес), %', 'Нефть, м3', 'Жидкость, м3', \\\n",
    "                    'Дебит конденсата', 'Добыча растворенного газа, м3', 'Дебит попутного газа, м3/сут']\n",
    "convertors = dict(zip(columns_to_conv, repeat(conv.__call__, len(columns_to_conv))))\n",
    "\n",
    "def conv_date(x):\n",
    "    if x.day != 1:\n",
    "        return (x + pd.offsets.MonthBegin(1))\n",
    "    else:\n",
    "        return x"
   ]
  },
  {
   "cell_type": "markdown",
   "metadata": {},
   "source": [
    "### Загружаем данные"
   ]
  },
  {
   "cell_type": "code",
   "execution_count": 3,
   "metadata": {
    "ExecuteTime": {
     "end_time": "2018-09-29T12:56:13.591449Z",
     "start_time": "2018-09-29T12:56:13.279941Z"
    }
   },
   "outputs": [],
   "source": [
    "df_train = pd.read_csv('init/1/train_1.8.csv', header = 0 ,encoding = 'cp1251', parse_dates = ['Дата'], converters= convertors)\n",
    "df_test = pd.read_csv('init/1/test_1.9.csv', header = 0 ,encoding = 'cp1251', parse_dates = ['Дата'], converters= convertors)\n",
    "\n",
    "df_coord_train = pd.read_csv('init/1/coords_train_1.1.csv', header = 0,encoding = 'cp1251')\n",
    "df_coord_test = pd.read_csv('init/1/coords_test_1.1.csv', header = 0,encoding = 'cp1251')\n",
    "df_coord_train = df_coord_train.rename(columns={'well_hash' : 'Скважина'})\n",
    "df_coord_test = df_coord_test.rename(columns={'well_hash' : 'Скважина'})\n",
    "df_coord_train_gr = df_coord_train.groupby('Скважина').mean().reset_index()\n",
    "df_coord_test_gr = df_coord_test.groupby('Скважина').mean().reset_index()\n",
    "\n",
    "df_frac_train = pd.read_csv('init/1/frac_train_1.csv', header = 0,encoding = 'cp1251')\n",
    "df_frac_test = pd.read_csv('init/1/frac_test_1.csv', header = 0,encoding = 'cp1251')\n",
    "\n",
    "df_gdis_train = pd.read_csv('init/1/gdis_train1.2.csv', header = 0,encoding = 'cp1251')\n",
    "df_gdis_test = pd.read_csv('init/1/gdis_test1.2.csv', header = 0,encoding = 'cp1251')\n",
    "df_gdis_train_gr = df_gdis_train.groupby('Скважина').mean().reset_index()\n",
    "df_gdis_test_gr = df_gdis_test.groupby('Скважина').mean().reset_index()"
   ]
  },
  {
   "cell_type": "markdown",
   "metadata": {},
   "source": [
    "### Центруем координаты (может и не надо)"
   ]
  },
  {
   "cell_type": "code",
   "execution_count": 5,
   "metadata": {
    "ExecuteTime": {
     "end_time": "2018-09-29T12:56:16.669694Z",
     "start_time": "2018-09-29T12:56:16.644961Z"
    }
   },
   "outputs": [],
   "source": [
    "df_coord_train['x'] = df_coord_train['ПЛАСТ_X'].astype(dtype='int32')\n",
    "df_coord_train['y'] = df_coord_train['ПЛАСТ_Y'].astype(dtype='int32')\n",
    "df_coord_train['x'] = df_coord_train['x'] - df_coord_train['x'].mean()\n",
    "df_coord_train['y'] = df_coord_train['y'] - df_coord_train['y'].mean()\n",
    "\n",
    "df_coord_train['x_head'] = df_coord_train['УСТЬЕ_X'].astype(dtype='int32')\n",
    "df_coord_train['y_head'] = df_coord_train['УСТЬЕ_Y'].astype(dtype='int32')\n",
    "df_coord_train['x_head'] = df_coord_train['x_head'] - df_coord_train['x_head'].mean()\n",
    "df_coord_train['x_head'] = df_coord_train['x_head'] - df_coord_train['x_head'].mean()"
   ]
  },
  {
   "cell_type": "code",
   "execution_count": null,
   "metadata": {
    "ExecuteTime": {
     "end_time": "2018-09-25T17:02:02.955950Z",
     "start_time": "2018-09-25T17:02:02.861432Z"
    }
   },
   "outputs": [],
   "source": [
    "%matplotlib notebook\n",
    "plt.figure(figsize=(10,10))\n",
    "plt.scatter(df_coord_train.drop_duplicates('well_hash', 'first')['ПЛАСТ_X'], \n",
    "            df_coord_train.drop_duplicates('well_hash', 'first')['ПЛАСТ_Y'], color = 'g', label='train')\n",
    "plt.scatter(df_coord_test.drop_duplicates('well_hash', 'first')['ПЛАСТ_X'], \n",
    "            df_coord_test.drop_duplicates('well_hash', 'first')['ПЛАСТ_Y'], color = 'r', label='test')\n",
    "plt.legend()"
   ]
  },
  {
   "cell_type": "code",
   "execution_count": 6,
   "metadata": {
    "ExecuteTime": {
     "end_time": "2018-09-29T12:56:33.562522Z",
     "start_time": "2018-09-29T12:56:33.555557Z"
    }
   },
   "outputs": [],
   "source": [
    "w_coord_train = df_coord_train['Скважина'].unique()\n",
    "w_coord_test = df_coord_test['Скважина'].unique()\n",
    "w_train = df_train['Скважина'].unique()\n",
    "w_test = df_test['Скважина'].unique()\n",
    "w_frac_train = df_frac_train['Скважина'].unique()\n",
    "w_frac_test = df_frac_test['Скважина'].unique()\n",
    "w_gdis_train = df_gdis_train['Скважина'].unique()\n",
    "w_gdis_test = df_gdis_test['Скважина'].unique()\n",
    "#las_files_train = list(map(lambda x: x[:-4], listdir('init/1/las_train2/')))\n",
    "#las_files_test = list(map(lambda x: x[:-4], listdir('init/1/las_test2/')))"
   ]
  },
  {
   "cell_type": "code",
   "execution_count": 8,
   "metadata": {
    "ExecuteTime": {
     "end_time": "2018-09-29T12:56:34.526445Z",
     "start_time": "2018-09-29T12:56:34.513199Z"
    }
   },
   "outputs": [
    {
     "name": "stdout",
     "output_type": "stream",
     "text": [
      "# of wells in train:  563\n",
      "# of wells in coord train:  234\n",
      "# of wells intersect train and coord train:  233\n",
      "# of wells in frac train:  490\n",
      "# of wells in gdis train:  388\n"
     ]
    }
   ],
   "source": [
    "print('# of wells in train: ', len(w_train))\n",
    "print('# of wells in coord train: ', len(w_coord_train))\n",
    "print('# of wells intersect train and coord train: ', len(list(set(w_train) & set(w_coord_train))))\n",
    "print('# of wells in frac train: ', len(w_frac_train))\n",
    "print('# of wells in gdis train: ', len(w_gdis_train))\n",
    "#print('# of wells in las train: ', len(las_files_train))"
   ]
  },
  {
   "cell_type": "code",
   "execution_count": 26,
   "metadata": {
    "collapsed": true
   },
   "outputs": [
    {
     "data": {
      "image/png": "[encoded data removed]",
      "text/plain": [
       "<Figure size 360x360 with 1 Axes>"
      ]
     },
     "metadata": {},
     "output_type": "display_data"
    }
   ],
   "source": [
    "plt.figure(figsize=(5,5))\n",
    "venn2(subsets = [set(w_test), set(las_files_test)],\n",
    "      set_labels=['wells_in_test','wells_with las'] )\n",
    "plt.show()"
   ]
  },
  {
   "cell_type": "code",
   "execution_count": 9,
   "metadata": {
    "ExecuteTime": {
     "end_time": "2018-09-25T17:02:10.956187Z",
     "start_time": "2018-09-25T17:02:10.946516Z"
    }
   },
   "outputs": [
    {
     "name": "stdout",
     "output_type": "stream",
     "text": [
      "# of wells in test:  266\n",
      "# of wells in coord test:  137\n",
      "# of wells in frac test:  193\n",
      "# of wells in gdis test:  106\n"
     ]
    }
   ],
   "source": [
    "print('# of wells in test: ', len(w_test))\n",
    "print('# of wells in coord test: ', len(w_coord_test))\n",
    "print('# of wells in frac test: ', len(w_frac_test))\n",
    "print('# of wells in gdis test: ', len(w_gdis_test))\n",
    "#print('# of wells in las test: ', len(las_files_test))"
   ]
  },
  {
   "cell_type": "markdown",
   "metadata": {},
   "source": [
    "### Рассчитаем нужные свойства и объединим стобцы"
   ]
  },
  {
   "cell_type": "code",
   "execution_count": 10,
   "metadata": {
    "ExecuteTime": {
     "end_time": "2018-09-29T12:56:51.740799Z",
     "start_time": "2018-09-29T12:56:51.500009Z"
    }
   },
   "outputs": [],
   "source": [
    "df_train.loc[:, 'Дата'] = df_train['Дата'].apply(conv_date)\n",
    "\n",
    "df_train['days_on'] = df_train['Время работы, ч']/24\n",
    "\n",
    "df_train['oil_rate'] = df_train['Нефть, м3']/(df_train['Время работы, ч']/24)\n",
    "\n",
    "df_train['oil_prod'] = df_train['Нефть, т']\n",
    "\n",
    "df_train['liq_rate'] = df_train['Жидкость, м3']/(df_train['Время работы, ч']/24)\n",
    "\n",
    "df_train.loc[df_train['liq_rate'].isnull(), 'liq_rate'] = df_train[df_train['liq_rate'].isnull()]['Дебит жидкости']\n",
    "\n",
    "df_train.loc[df_train['oil_rate'].isnull(), 'oil_rate'] = df_train[df_train['oil_rate'].isnull()]['liq_rate'] \\\n",
    "                                                            *(1-df_train[df_train['oil_rate'].isnull()]['Обводненность']/100)\n",
    "\n",
    "df_train['wct'] = 1 - df_train['Нефть, м3']/df_train['Жидкость, м3']\n",
    "df_train.loc[df_train['wct'].isnull(), 'wct'] = df_train.loc[df_train['wct'].isnull(), 'Обводненность']/100\n",
    "\n",
    "df_train['gas_rate'] = df_train['Попутный газ, м3']/(df_train['Время работы, ч']/24)\n",
    "df_train.loc[df_train['gas_rate'].isnull(), 'gas_rate'] = df_train[df_train['gas_rate'].isnull()]['Газовый фактор']* \\\n",
    "                                                           df_train[df_train['gas_rate'].isnull()]['oil_rate'] \n",
    "\n",
    "df_train['gas_prod'] = df_train['Попутный газ, м3']\n",
    "\n",
    "df_train['gf'] = df_train['Попутный газ, м3']/df_train['Нефть, т']\n",
    "df_train.loc[df_train['gf'].isnull(), 'gf'] = df_train[df_train['gf'].isnull()]['Газовый фактор']\n",
    "\n",
    "df_train['state'] = df_train['Состояние']\n",
    "df_train.loc[df_train['state'].isnull(), 'state'] = df_train.loc[df_train['state'].isnull(), 'Состояние на конец месяца'] \n",
    "\n",
    "df_train['frac'] = df_train['Скважина'].apply(lambda x: x in df_frac_train['Скважина'].values).astype(int)"
   ]
  },
  {
   "cell_type": "code",
   "execution_count": 11,
   "metadata": {
    "ExecuteTime": {
     "end_time": "2018-09-29T12:56:53.707370Z",
     "start_time": "2018-09-29T12:56:53.699551Z"
    }
   },
   "outputs": [],
   "source": [
    "oil_dens_mean = df_train[df_train['Скважина'].isin(df_train['Скважина'].unique())]['Плотность нефти'].mean()"
   ]
  },
  {
   "cell_type": "code",
   "execution_count": 12,
   "metadata": {
    "ExecuteTime": {
     "end_time": "2018-09-29T12:56:55.129971Z",
     "start_time": "2018-09-29T12:56:55.106958Z"
    }
   },
   "outputs": [],
   "source": [
    "df_test.loc[:, 'Дата'] = df_test['Дата'].apply(conv_date)\n",
    "\n",
    "df_test['days_on'] = df_test['Время работы, ч']/24\n",
    "\n",
    "#df_test['oil_rate'] = df_test['Нефть, м3']/(df_test['Время работы, ч']/24)\n",
    "\n",
    "#df_test['oil_prod'] = df_test['Нефть, т']\n",
    "\n",
    "#df_test['liq_rate'] = df_test['Жидкость, м3']/(df_test['Время работы, ч']/24)\n",
    "\n",
    "#df_test.loc[df_test['liq_rate'].isnull(), 'liq_rate'] = df_test[df_test['liq_rate'].isnull()]['Дебит жидкости']\n",
    "\n",
    "#df_test.loc[df_test['oil_rate'].isnull(), 'oil_rate'] = df_test[df_test['oil_rate'].isnull()]['liq_rate'] \\\n",
    "#                                                            *(1-df_test[df_test['oil_rate'].isnull()]['Обводненность']/100)\n",
    "\n",
    "df_test['wct'] = df_test['Обводненность (вес), %']/100\n",
    "df_test.loc[df_test['wct'].isnull(), 'wct'] = df_test.loc[df_test['wct'].isnull(), 'Обводненность']/100\n",
    "\n",
    "df_test['gas_rate'] = df_test['Попутный газ, м3']/df_test['days_on'] \n",
    "#df_test.loc[df_test['gas_rate'].isnull(), 'gas_rate'] = df_test[df_test['gas_rate'].isnull()]['Газовый фактор']* \\\n",
    "#                                                           df_test[df_test['gas_rate'].isnull()]['oil_rate'] \n",
    "\n",
    "df_test['gas_prod'] = df_test['Попутный газ, м3']\n",
    "\n",
    "\n",
    "\n",
    "#df_test['gf'] = df_test['Попутный газ, м3']/df_test['Нефть, т']\n",
    "#df_test.loc[df_test['gf'].isnull(), 'gf'] = df_test[df_test['gf'].isnull()]['Газовый фактор']\n",
    "\n",
    "#df_test['state'] = df_test['Состояние']\n",
    "#df_test.loc[df_test['state'].isnull(), 'state'] = df_test.loc[df_test['state'].isnull(), 'Состояние на конец месяца'] \n",
    "\n",
    "df_test['frac'] = df_test['Скважина'].apply(lambda x: x in df_frac_test['Скважина'].values).astype(int)"
   ]
  },
  {
   "cell_type": "code",
   "execution_count": 13,
   "metadata": {
    "ExecuteTime": {
     "end_time": "2018-09-29T12:57:59.118376Z",
     "start_time": "2018-09-29T12:57:59.114009Z"
    }
   },
   "outputs": [],
   "source": [
    "df_all_train_0 = df_all_train[df_all_train['month'] == 0]"
   ]
  },
  {
   "cell_type": "code",
   "execution_count": 89,
   "metadata": {
    "ExecuteTime": {
     "end_time": "2018-09-29T12:56:57.915673Z",
     "start_time": "2018-09-29T12:56:57.907564Z"
    }
   },
   "outputs": [],
   "source": [
    "wells_bd1_test = df_test[~df_test['Обводненность (вес), %'].isnull()]['Скважина'].tolist()\n",
    "wells_bd2_test = df_test[~df_test['Обводненность'].isnull()]['Скважина'].tolist()"
   ]
  },
  {
   "cell_type": "code",
   "execution_count": 90,
   "metadata": {
    "ExecuteTime": {
     "end_time": "2018-09-29T13:54:52.819410Z",
     "start_time": "2018-09-29T13:54:52.807111Z"
    }
   },
   "outputs": [],
   "source": [
    "wells_bd1_train = df_train[~df_train['Обводненность (вес), %'].isnull()]['Скважина'].unique().tolist()\n",
    "wells_bd2_train = df_train[~df_train['Обводненность'].isnull()]['Скважина'].unique().tolist()\n",
    "wells_bd2_train = list(set(wells_bd2_train) & set(df_all_train_0['Скважина'].tolist()))\n",
    "wells_bd1_train = list(set(wells_bd1_train) & set(df_all_train_0['Скважина'].tolist()))"
   ]
  },
  {
   "cell_type": "code",
   "execution_count": 91,
   "metadata": {
    "ExecuteTime": {
     "end_time": "2018-09-29T13:56:48.611874Z",
     "start_time": "2018-09-29T13:56:48.605536Z"
    }
   },
   "outputs": [
    {
     "data": {
      "text/plain": [
       "208"
      ]
     },
     "execution_count": 91,
     "metadata": {},
     "output_type": "execute_result"
    }
   ],
   "source": [
    "len(list(set(wells_bd1_train) & set(wells_bd2_train)))"
   ]
  },
  {
   "cell_type": "code",
   "execution_count": 92,
   "metadata": {
    "ExecuteTime": {
     "end_time": "2018-09-29T13:57:11.155731Z",
     "start_time": "2018-09-29T13:57:11.150364Z"
    }
   },
   "outputs": [
    {
     "data": {
      "text/plain": [
       "0"
      ]
     },
     "execution_count": 92,
     "metadata": {},
     "output_type": "execute_result"
    }
   ],
   "source": [
    "len(list(set(wells_bd1_test) & set(wells_bd2_test)))"
   ]
  },
  {
   "cell_type": "code",
   "execution_count": 93,
   "metadata": {
    "ExecuteTime": {
     "end_time": "2018-09-29T13:57:37.549022Z",
     "start_time": "2018-09-29T13:57:37.542279Z"
    }
   },
   "outputs": [
    {
     "data": {
      "text/plain": [
       "470"
      ]
     },
     "execution_count": 93,
     "metadata": {},
     "output_type": "execute_result"
    }
   ],
   "source": [
    "len(wells_bd1_train)"
   ]
  },
  {
   "cell_type": "code",
   "execution_count": 94,
   "metadata": {
    "ExecuteTime": {
     "end_time": "2018-09-29T13:57:49.246283Z",
     "start_time": "2018-09-29T13:57:49.241114Z"
    }
   },
   "outputs": [
    {
     "data": {
      "text/plain": [
       "266"
      ]
     },
     "execution_count": 94,
     "metadata": {},
     "output_type": "execute_result"
    }
   ],
   "source": [
    "len(wells_bd2_train)"
   ]
  },
  {
   "cell_type": "code",
   "execution_count": 17,
   "metadata": {},
   "outputs": [],
   "source": [
    "df_all_test = df_all_test.set_index('Скважина'). \\\n",
    "                join(df_gdis_test.groupby('Скважина').size().rename('num_of_pr')).\\\n",
    "                join(df_coord_test.groupby('Скважина').size().rename('num_of_plast'))"
   ]
  },
  {
   "cell_type": "code",
   "execution_count": 27,
   "metadata": {},
   "outputs": [],
   "source": [
    "df_all_test.to_csv('./out/test_formatted.csv')"
   ]
  },
  {
   "cell_type": "markdown",
   "metadata": {},
   "source": [
    "### Приведем данные к единому виду:\n",
    "    Чтобы все скважины имели ненулевой дебит в первом месяце и работали 6 месяцев.\n",
    "    Для этого убираем первые месяца, когда некоторые скважины имеют нулевую добычу. Дописываем им занчения фичей до 6-ти месяев согласно предыдущим значениям.\n",
    "    "
   ]
  },
  {
   "cell_type": "code",
   "execution_count": 35,
   "metadata": {
    "ExecuteTime": {
     "end_time": "2018-09-25T17:03:31.539442Z",
     "start_time": "2018-09-25T17:02:18.042334Z"
    }
   },
   "outputs": [
    {
     "name": "stderr",
     "output_type": "stream",
     "text": [
      "C:\\Users\\k.gopa\\AppData\\Local\\Continuum\\anaconda3\\lib\\site-packages\\pandas\\core\\indexing.py:543: SettingWithCopyWarning: \n",
      "A value is trying to be set on a copy of a slice from a DataFrame.\n",
      "Try using .loc[row_indexer,col_indexer] = value instead\n",
      "\n",
      "See the caveats in the documentation: http://pandas.pydata.org/pandas-docs/stable/indexing.html#indexing-view-versus-copy\n",
      "  self.obj[item] = s\n"
     ]
    }
   ],
   "source": [
    "df_train_temp = df_train[cols_of_interest]\n",
    "#df_train_temp = df_all_train.copy()\n",
    "#df_train_temp.loc[:,'Дата'] = df_train_temp['Дата'].asfreq('M')\n",
    "\n",
    "\n",
    "wells_start = df_train_temp[df_train_temp['liq_rate'].isnull()]['Скважина'].unique().tolist()\n",
    "\n",
    "AttributeError_wells = []\n",
    "ValueError_wells = []\n",
    "for well in wells_start:\n",
    "#well = 'a2d46cb2c0cce62767b4cd7dacc28d1e'\n",
    "    df_well_train = df_train_temp[df_train_temp['Скважина'] == well].set_index('Дата')\n",
    "    #df_well_train.index.rename('Дата', inplace=True)\n",
    "    start_index = df_well_train['liq_rate'].first_valid_index()\n",
    "    try:\n",
    "        m_shift = start_index.to_period('M') - df_well_train.first_valid_index().to_period('M')\n",
    "        last_index = pd.Timestamp(df_well_train.last_valid_index(), freq = 'MS') + m_shift\n",
    "    \n",
    "        df_train_temp.loc[df_train_temp['Скважина'] == well, :] = df_well_train.reindex(index = pd.date_range(start_index, last_index, freq = 'MS')). \\\n",
    "                                        fillna(method='ffill').reset_index().set_index('Скважина').reset_index().values\n",
    "    except AttributeError:\n",
    "        AttributeError_wells.append(well)\n",
    "    except ValueError:\n",
    "        ValueError_wells.append(well)\n",
    "    #df_train_temp_b.loc[df_train_temp['Скважина'] == well]"
   ]
  },
  {
   "cell_type": "markdown",
   "metadata": {},
   "source": [
    "### Удаляем косячные скважины"
   ]
  },
  {
   "cell_type": "code",
   "execution_count": 36,
   "metadata": {
    "ExecuteTime": {
     "end_time": "2018-09-25T17:03:35.778108Z",
     "start_time": "2018-09-25T17:03:35.770950Z"
    }
   },
   "outputs": [],
   "source": [
    "df_train_temp = df_train_temp[~df_train_temp['Скважина'].isin(ValueError_wells)]\n",
    "df_train_temp = df_train_temp[~df_train_temp['Скважина'].isin(AttributeError_wells)]"
   ]
  },
  {
   "cell_type": "markdown",
   "metadata": {},
   "source": [
    "### Добавляем месяц работы для каждой скважины [0,1,2,3,4,5]"
   ]
  },
  {
   "cell_type": "code",
   "execution_count": 37,
   "metadata": {
    "ExecuteTime": {
     "end_time": "2018-09-25T17:03:39.643148Z",
     "start_time": "2018-09-25T17:03:37.480528Z"
    }
   },
   "outputs": [],
   "source": [
    "#df_train_temp = df_train_temp.copy()\n",
    "df_train_temp['month'] = 0\n",
    "short_wells = []\n",
    "for well in df_train_temp['Скважина'].unique().tolist():\n",
    "    num_month = df_train_temp.loc[df_train_temp['Скважина'] == well].shape[0]\n",
    "    if num_month != 6:\n",
    "        short_wells.append(well)\n",
    "    df_train_temp.loc[df_train_temp['Скважина'] == well, 'month'] = list(range(num_month))\n",
    "        "
   ]
  },
  {
   "cell_type": "markdown",
   "metadata": {},
   "source": [
    "### Удаляем еще косячные скважины"
   ]
  },
  {
   "cell_type": "code",
   "execution_count": 38,
   "metadata": {
    "ExecuteTime": {
     "end_time": "2018-09-25T17:03:43.982848Z",
     "start_time": "2018-09-25T17:03:43.977775Z"
    }
   },
   "outputs": [],
   "source": [
    "df_train_temp = df_train_temp[~df_train_temp['Скважина'].isin(short_wells)]"
   ]
  },
  {
   "cell_type": "markdown",
   "metadata": {},
   "source": [
    "### Объединим все"
   ]
  },
  {
   "cell_type": "code",
   "execution_count": 89,
   "metadata": {},
   "outputs": [],
   "source": [
    "df_all_train = df_train_temp.set_index('Скважина'). \\\n",
    "                join(df_gdis_train_gr.set_index('Скважина')). \\\n",
    "                join(df_coord_train_gr[['Скважина', 'ПЛАСТ_X', 'ПЛАСТ_Y']].set_index('Скважина')).reset_index()"
   ]
  },
  {
   "cell_type": "code",
   "execution_count": 41,
   "metadata": {},
   "outputs": [],
   "source": [
    "df_train_temp.to_csv('./out/train_formated.csv')"
   ]
  },
  {
   "cell_type": "code",
   "execution_count": 23,
   "metadata": {},
   "outputs": [],
   "source": [
    "#df_all_train['clust'] = 0\n",
    "clust_train = KMeans(n_clusters=4)\n",
    "df_all_train.loc[~df_all_train['ПЛАСТ_X'].isnull(), 'clust']  = clust_train.fit_predict(df_all_train[~df_all_train['ПЛАСТ_X'].isnull()][['ПЛАСТ_X', 'ПЛАСТ_Y']])\n",
    "\n",
    "df_all_test.loc[~df_all_test['ПЛАСТ_X'].isnull(), 'clust'] = clust_train.predict(df_all_test[~df_all_test['ПЛАСТ_X'].isnull()][['ПЛАСТ_X', 'ПЛАСТ_Y']])"
   ]
  },
  {
   "cell_type": "code",
   "execution_count": 184,
   "metadata": {},
   "outputs": [],
   "source": [
    "df_all_train = df_all_train.set_index('Скважина'). \\\n",
    "                join(df_gdis_train.groupby('Скважина').size().rename('num_of_pr')).\\\n",
    "                join(df_coord_train.groupby('Скважина').size().rename('num_of_plast'))"
   ]
  },
  {
   "cell_type": "code",
   "execution_count": 183,
   "metadata": {},
   "outputs": [],
   "source": [
    "df_all_train.to_csv('./out/train_formated.csv')"
   ]
  },
  {
   "cell_type": "code",
   "execution_count": 33,
   "metadata": {},
   "outputs": [],
   "source": [
    "df_all_train_0 = df_all_train[df_all_train['month'] == 0]"
   ]
  },
  {
   "cell_type": "code",
   "execution_count": 34,
   "metadata": {
    "collapsed": true
   },
   "outputs": [
    {
     "data": {
      "text/plain": [
       "<matplotlib.axes._subplots.AxesSubplot at 0x9fe5d886a0>"
      ]
     },
     "execution_count": 34,
     "metadata": {},
     "output_type": "execute_result"
    },
    {
     "data": {
      "image/png": "[encoded data removed]",
      "text/plain": [
       "<Figure size 432x288 with 1 Axes>"
      ]
     },
     "metadata": {},
     "output_type": "display_data"
    }
   ],
   "source": [
    "df_all_train_0[['clust', 'num_of_plast', 'num_of_pr']].plot.scatter(x = 'num_of_plast', y = 'num_of_pr')"
   ]
  },
  {
   "cell_type": "code",
   "execution_count": 26,
   "metadata": {
    "collapsed": true
   },
   "outputs": [
    {
     "data": {
      "text/plain": [
       "<matplotlib.collections.PathCollection at 0xf5e8b70ef0>"
      ]
     },
     "execution_count": 26,
     "metadata": {},
     "output_type": "execute_result"
    },
    {
     "data": {
      "image/png": "[encoded data removed]",
      "text/plain": [
       "<Figure size 720x720 with 1 Axes>"
      ]
     },
     "metadata": {},
     "output_type": "display_data"
    }
   ],
   "source": [
    "%matplotlib inline\n",
    "plt.figure(figsize=(10,10))\n",
    "plt.scatter(df_all_train[~df_all_train['ПЛАСТ_X'].isnull()]['ПЛАСТ_X'], \n",
    "            df_all_train[~df_all_train['ПЛАСТ_X'].isnull()]['ПЛАСТ_Y'],\n",
    "            marker = 'x',\n",
    "            c = df_all_train[~df_all_train['ПЛАСТ_X'].isnull()]['clust'])\n",
    "\n",
    "plt.scatter(df_all_test[~df_all_test['ПЛАСТ_X'].isnull()]['ПЛАСТ_X'], \n",
    "            df_all_test[~df_all_test['ПЛАСТ_X'].isnull()]['ПЛАСТ_Y'], \n",
    "            marker = 'o',\n",
    "            c = df_all_test[~df_all_test['ПЛАСТ_X'].isnull()]['clust'])\n",
    "#for xx, yy, txt in np.broadcast(df_all_test[~df_all_train['ПЛАСТ_X'].isnull()]['ПЛАСТ_X'] + 20, \n",
    "#                                df_all_test[~df_all_train['ПЛАСТ_X'].isnull()]['ПЛАСТ_Y'] + 20,\n",
    "#                                    df_all_test[~df_all_train['ПЛАСТ_X'].isnull()]['index']):\n",
    "#                plt.annotate(txt, (xx, yy), clip_on = True)\n",
    "#plt.legend()"
   ]
  },
  {
   "cell_type": "markdown",
   "metadata": {},
   "source": [
    "Пример таблицы с дебитами жидкости по каждой скважине"
   ]
  },
  {
   "cell_type": "code",
   "execution_count": 155,
   "metadata": {
    "collapsed": true
   },
   "outputs": [
    {
     "data": {
      "text/html": [
       "<div>\n",
       "<style scoped>\n",
       "    .dataframe tbody tr th:only-of-type {\n",
       "        vertical-align: middle;\n",
       "    }\n",
       "\n",
       "    .dataframe tbody tr th {\n",
       "        vertical-align: top;\n",
       "    }\n",
       "\n",
       "    .dataframe thead th {\n",
       "        text-align: right;\n",
       "    }\n",
       "</style>\n",
       "<table border=\"1\" class=\"dataframe\">\n",
       "  <thead>\n",
       "    <tr style=\"text-align: right;\">\n",
       "      <th></th>\n",
       "      <th>Скважина</th>\n",
       "      <th>Дата</th>\n",
       "      <th>liq_rate</th>\n",
       "      <th>oil_rate</th>\n",
       "      <th>wct</th>\n",
       "      <th>gas_rate</th>\n",
       "      <th>gf</th>\n",
       "      <th>gas_prod</th>\n",
       "      <th>days_on</th>\n",
       "      <th>oil_prod</th>\n",
       "      <th>frac</th>\n",
       "      <th>month</th>\n",
       "      <th>Давление пластовое</th>\n",
       "      <th>ПЛАСТ_X</th>\n",
       "      <th>ПЛАСТ_Y</th>\n",
       "      <th>clust</th>\n",
       "    </tr>\n",
       "  </thead>\n",
       "  <tbody>\n",
       "    <tr>\n",
       "      <th>0</th>\n",
       "      <td>005642f48d3e86d871bb701bac2ba042</td>\n",
       "      <td>2005-06-01</td>\n",
       "      <td>29.777778</td>\n",
       "      <td>29.722222</td>\n",
       "      <td>0.001866</td>\n",
       "      <td>1642.666667</td>\n",
       "      <td>64.0</td>\n",
       "      <td>29568.0</td>\n",
       "      <td>18.0</td>\n",
       "      <td>462.0</td>\n",
       "      <td>1.0</td>\n",
       "      <td>0</td>\n",
       "      <td>103.15</td>\n",
       "      <td>NaN</td>\n",
       "      <td>NaN</td>\n",
       "      <td>NaN</td>\n",
       "    </tr>\n",
       "    <tr>\n",
       "      <th>1</th>\n",
       "      <td>005642f48d3e86d871bb701bac2ba042</td>\n",
       "      <td>2005-07-01</td>\n",
       "      <td>6.290323</td>\n",
       "      <td>6.290323</td>\n",
       "      <td>0.000000</td>\n",
       "      <td>350.967742</td>\n",
       "      <td>64.0</td>\n",
       "      <td>10880.0</td>\n",
       "      <td>31.0</td>\n",
       "      <td>170.0</td>\n",
       "      <td>1.0</td>\n",
       "      <td>1</td>\n",
       "      <td>103.15</td>\n",
       "      <td>NaN</td>\n",
       "      <td>NaN</td>\n",
       "      <td>NaN</td>\n",
       "    </tr>\n",
       "    <tr>\n",
       "      <th>2</th>\n",
       "      <td>005642f48d3e86d871bb701bac2ba042</td>\n",
       "      <td>2005-08-01</td>\n",
       "      <td>5.366667</td>\n",
       "      <td>5.366667</td>\n",
       "      <td>0.000000</td>\n",
       "      <td>298.666667</td>\n",
       "      <td>64.0</td>\n",
       "      <td>8960.0</td>\n",
       "      <td>30.0</td>\n",
       "      <td>140.0</td>\n",
       "      <td>1.0</td>\n",
       "      <td>2</td>\n",
       "      <td>103.15</td>\n",
       "      <td>NaN</td>\n",
       "      <td>NaN</td>\n",
       "      <td>NaN</td>\n",
       "    </tr>\n",
       "    <tr>\n",
       "      <th>3</th>\n",
       "      <td>005642f48d3e86d871bb701bac2ba042</td>\n",
       "      <td>2005-09-01</td>\n",
       "      <td>5.500000</td>\n",
       "      <td>5.500000</td>\n",
       "      <td>0.000000</td>\n",
       "      <td>305.230769</td>\n",
       "      <td>64.0</td>\n",
       "      <td>7936.0</td>\n",
       "      <td>26.0</td>\n",
       "      <td>124.0</td>\n",
       "      <td>1.0</td>\n",
       "      <td>3</td>\n",
       "      <td>103.15</td>\n",
       "      <td>NaN</td>\n",
       "      <td>NaN</td>\n",
       "      <td>NaN</td>\n",
       "    </tr>\n",
       "    <tr>\n",
       "      <th>4</th>\n",
       "      <td>005642f48d3e86d871bb701bac2ba042</td>\n",
       "      <td>2005-10-01</td>\n",
       "      <td>9.733333</td>\n",
       "      <td>9.733333</td>\n",
       "      <td>0.000000</td>\n",
       "      <td>541.866667</td>\n",
       "      <td>64.0</td>\n",
       "      <td>16256.0</td>\n",
       "      <td>30.0</td>\n",
       "      <td>254.0</td>\n",
       "      <td>1.0</td>\n",
       "      <td>4</td>\n",
       "      <td>103.15</td>\n",
       "      <td>NaN</td>\n",
       "      <td>NaN</td>\n",
       "      <td>NaN</td>\n",
       "    </tr>\n",
       "  </tbody>\n",
       "</table>\n",
       "</div>"
      ],
      "text/plain": [
       "                           Скважина       Дата   liq_rate   oil_rate  \\\n",
       "0  005642f48d3e86d871bb701bac2ba042 2005-06-01  29.777778  29.722222   \n",
       "1  005642f48d3e86d871bb701bac2ba042 2005-07-01   6.290323   6.290323   \n",
       "2  005642f48d3e86d871bb701bac2ba042 2005-08-01   5.366667   5.366667   \n",
       "3  005642f48d3e86d871bb701bac2ba042 2005-09-01   5.500000   5.500000   \n",
       "4  005642f48d3e86d871bb701bac2ba042 2005-10-01   9.733333   9.733333   \n",
       "\n",
       "        wct     gas_rate    gf  gas_prod  days_on  oil_prod  frac  month  \\\n",
       "0  0.001866  1642.666667  64.0   29568.0     18.0     462.0   1.0      0   \n",
       "1  0.000000   350.967742  64.0   10880.0     31.0     170.0   1.0      1   \n",
       "2  0.000000   298.666667  64.0    8960.0     30.0     140.0   1.0      2   \n",
       "3  0.000000   305.230769  64.0    7936.0     26.0     124.0   1.0      3   \n",
       "4  0.000000   541.866667  64.0   16256.0     30.0     254.0   1.0      4   \n",
       "\n",
       "   Давление пластовое  ПЛАСТ_X  ПЛАСТ_Y  clust  \n",
       "0              103.15      NaN      NaN    NaN  \n",
       "1              103.15      NaN      NaN    NaN  \n",
       "2              103.15      NaN      NaN    NaN  \n",
       "3              103.15      NaN      NaN    NaN  \n",
       "4              103.15      NaN      NaN    NaN  "
      ]
     },
     "execution_count": 155,
     "metadata": {},
     "output_type": "execute_result"
    }
   ],
   "source": [
    "df_all_train.head()"
   ]
  },
  {
   "cell_type": "code",
   "execution_count": 35,
   "metadata": {
    "ExecuteTime": {
     "end_time": "2018-09-25T17:03:48.774403Z",
     "start_time": "2018-09-25T17:03:48.758515Z"
    }
   },
   "outputs": [
    {
     "data": {
      "text/plain": [
       "<matplotlib.axes._subplots.AxesSubplot at 0x9fdfa693c8>"
      ]
     },
     "execution_count": 35,
     "metadata": {},
     "output_type": "execute_result"
    },
    {
     "data": {
      "image/png": "[encoded data removed]",
      "text/plain": [
       "<Figure size 720x360 with 1 Axes>"
      ]
     },
     "metadata": {},
     "output_type": "display_data"
    }
   ],
   "source": [
    "df_liq_train = df_all_train[['Скважина','month', 'liq_rate']].set_index(['Скважина', 'month']).unstack(0).fillna(0)\n",
    "df_liq_train.columns = df_liq_train.columns.droplevel(0)\n",
    "\n",
    "liq_scaler = MinMaxScaler()\n",
    "df_liq_train_norm = pd.DataFrame(liq_scaler.fit(df_liq_train.values).transform(df_liq_train.values), \n",
    "                                 index = df_liq_train.index, columns = df_liq_train.columns)\n",
    "%matplotlib inline\n",
    "plt.figure(figsize=(10,5))\n",
    "\n",
    "df_liq_train_norm.T.boxplot()"
   ]
  },
  {
   "cell_type": "markdown",
   "metadata": {},
   "source": [
    "### Дни работы скважины по месяцам. Видно, что в первом месяце работают в среднем по пол месяца, а дальше уже почти все дни"
   ]
  },
  {
   "cell_type": "code",
   "execution_count": 36,
   "metadata": {
    "ExecuteTime": {
     "end_time": "2018-09-25T17:03:48.774403Z",
     "start_time": "2018-09-25T17:03:48.758515Z"
    }
   },
   "outputs": [
    {
     "data": {
      "text/plain": [
       "<matplotlib.axes._subplots.AxesSubplot at 0x9fe5e15860>"
      ]
     },
     "execution_count": 36,
     "metadata": {},
     "output_type": "execute_result"
    },
    {
     "data": {
      "image/png": "[encoded data removed]",
      "text/plain": [
       "<Figure size 720x360 with 1 Axes>"
      ]
     },
     "metadata": {},
     "output_type": "display_data"
    }
   ],
   "source": [
    "df_days_train = df_all_train[['Скважина','month', 'days_on']].set_index(['Скважина', 'month']).unstack(0).fillna(0)\n",
    "df_days_train.columns = df_days_train.columns.droplevel(0)\n",
    "mean_days_on = df_days_train[df_days_train>5].mean(axis = 1).values\n",
    "%matplotlib inline\n",
    "plt.figure(figsize=(10,5))\n",
    "df_days_train.T.boxplot()"
   ]
  },
  {
   "cell_type": "markdown",
   "metadata": {},
   "source": [
    "### Падение по дебиту нефти"
   ]
  },
  {
   "cell_type": "code",
   "execution_count": 39,
   "metadata": {
    "ExecuteTime": {
     "end_time": "2018-09-25T17:07:21.773354Z",
     "start_time": "2018-09-25T17:07:21.763142Z"
    }
   },
   "outputs": [],
   "source": [
    "df_oil_train = df_all_train[['Скважина','month', 'oil_rate']].set_index(['Скважина', 'month']).unstack(0).fillna(0)\n",
    "df_oil_train.columns = df_oil_train.columns.droplevel(0)\n",
    "oil_scaler = MinMaxScaler()\n",
    "df_oil_train_norm = pd.DataFrame(oil_scaler.fit(df_oil_train.values).transform(df_oil_train.values), \n",
    "                                 index = df_oil_train.index, columns = df_oil_train.columns)\n",
    "wells_1_0 = df_oil_train.columns[df_oil_train.loc[0,:] < df_oil_train.loc[1,:]]\n",
    "wells_0_1 = df_oil_train.columns[df_oil_train.loc[0,:] >= df_oil_train.loc[1,:]]\n"
   ]
  },
  {
   "cell_type": "code",
   "execution_count": 1,
   "metadata": {},
   "outputs": [
    {
     "ename": "NameError",
     "evalue": "name 'plt' is not defined",
     "output_type": "error",
     "traceback": [
      "\u001b[1;31m---------------------------------------------------------------------------\u001b[0m",
      "\u001b[1;31mNameError\u001b[0m                                 Traceback (most recent call last)",
      "\u001b[1;32m<ipython-input-1-f27d6ac8efd5>\u001b[0m in \u001b[0;36m<module>\u001b[1;34m()\u001b[0m\n\u001b[1;32m----> 1\u001b[1;33m \u001b[0mplt\u001b[0m\u001b[1;33m.\u001b[0m\u001b[0mfigure\u001b[0m\u001b[1;33m(\u001b[0m\u001b[0mfigsize\u001b[0m\u001b[1;33m=\u001b[0m\u001b[1;33m(\u001b[0m\u001b[1;36m10\u001b[0m\u001b[1;33m,\u001b[0m\u001b[1;36m5\u001b[0m\u001b[1;33m)\u001b[0m\u001b[1;33m)\u001b[0m\u001b[1;33m\u001b[0m\u001b[0m\n\u001b[0m\u001b[0;32m      2\u001b[0m \u001b[0mdf_oil_train\u001b[0m\u001b[1;33m.\u001b[0m\u001b[0mT\u001b[0m\u001b[1;33m.\u001b[0m\u001b[0mboxplot\u001b[0m\u001b[1;33m(\u001b[0m\u001b[1;33m)\u001b[0m\u001b[1;33m\u001b[0m\u001b[0m\n",
      "\u001b[1;31mNameError\u001b[0m: name 'plt' is not defined"
     ]
    }
   ],
   "source": [
    "plt.figure(figsize=(10,5))\n",
    "df_oil_train.T.boxplot()"
   ]
  },
  {
   "cell_type": "code",
   "execution_count": 41,
   "metadata": {},
   "outputs": [
    {
     "data": {
      "text/plain": [
       "<matplotlib.axes._subplots.AxesSubplot at 0x9fe6529470>"
      ]
     },
     "execution_count": 41,
     "metadata": {},
     "output_type": "execute_result"
    },
    {
     "data": {
      "image/png": "[encoded data removed]",
      "text/plain": [
       "<Figure size 720x360 with 1 Axes>"
      ]
     },
     "metadata": {},
     "output_type": "display_data"
    }
   ],
   "source": [
    "plt.figure(figsize=(10,5))\n",
    "df_oil_train_norm.loc[:,wells_1_0].T.boxplot()"
   ]
  },
  {
   "cell_type": "markdown",
   "metadata": {},
   "source": [
    "### Распределение добычи нефти по месяцам"
   ]
  },
  {
   "cell_type": "code",
   "execution_count": 42,
   "metadata": {
    "ExecuteTime": {
     "end_time": "2018-09-25T17:03:48.774403Z",
     "start_time": "2018-09-25T17:03:48.758515Z"
    }
   },
   "outputs": [
    {
     "data": {
      "text/plain": [
       "<matplotlib.axes._subplots.AxesSubplot at 0x9fe65ea128>"
      ]
     },
     "execution_count": 42,
     "metadata": {},
     "output_type": "execute_result"
    },
    {
     "data": {
      "image/png": "[encoded data removed]",
      "text/plain": [
       "<Figure size 720x360 with 1 Axes>"
      ]
     },
     "metadata": {},
     "output_type": "display_data"
    }
   ],
   "source": [
    "df_oil_prod_train = df_all_train[['Скважина','month', 'oil_prod']].set_index(['Скважина', 'month']).unstack(0)#.fillna(0)\n",
    "df_oil_prod_train.columns = df_oil_prod_train.columns.droplevel(0)\n",
    "plt.figure(figsize=(10,5))\n",
    "df_oil_prod_train.T.boxplot()"
   ]
  },
  {
   "cell_type": "code",
   "execution_count": 43,
   "metadata": {},
   "outputs": [],
   "source": [
    "oil_prod_mean = df_oil_prod_train.mean(axis = 1).values\n",
    "oil_prod_median = df_oil_prod_train.median(axis = 1).values"
   ]
  },
  {
   "cell_type": "code",
   "execution_count": 44,
   "metadata": {
    "collapsed": true
   },
   "outputs": [
    {
     "data": {
      "text/plain": [
       "array([456.6398081 , 845.60925373, 724.01638116, 696.33453961,\n",
       "       641.49119914, 620.66982833])"
      ]
     },
     "execution_count": 44,
     "metadata": {},
     "output_type": "execute_result"
    }
   ],
   "source": [
    "oil_prod_mean"
   ]
  }
 ],
 "metadata": {
  "kernelspec": {
   "display_name": "Python 3",
   "language": "python",
   "name": "python3"
  },
  "language_info": {
   "codemirror_mode": {
    "name": "ipython",
    "version": 3
   },
   "file_extension": ".py",
   "mimetype": "text/x-python",
   "name": "python",
   "nbconvert_exporter": "python",
   "pygments_lexer": "ipython3",
   "version": "3.6.5"
  },
  "varInspector": {
   "cols": {
    "lenName": 16,
    "lenType": 16,
    "lenVar": 40
   },
   "kernels_config": {
    "python": {
     "delete_cmd_postfix": "",
     "delete_cmd_prefix": "del ",
     "library": "var_list.py",
     "varRefreshCmd": "print(var_dic_list())"
    },
    "r": {
     "delete_cmd_postfix": ") ",
     "delete_cmd_prefix": "rm(",
     "library": "var_list.r",
     "varRefreshCmd": "cat(var_dic_list()) "
    }
   },
   "types_to_exclude": [
    "module",
    "function",
    "builtin_function_or_method",
    "instance",
    "_Feature"
   ],
   "window_display": false
  }
 },
 "nbformat": 4,
 "nbformat_minor": 2
}
