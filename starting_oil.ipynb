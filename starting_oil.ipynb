{
 "cells": [
  {
   "cell_type": "code",
   "execution_count": 1,
   "metadata": {},
   "outputs": [],
   "source": [
    "import numpy as np\n",
    "import pandas as pd\n",
    "import matplotlib.pyplot as plt\n",
    "%matplotlib inline"
   ]
  },
  {
   "cell_type": "code",
   "execution_count": 2,
   "metadata": {},
   "outputs": [],
   "source": [
    "def conv(s):\n",
    "    if s == '':\n",
    "        return np.nan\n",
    "    return np.float64(s.replace(',', '.'))"
   ]
  },
  {
   "cell_type": "code",
   "execution_count": 3,
   "metadata": {},
   "outputs": [],
   "source": [
    "train_data = pd.read_csv('./init/1/train_1.8.csv', encoding='cp1251', converters={'Нефть, т' : conv,\n",
    "                                                                           'Попутный газ, м3' : conv,\n",
    "                                                                           'Нефть, м3' : conv,\n",
    "                                                                           'Время работы, ч' : conv})\n",
    "test_data = pd.read_csv('./init/1/test_1.9.csv', encoding='cp1251', converters={'Попутный газ, м3' : conv})"
   ]
  },
  {
   "cell_type": "code",
   "execution_count": 4,
   "metadata": {},
   "outputs": [],
   "source": [
    "train_wells = np.unique(train_data[train_data['Характер работы'] == 'НЕФ']['Скважина'])\n",
    "test_wells = np.unique(test_data['Скважина'])"
   ]
  },
  {
   "cell_type": "code",
   "execution_count": 5,
   "metadata": {},
   "outputs": [],
   "source": [
    "feats = ['Скважина', 'Характер работы', 'Дата', 'Нефть, т', 'Попутный газ, м3', 'Время работы, ч', 'Нефть, м3', 'Дебит жидкости', 'Обводненность']"
   ]
  },
  {
   "cell_type": "code",
   "execution_count": 6,
   "metadata": {},
   "outputs": [],
   "source": [
    "new_df = []\n",
    "\n",
    "for well in train_wells:\n",
    "    cur_df = train_data[train_data['Скважина'] == well][feats].sort_values('Дата')\n",
    "    if cur_df['Нефть, т'].iloc[0] != '0.00':\n",
    "        cur_df = cur_df.iloc[0]\n",
    "    elif cur_df['Нефть, т'].iloc[1] != '0.00':\n",
    "        cur_df = cur_df.iloc[1]\n",
    "    elif cur_df['Нефть, т'].iloc[2] != '0.00':\n",
    "        cur_df = cur_df.iloc[2]\n",
    "    elif cur_df['Нефть, т'].iloc[3] != '0.00':\n",
    "        cur_df = cur_df.iloc[3]\n",
    "    else:\n",
    "        cur_df = cur_df.iloc[4]\n",
    "    \n",
    "    new_df.append(cur_df)"
   ]
  },
  {
   "cell_type": "code",
   "execution_count": 7,
   "metadata": {},
   "outputs": [],
   "source": [
    "new_df = pd.concat(new_df, axis=1).T"
   ]
  },
  {
   "cell_type": "code",
   "execution_count": 8,
   "metadata": {},
   "outputs": [],
   "source": [
    "new_df['Дебит'] = new_df['Дебит жидкости'] - new_df['Обводненность'] * new_df['Дебит жидкости'] / 100"
   ]
  },
  {
   "cell_type": "code",
   "execution_count": 9,
   "metadata": {},
   "outputs": [],
   "source": [
    "new_df['Дебит2'] = new_df['Нефть, м3'] / (new_df['Время работы, ч'] / 24)"
   ]
  },
  {
   "cell_type": "code",
   "execution_count": 10,
   "metadata": {},
   "outputs": [],
   "source": [
    "new_df['Дебит'] = new_df['Дебит'].fillna(new_df['Дебит2'])"
   ]
  },
  {
   "cell_type": "code",
   "execution_count": 11,
   "metadata": {},
   "outputs": [],
   "source": [
    "debit_train = new_df[['Скважина', 'Нефть, т', 'Время работы, ч', 'Дебит', 'Попутный газ, м3']].dropna(0)"
   ]
  },
  {
   "cell_type": "code",
   "execution_count": 12,
   "metadata": {},
   "outputs": [
    {
     "data": {
      "text/html": [
       "<div>\n",
       "<style>\n",
       "    .dataframe thead tr:only-child th {\n",
       "        text-align: right;\n",
       "    }\n",
       "\n",
       "    .dataframe thead th {\n",
       "        text-align: left;\n",
       "    }\n",
       "\n",
       "    .dataframe tbody tr th {\n",
       "        vertical-align: top;\n",
       "    }\n",
       "</style>\n",
       "<table border=\"1\" class=\"dataframe\">\n",
       "  <thead>\n",
       "    <tr style=\"text-align: right;\">\n",
       "      <th></th>\n",
       "      <th>Скважина</th>\n",
       "      <th>Нефть, т</th>\n",
       "      <th>Время работы, ч</th>\n",
       "      <th>Дебит</th>\n",
       "      <th>Попутный газ, м3</th>\n",
       "    </tr>\n",
       "  </thead>\n",
       "  <tbody>\n",
       "    <tr>\n",
       "      <th>1570</th>\n",
       "      <td>005642f48d3e86d871bb701bac2ba042</td>\n",
       "      <td>462</td>\n",
       "      <td>432</td>\n",
       "      <td>29.722222</td>\n",
       "      <td>29568</td>\n",
       "    </tr>\n",
       "    <tr>\n",
       "      <th>768</th>\n",
       "      <td>02bd0350b7f0cef7af7ca50801d89810</td>\n",
       "      <td>15.32</td>\n",
       "      <td>24</td>\n",
       "      <td>18.270000</td>\n",
       "      <td>2148</td>\n",
       "    </tr>\n",
       "    <tr>\n",
       "      <th>1600</th>\n",
       "      <td>038753062b1b3941bbce024a2af27e18</td>\n",
       "      <td>553</td>\n",
       "      <td>216</td>\n",
       "      <td>71.111111</td>\n",
       "      <td>35392</td>\n",
       "    </tr>\n",
       "    <tr>\n",
       "      <th>1816</th>\n",
       "      <td>04154a658a396d1c18331ebf0330744f</td>\n",
       "      <td>46</td>\n",
       "      <td>80</td>\n",
       "      <td>15.600000</td>\n",
       "      <td>3166</td>\n",
       "    </tr>\n",
       "    <tr>\n",
       "      <th>42</th>\n",
       "      <td>04d7884a9f7019671285b87ca468d0f1</td>\n",
       "      <td>334</td>\n",
       "      <td>310</td>\n",
       "      <td>29.729032</td>\n",
       "      <td>11718</td>\n",
       "    </tr>\n",
       "  </tbody>\n",
       "</table>\n",
       "</div>"
      ],
      "text/plain": [
       "                              Скважина Нефть, т Время работы, ч      Дебит  \\\n",
       "1570  005642f48d3e86d871bb701bac2ba042      462             432  29.722222   \n",
       "768   02bd0350b7f0cef7af7ca50801d89810    15.32              24  18.270000   \n",
       "1600  038753062b1b3941bbce024a2af27e18      553             216  71.111111   \n",
       "1816  04154a658a396d1c18331ebf0330744f       46              80  15.600000   \n",
       "42    04d7884a9f7019671285b87ca468d0f1      334             310  29.729032   \n",
       "\n",
       "     Попутный газ, м3  \n",
       "1570            29568  \n",
       "768              2148  \n",
       "1600            35392  \n",
       "1816             3166  \n",
       "42              11718  "
      ]
     },
     "execution_count": 12,
     "metadata": {},
     "output_type": "execute_result"
    }
   ],
   "source": [
    "debit_train.head()"
   ]
  },
  {
   "cell_type": "code",
   "execution_count": 13,
   "metadata": {
    "scrolled": false
   },
   "outputs": [
    {
     "data": {
      "text/plain": [
       "<matplotlib.collections.PathCollection at 0x105d27c88>"
      ]
     },
     "execution_count": 13,
     "metadata": {},
     "output_type": "execute_result"
    },
    {
     "data": {
      "image/png": "[encoded data removed]",
      "text/plain": [
       "<matplotlib.figure.Figure at 0x105cc3d30>"
      ]
     },
     "metadata": {},
     "output_type": "display_data"
    }
   ],
   "source": [
    "x = debit_train['Попутный газ, м3'].values.astype(np.float64)[:, np.newaxis]\n",
    "y = debit_train['Нефть, т'].values.astype(np.float64)[:, np.newaxis]\n",
    "angle = y / (x + 1)\n",
    "\n",
    "plt.figure(figsize=(10, 8))\n",
    "plt.scatter(x, y)\n",
    "#plt.xlim(0, 300000)"
   ]
  },
  {
   "cell_type": "code",
   "execution_count": 14,
   "metadata": {},
   "outputs": [],
   "source": [
    "xy = angle #np.hstack([x, y, angle])"
   ]
  },
  {
   "cell_type": "code",
   "execution_count": 15,
   "metadata": {},
   "outputs": [],
   "source": [
    "from sklearn.cluster import KMeans, SpectralClustering, DBSCAN"
   ]
  },
  {
   "cell_type": "code",
   "execution_count": 16,
   "metadata": {},
   "outputs": [
    {
     "data": {
      "text/plain": [
       "<matplotlib.collections.PathCollection at 0x108f6cfd0>"
      ]
     },
     "execution_count": 16,
     "metadata": {},
     "output_type": "execute_result"
    },
    {
     "data": {
      "image/png": "[encoded data removed]",
      "text/plain": [
       "<matplotlib.figure.Figure at 0x108d27898>"
      ]
     },
     "metadata": {},
     "output_type": "display_data"
    }
   ],
   "source": [
    "kmeans = KMeans(n_clusters = 8, random_state=1543)\n",
    "\n",
    "\n",
    "labels = kmeans.fit_predict(xy)[:, None]\n",
    "\n",
    "plt.figure(figsize=(10, 8))\n",
    "plt.scatter(x, y, c=labels)"
   ]
  },
  {
   "cell_type": "code",
   "execution_count": 17,
   "metadata": {},
   "outputs": [],
   "source": [
    "z = debit_train['Время работы, ч'].values.astype(np.float64)[:, np.newaxis]"
   ]
  },
  {
   "cell_type": "code",
   "execution_count": 18,
   "metadata": {},
   "outputs": [
    {
     "data": {
      "text/plain": [
       "<matplotlib.collections.PathCollection at 0x108fd8d68>"
      ]
     },
     "execution_count": 18,
     "metadata": {},
     "output_type": "execute_result"
    },
    {
     "data": {
      "image/png": "[encoded data removed]",
      "text/plain": [
       "<matplotlib.figure.Figure at 0x108f84b70>"
      ]
     },
     "metadata": {},
     "output_type": "display_data"
    }
   ],
   "source": [
    "plt.figure(figsize=(10, 8))\n",
    "plt.scatter(z, y)"
   ]
  },
  {
   "cell_type": "code",
   "execution_count": 19,
   "metadata": {},
   "outputs": [],
   "source": [
    "mean_angle = angle.mean()"
   ]
  },
  {
   "cell_type": "markdown",
   "metadata": {},
   "source": [
    "## Достанем данные по координатам"
   ]
  },
  {
   "cell_type": "code",
   "execution_count": 20,
   "metadata": {},
   "outputs": [],
   "source": [
    "coords_train = pd.read_csv('./init/1/coords_train_1.1.csv', encoding='cp1251')\n",
    "coords_train = coords_train.groupby('well_hash')['ПЛАСТ_X', 'ПЛАСТ_Y'].mean()\n",
    "coords_train.reset_index(inplace=True)\n",
    "coords_train.rename(columns={'well_hash' : 'Скважина'}, inplace=True)"
   ]
  },
  {
   "cell_type": "code",
   "execution_count": 21,
   "metadata": {},
   "outputs": [],
   "source": [
    "coords_test = pd.read_csv('./init/1/coords_test_1.1.csv', encoding='cp1251')\n",
    "coords_test = coords_test.groupby('well_hash')['ПЛАСТ_X', 'ПЛАСТ_Y'].mean()\n",
    "coords_test.reset_index(inplace=True)\n",
    "coords_test.rename(columns={'well_hash' : 'Скважина'}, inplace=True)"
   ]
  },
  {
   "cell_type": "code",
   "execution_count": 22,
   "metadata": {},
   "outputs": [
    {
     "data": {
      "text/html": [
       "<div>\n",
       "<style>\n",
       "    .dataframe thead tr:only-child th {\n",
       "        text-align: right;\n",
       "    }\n",
       "\n",
       "    .dataframe thead th {\n",
       "        text-align: left;\n",
       "    }\n",
       "\n",
       "    .dataframe tbody tr th {\n",
       "        vertical-align: top;\n",
       "    }\n",
       "</style>\n",
       "<table border=\"1\" class=\"dataframe\">\n",
       "  <thead>\n",
       "    <tr style=\"text-align: right;\">\n",
       "      <th></th>\n",
       "      <th>Скважина</th>\n",
       "      <th>ПЛАСТ_X</th>\n",
       "      <th>ПЛАСТ_Y</th>\n",
       "    </tr>\n",
       "  </thead>\n",
       "  <tbody>\n",
       "    <tr>\n",
       "      <th>0</th>\n",
       "      <td>02bd0350b7f0cef7af7ca50801d89810</td>\n",
       "      <td>1.297986e+07</td>\n",
       "      <td>3.998130e+07</td>\n",
       "    </tr>\n",
       "    <tr>\n",
       "      <th>1</th>\n",
       "      <td>046568c4bd1c6343c5f932ef6a21b112</td>\n",
       "      <td>1.243139e+07</td>\n",
       "      <td>3.780028e+07</td>\n",
       "    </tr>\n",
       "    <tr>\n",
       "      <th>2</th>\n",
       "      <td>04d7884a9f7019671285b87ca468d0f1</td>\n",
       "      <td>1.243339e+07</td>\n",
       "      <td>3.781346e+07</td>\n",
       "    </tr>\n",
       "    <tr>\n",
       "      <th>3</th>\n",
       "      <td>053c7b37c95c4617f331791134227db7</td>\n",
       "      <td>1.240853e+07</td>\n",
       "      <td>3.776296e+07</td>\n",
       "    </tr>\n",
       "    <tr>\n",
       "      <th>4</th>\n",
       "      <td>0556368a803a0c64972646d4bfaecd86</td>\n",
       "      <td>1.164759e+07</td>\n",
       "      <td>3.637853e+07</td>\n",
       "    </tr>\n",
       "  </tbody>\n",
       "</table>\n",
       "</div>"
      ],
      "text/plain": [
       "                           Скважина       ПЛАСТ_X       ПЛАСТ_Y\n",
       "0  02bd0350b7f0cef7af7ca50801d89810  1.297986e+07  3.998130e+07\n",
       "1  046568c4bd1c6343c5f932ef6a21b112  1.243139e+07  3.780028e+07\n",
       "2  04d7884a9f7019671285b87ca468d0f1  1.243339e+07  3.781346e+07\n",
       "3  053c7b37c95c4617f331791134227db7  1.240853e+07  3.776296e+07\n",
       "4  0556368a803a0c64972646d4bfaecd86  1.164759e+07  3.637853e+07"
      ]
     },
     "execution_count": 22,
     "metadata": {},
     "output_type": "execute_result"
    }
   ],
   "source": [
    "coords_train.head()"
   ]
  },
  {
   "cell_type": "code",
   "execution_count": 23,
   "metadata": {},
   "outputs": [
    {
     "data": {
      "text/plain": [
       "<matplotlib.collections.PathCollection at 0x1093273c8>"
      ]
     },
     "execution_count": 23,
     "metadata": {},
     "output_type": "execute_result"
    },
    {
     "data": {
      "image/png": "[encoded data removed]",
      "text/plain": [
       "<matplotlib.figure.Figure at 0x108ff15f8>"
      ]
     },
     "metadata": {},
     "output_type": "display_data"
    }
   ],
   "source": [
    "x_train = coords_train['ПЛАСТ_X'].values\n",
    "y_train = coords_train['ПЛАСТ_Y'].values\n",
    "\n",
    "x_test = coords_test['ПЛАСТ_X'].values\n",
    "y_test = coords_test['ПЛАСТ_Y'].values\n",
    "\n",
    "plt.figure(figsize=(10, 8))\n",
    "plt.scatter(x_train, y_train)\n",
    "plt.scatter(x_test, y_test)"
   ]
  },
  {
   "cell_type": "markdown",
   "metadata": {},
   "source": [
    "## Достанем данные по давлению в пласте"
   ]
  },
  {
   "cell_type": "code",
   "execution_count": 24,
   "metadata": {},
   "outputs": [],
   "source": [
    "gdis_train = pd.read_csv('./init/1/gdis_train1.2.csv', encoding='cp1251')\n",
    "gdis_train = gdis_train.groupby('Скважина').mean().reset_index()\n",
    "\n",
    "gdis_test = pd.read_csv('./init/1/gdis_test1.2.csv', encoding='cp1251')\n",
    "gdis_test = gdis_test.groupby('Скважина').mean().reset_index()"
   ]
  },
  {
   "cell_type": "code",
   "execution_count": 25,
   "metadata": {},
   "outputs": [
    {
     "data": {
      "text/html": [
       "<div>\n",
       "<style>\n",
       "    .dataframe thead tr:only-child th {\n",
       "        text-align: right;\n",
       "    }\n",
       "\n",
       "    .dataframe thead th {\n",
       "        text-align: left;\n",
       "    }\n",
       "\n",
       "    .dataframe tbody tr th {\n",
       "        vertical-align: top;\n",
       "    }\n",
       "</style>\n",
       "<table border=\"1\" class=\"dataframe\">\n",
       "  <thead>\n",
       "    <tr style=\"text-align: right;\">\n",
       "      <th></th>\n",
       "      <th>Скважина</th>\n",
       "      <th>Давление пластовое</th>\n",
       "    </tr>\n",
       "  </thead>\n",
       "  <tbody>\n",
       "    <tr>\n",
       "      <th>0</th>\n",
       "      <td>005642f48d3e86d871bb701bac2ba042</td>\n",
       "      <td>103.150000</td>\n",
       "    </tr>\n",
       "    <tr>\n",
       "      <th>1</th>\n",
       "      <td>02384c4d1324238fb99fcf66c88fbdad</td>\n",
       "      <td>218.566667</td>\n",
       "    </tr>\n",
       "    <tr>\n",
       "      <th>2</th>\n",
       "      <td>02bd0350b7f0cef7af7ca50801d89810</td>\n",
       "      <td>255.150000</td>\n",
       "    </tr>\n",
       "    <tr>\n",
       "      <th>3</th>\n",
       "      <td>031f7cf95ada8d6e49ad6bd96c886d9c</td>\n",
       "      <td>83.000000</td>\n",
       "    </tr>\n",
       "    <tr>\n",
       "      <th>4</th>\n",
       "      <td>038753062b1b3941bbce024a2af27e18</td>\n",
       "      <td>232.300000</td>\n",
       "    </tr>\n",
       "  </tbody>\n",
       "</table>\n",
       "</div>"
      ],
      "text/plain": [
       "                           Скважина  Давление пластовое\n",
       "0  005642f48d3e86d871bb701bac2ba042          103.150000\n",
       "1  02384c4d1324238fb99fcf66c88fbdad          218.566667\n",
       "2  02bd0350b7f0cef7af7ca50801d89810          255.150000\n",
       "3  031f7cf95ada8d6e49ad6bd96c886d9c           83.000000\n",
       "4  038753062b1b3941bbce024a2af27e18          232.300000"
      ]
     },
     "execution_count": 25,
     "metadata": {},
     "output_type": "execute_result"
    }
   ],
   "source": [
    "gdis_train.head()"
   ]
  },
  {
   "cell_type": "markdown",
   "metadata": {},
   "source": [
    "## Достанем данные по ГРП"
   ]
  },
  {
   "cell_type": "code",
   "execution_count": 26,
   "metadata": {},
   "outputs": [],
   "source": [
    "grp_df_train = pd.read_csv('./init/1/frac_train_1.csv', encoding='cp1251')"
   ]
  },
  {
   "cell_type": "code",
   "execution_count": 27,
   "metadata": {},
   "outputs": [],
   "source": [
    "grp_train = pd.Series(train_wells).apply(lambda x: x in grp_df_train['Скважина'].values).astype(int)"
   ]
  },
  {
   "cell_type": "code",
   "execution_count": 28,
   "metadata": {},
   "outputs": [],
   "source": [
    "grp_train = pd.DataFrame(data=np.stack([train_wells, grp_train], axis=1), columns=['Скважина', 'ГРП'])"
   ]
  },
  {
   "cell_type": "code",
   "execution_count": 29,
   "metadata": {},
   "outputs": [
    {
     "data": {
      "text/html": [
       "<div>\n",
       "<style>\n",
       "    .dataframe thead tr:only-child th {\n",
       "        text-align: right;\n",
       "    }\n",
       "\n",
       "    .dataframe thead th {\n",
       "        text-align: left;\n",
       "    }\n",
       "\n",
       "    .dataframe tbody tr th {\n",
       "        vertical-align: top;\n",
       "    }\n",
       "</style>\n",
       "<table border=\"1\" class=\"dataframe\">\n",
       "  <thead>\n",
       "    <tr style=\"text-align: right;\">\n",
       "      <th></th>\n",
       "      <th>Скважина</th>\n",
       "      <th>ГРП</th>\n",
       "    </tr>\n",
       "  </thead>\n",
       "  <tbody>\n",
       "    <tr>\n",
       "      <th>0</th>\n",
       "      <td>005642f48d3e86d871bb701bac2ba042</td>\n",
       "      <td>1</td>\n",
       "    </tr>\n",
       "    <tr>\n",
       "      <th>1</th>\n",
       "      <td>02384c4d1324238fb99fcf66c88fbdad</td>\n",
       "      <td>1</td>\n",
       "    </tr>\n",
       "    <tr>\n",
       "      <th>2</th>\n",
       "      <td>02bd0350b7f0cef7af7ca50801d89810</td>\n",
       "      <td>1</td>\n",
       "    </tr>\n",
       "    <tr>\n",
       "      <th>3</th>\n",
       "      <td>02dba139f57f4aa50c3fbf56f586551f</td>\n",
       "      <td>1</td>\n",
       "    </tr>\n",
       "    <tr>\n",
       "      <th>4</th>\n",
       "      <td>038753062b1b3941bbce024a2af27e18</td>\n",
       "      <td>1</td>\n",
       "    </tr>\n",
       "  </tbody>\n",
       "</table>\n",
       "</div>"
      ],
      "text/plain": [
       "                           Скважина ГРП\n",
       "0  005642f48d3e86d871bb701bac2ba042   1\n",
       "1  02384c4d1324238fb99fcf66c88fbdad   1\n",
       "2  02bd0350b7f0cef7af7ca50801d89810   1\n",
       "3  02dba139f57f4aa50c3fbf56f586551f   1\n",
       "4  038753062b1b3941bbce024a2af27e18   1"
      ]
     },
     "execution_count": 29,
     "metadata": {},
     "output_type": "execute_result"
    }
   ],
   "source": [
    "grp_train.head()"
   ]
  },
  {
   "cell_type": "code",
   "execution_count": 30,
   "metadata": {},
   "outputs": [],
   "source": [
    "grp_df_test = pd.read_csv('./init/1/frac_test_1.csv', encoding='cp1251')"
   ]
  },
  {
   "cell_type": "code",
   "execution_count": 31,
   "metadata": {},
   "outputs": [],
   "source": [
    "grp_test = pd.Series(test_wells).apply(lambda x: x in grp_df_test['Скважина'].values).astype(int)"
   ]
  },
  {
   "cell_type": "code",
   "execution_count": 32,
   "metadata": {},
   "outputs": [],
   "source": [
    "grp_test = pd.DataFrame(data=np.stack([test_wells, grp_test], axis=1), columns=['Скважина', 'ГРП'])"
   ]
  },
  {
   "cell_type": "code",
   "execution_count": 33,
   "metadata": {},
   "outputs": [
    {
     "data": {
      "text/html": [
       "<div>\n",
       "<style>\n",
       "    .dataframe thead tr:only-child th {\n",
       "        text-align: right;\n",
       "    }\n",
       "\n",
       "    .dataframe thead th {\n",
       "        text-align: left;\n",
       "    }\n",
       "\n",
       "    .dataframe tbody tr th {\n",
       "        vertical-align: top;\n",
       "    }\n",
       "</style>\n",
       "<table border=\"1\" class=\"dataframe\">\n",
       "  <thead>\n",
       "    <tr style=\"text-align: right;\">\n",
       "      <th></th>\n",
       "      <th>Скважина</th>\n",
       "      <th>ГРП</th>\n",
       "    </tr>\n",
       "  </thead>\n",
       "  <tbody>\n",
       "    <tr>\n",
       "      <th>0</th>\n",
       "      <td>002ff5b8a6dc271f58581e1b4fa2c5fc</td>\n",
       "      <td>1</td>\n",
       "    </tr>\n",
       "    <tr>\n",
       "      <th>1</th>\n",
       "      <td>008d0347e572a5d938a9c40c29e539fc</td>\n",
       "      <td>0</td>\n",
       "    </tr>\n",
       "    <tr>\n",
       "      <th>2</th>\n",
       "      <td>00b40cb7bb8c9fd1ac26b4cc86f2b291</td>\n",
       "      <td>0</td>\n",
       "    </tr>\n",
       "    <tr>\n",
       "      <th>3</th>\n",
       "      <td>01ba18d8b6d29875a18d4bca4eb201d7</td>\n",
       "      <td>1</td>\n",
       "    </tr>\n",
       "    <tr>\n",
       "      <th>4</th>\n",
       "      <td>024ec6f6e3f9c5150ecf525bf8b7a6a3</td>\n",
       "      <td>1</td>\n",
       "    </tr>\n",
       "  </tbody>\n",
       "</table>\n",
       "</div>"
      ],
      "text/plain": [
       "                           Скважина ГРП\n",
       "0  002ff5b8a6dc271f58581e1b4fa2c5fc   1\n",
       "1  008d0347e572a5d938a9c40c29e539fc   0\n",
       "2  00b40cb7bb8c9fd1ac26b4cc86f2b291   0\n",
       "3  01ba18d8b6d29875a18d4bca4eb201d7   1\n",
       "4  024ec6f6e3f9c5150ecf525bf8b7a6a3   1"
      ]
     },
     "execution_count": 33,
     "metadata": {},
     "output_type": "execute_result"
    }
   ],
   "source": [
    "grp_test.head()"
   ]
  },
  {
   "cell_type": "markdown",
   "metadata": {},
   "source": [
    "## Объединим все!"
   ]
  },
  {
   "cell_type": "code",
   "execution_count": 34,
   "metadata": {},
   "outputs": [],
   "source": [
    "all_train = pd.concat([debit_train.set_index('Скважина'),\n",
    "                       grp_train.set_index('Скважина'),\n",
    "                       gdis_train.set_index('Скважина'),\n",
    "                       coords_train.set_index('Скважина')], axis=1)\n",
    "\n",
    "all_test = pd.concat([test_data[['Скважина', 'Попутный газ, м3']].set_index('Скважина'),\n",
    "                      grp_test.set_index('Скважина'),\n",
    "                      gdis_test.set_index('Скважина'),\n",
    "                      coords_test.set_index('Скважина')], axis=1)"
   ]
  },
  {
   "cell_type": "code",
   "execution_count": 35,
   "metadata": {},
   "outputs": [],
   "source": [
    "all_train = all_train.fillna({'Давление пластовое' : all_train['Давление пластовое'].mean(), \n",
    "                              'ПЛАСТ_X':-9999, \n",
    "                              'ПЛАСТ_Y':-9999})\n",
    "all_test = all_test.fillna({'Давление пластовое' : all_train['Давление пластовое'].mean(), \n",
    "                            'ПЛАСТ_X':-9999, \n",
    "                            'ПЛАСТ_Y':-9999})"
   ]
  },
  {
   "cell_type": "code",
   "execution_count": 36,
   "metadata": {},
   "outputs": [
    {
     "data": {
      "text/html": [
       "<div>\n",
       "<style>\n",
       "    .dataframe thead tr:only-child th {\n",
       "        text-align: right;\n",
       "    }\n",
       "\n",
       "    .dataframe thead th {\n",
       "        text-align: left;\n",
       "    }\n",
       "\n",
       "    .dataframe tbody tr th {\n",
       "        vertical-align: top;\n",
       "    }\n",
       "</style>\n",
       "<table border=\"1\" class=\"dataframe\">\n",
       "  <thead>\n",
       "    <tr style=\"text-align: right;\">\n",
       "      <th></th>\n",
       "      <th>Попутный газ, м3</th>\n",
       "      <th>ГРП</th>\n",
       "      <th>Давление пластовое</th>\n",
       "      <th>ПЛАСТ_X</th>\n",
       "      <th>ПЛАСТ_Y</th>\n",
       "    </tr>\n",
       "  </thead>\n",
       "  <tbody>\n",
       "    <tr>\n",
       "      <th>002ff5b8a6dc271f58581e1b4fa2c5fc</th>\n",
       "      <td>0.0</td>\n",
       "      <td>1</td>\n",
       "      <td>185.958466</td>\n",
       "      <td>-9.999000e+03</td>\n",
       "      <td>-9.999000e+03</td>\n",
       "    </tr>\n",
       "    <tr>\n",
       "      <th>008d0347e572a5d938a9c40c29e539fc</th>\n",
       "      <td>NaN</td>\n",
       "      <td>0</td>\n",
       "      <td>185.958466</td>\n",
       "      <td>1.272636e+07</td>\n",
       "      <td>3.857880e+07</td>\n",
       "    </tr>\n",
       "    <tr>\n",
       "      <th>00b40cb7bb8c9fd1ac26b4cc86f2b291</th>\n",
       "      <td>NaN</td>\n",
       "      <td>0</td>\n",
       "      <td>185.958466</td>\n",
       "      <td>-9.999000e+03</td>\n",
       "      <td>-9.999000e+03</td>\n",
       "    </tr>\n",
       "    <tr>\n",
       "      <th>01ba18d8b6d29875a18d4bca4eb201d7</th>\n",
       "      <td>6929.0</td>\n",
       "      <td>1</td>\n",
       "      <td>117.500000</td>\n",
       "      <td>-9.999000e+03</td>\n",
       "      <td>-9.999000e+03</td>\n",
       "    </tr>\n",
       "    <tr>\n",
       "      <th>024ec6f6e3f9c5150ecf525bf8b7a6a3</th>\n",
       "      <td>0.0</td>\n",
       "      <td>1</td>\n",
       "      <td>231.000000</td>\n",
       "      <td>1.243423e+07</td>\n",
       "      <td>3.781085e+07</td>\n",
       "    </tr>\n",
       "  </tbody>\n",
       "</table>\n",
       "</div>"
      ],
      "text/plain": [
       "                                  Попутный газ, м3 ГРП  Давление пластовое  \\\n",
       "002ff5b8a6dc271f58581e1b4fa2c5fc               0.0   1          185.958466   \n",
       "008d0347e572a5d938a9c40c29e539fc               NaN   0          185.958466   \n",
       "00b40cb7bb8c9fd1ac26b4cc86f2b291               NaN   0          185.958466   \n",
       "01ba18d8b6d29875a18d4bca4eb201d7            6929.0   1          117.500000   \n",
       "024ec6f6e3f9c5150ecf525bf8b7a6a3               0.0   1          231.000000   \n",
       "\n",
       "                                       ПЛАСТ_X       ПЛАСТ_Y  \n",
       "002ff5b8a6dc271f58581e1b4fa2c5fc -9.999000e+03 -9.999000e+03  \n",
       "008d0347e572a5d938a9c40c29e539fc  1.272636e+07  3.857880e+07  \n",
       "00b40cb7bb8c9fd1ac26b4cc86f2b291 -9.999000e+03 -9.999000e+03  \n",
       "01ba18d8b6d29875a18d4bca4eb201d7 -9.999000e+03 -9.999000e+03  \n",
       "024ec6f6e3f9c5150ecf525bf8b7a6a3  1.243423e+07  3.781085e+07  "
      ]
     },
     "execution_count": 36,
     "metadata": {},
     "output_type": "execute_result"
    }
   ],
   "source": [
    "all_test.head()"
   ]
  },
  {
   "cell_type": "code",
   "execution_count": 37,
   "metadata": {
    "scrolled": true
   },
   "outputs": [
    {
     "data": {
      "text/html": [
       "<div>\n",
       "<style>\n",
       "    .dataframe thead tr:only-child th {\n",
       "        text-align: right;\n",
       "    }\n",
       "\n",
       "    .dataframe thead th {\n",
       "        text-align: left;\n",
       "    }\n",
       "\n",
       "    .dataframe tbody tr th {\n",
       "        vertical-align: top;\n",
       "    }\n",
       "</style>\n",
       "<table border=\"1\" class=\"dataframe\">\n",
       "  <thead>\n",
       "    <tr style=\"text-align: right;\">\n",
       "      <th></th>\n",
       "      <th>Нефть, т</th>\n",
       "      <th>Время работы, ч</th>\n",
       "      <th>Дебит</th>\n",
       "      <th>Попутный газ, м3</th>\n",
       "      <th>ГРП</th>\n",
       "      <th>Давление пластовое</th>\n",
       "      <th>ПЛАСТ_X</th>\n",
       "      <th>ПЛАСТ_Y</th>\n",
       "    </tr>\n",
       "  </thead>\n",
       "  <tbody>\n",
       "    <tr>\n",
       "      <th>005642f48d3e86d871bb701bac2ba042</th>\n",
       "      <td>462</td>\n",
       "      <td>432</td>\n",
       "      <td>29.722222</td>\n",
       "      <td>29568</td>\n",
       "      <td>1</td>\n",
       "      <td>103.150000</td>\n",
       "      <td>-9.999000e+03</td>\n",
       "      <td>-9.999000e+03</td>\n",
       "    </tr>\n",
       "    <tr>\n",
       "      <th>02384c4d1324238fb99fcf66c88fbdad</th>\n",
       "      <td>NaN</td>\n",
       "      <td>NaN</td>\n",
       "      <td>NaN</td>\n",
       "      <td>NaN</td>\n",
       "      <td>1</td>\n",
       "      <td>218.566667</td>\n",
       "      <td>-9.999000e+03</td>\n",
       "      <td>-9.999000e+03</td>\n",
       "    </tr>\n",
       "    <tr>\n",
       "      <th>02bd0350b7f0cef7af7ca50801d89810</th>\n",
       "      <td>15.32</td>\n",
       "      <td>24</td>\n",
       "      <td>18.270000</td>\n",
       "      <td>2148</td>\n",
       "      <td>1</td>\n",
       "      <td>255.150000</td>\n",
       "      <td>1.297986e+07</td>\n",
       "      <td>3.998130e+07</td>\n",
       "    </tr>\n",
       "    <tr>\n",
       "      <th>02dba139f57f4aa50c3fbf56f586551f</th>\n",
       "      <td>NaN</td>\n",
       "      <td>NaN</td>\n",
       "      <td>NaN</td>\n",
       "      <td>NaN</td>\n",
       "      <td>1</td>\n",
       "      <td>185.958466</td>\n",
       "      <td>-9.999000e+03</td>\n",
       "      <td>-9.999000e+03</td>\n",
       "    </tr>\n",
       "    <tr>\n",
       "      <th>031f7cf95ada8d6e49ad6bd96c886d9c</th>\n",
       "      <td>NaN</td>\n",
       "      <td>NaN</td>\n",
       "      <td>NaN</td>\n",
       "      <td>NaN</td>\n",
       "      <td>NaN</td>\n",
       "      <td>83.000000</td>\n",
       "      <td>-9.999000e+03</td>\n",
       "      <td>-9.999000e+03</td>\n",
       "    </tr>\n",
       "  </tbody>\n",
       "</table>\n",
       "</div>"
      ],
      "text/plain": [
       "                                 Нефть, т Время работы, ч      Дебит  \\\n",
       "005642f48d3e86d871bb701bac2ba042      462             432  29.722222   \n",
       "02384c4d1324238fb99fcf66c88fbdad      NaN             NaN        NaN   \n",
       "02bd0350b7f0cef7af7ca50801d89810    15.32              24  18.270000   \n",
       "02dba139f57f4aa50c3fbf56f586551f      NaN             NaN        NaN   \n",
       "031f7cf95ada8d6e49ad6bd96c886d9c      NaN             NaN        NaN   \n",
       "\n",
       "                                 Попутный газ, м3  ГРП  Давление пластовое  \\\n",
       "005642f48d3e86d871bb701bac2ba042            29568    1          103.150000   \n",
       "02384c4d1324238fb99fcf66c88fbdad              NaN    1          218.566667   \n",
       "02bd0350b7f0cef7af7ca50801d89810             2148    1          255.150000   \n",
       "02dba139f57f4aa50c3fbf56f586551f              NaN    1          185.958466   \n",
       "031f7cf95ada8d6e49ad6bd96c886d9c              NaN  NaN           83.000000   \n",
       "\n",
       "                                       ПЛАСТ_X       ПЛАСТ_Y  \n",
       "005642f48d3e86d871bb701bac2ba042 -9.999000e+03 -9.999000e+03  \n",
       "02384c4d1324238fb99fcf66c88fbdad -9.999000e+03 -9.999000e+03  \n",
       "02bd0350b7f0cef7af7ca50801d89810  1.297986e+07  3.998130e+07  \n",
       "02dba139f57f4aa50c3fbf56f586551f -9.999000e+03 -9.999000e+03  \n",
       "031f7cf95ada8d6e49ad6bd96c886d9c -9.999000e+03 -9.999000e+03  "
      ]
     },
     "execution_count": 37,
     "metadata": {},
     "output_type": "execute_result"
    }
   ],
   "source": [
    "all_train.head()"
   ]
  },
  {
   "cell_type": "markdown",
   "metadata": {},
   "source": [
    "## Отделим данные с попутным газом и без него"
   ]
  },
  {
   "cell_type": "code",
   "execution_count": 38,
   "metadata": {},
   "outputs": [],
   "source": [
    "gas_index = all_test['Попутный газ, м3'] > 0"
   ]
  },
  {
   "cell_type": "code",
   "execution_count": 39,
   "metadata": {},
   "outputs": [],
   "source": [
    "starting_oil_pred = np.zeros(all_test.shape[0]) \n",
    "starting_oil_pred[gas_index] = mean_angle * all_test['Попутный газ, м3'][gas_index]"
   ]
  },
  {
   "cell_type": "markdown",
   "metadata": {},
   "source": [
    "# Предсказание стартового значения \"Нефть, т\""
   ]
  },
  {
   "cell_type": "code",
   "execution_count": 40,
   "metadata": {},
   "outputs": [],
   "source": [
    "X = pd.DataFrame(all_train[['Нефть, т', 'ГРП', 'Давление пластовое', 'ПЛАСТ_X', 'ПЛАСТ_Y']]).dropna(0)\n",
    "y = X['Нефть, т']\n",
    "X = X.drop('Нефть, т', 1)\n",
    "X_test = pd.DataFrame(all_test[['ГРП', 'Давление пластовое', 'ПЛАСТ_X', 'ПЛАСТ_Y']])[~gas_index]"
   ]
  },
  {
   "cell_type": "code",
   "execution_count": 41,
   "metadata": {},
   "outputs": [],
   "source": [
    "from sklearn.model_selection import train_test_split"
   ]
  },
  {
   "cell_type": "code",
   "execution_count": 42,
   "metadata": {},
   "outputs": [],
   "source": [
    "X_train, X_val, y_train, y_val = train_test_split(X, y, test_size=0.3, random_state=1543)"
   ]
  },
  {
   "cell_type": "markdown",
   "metadata": {},
   "source": [
    "#### KNN"
   ]
  },
  {
   "cell_type": "code",
   "execution_count": 43,
   "metadata": {},
   "outputs": [],
   "source": [
    "from sklearn.neighbors import KNeighborsRegressor\n",
    "from sklearn.model_selection import cross_val_score, KFold, GridSearchCV\n",
    "from sklearn.metrics import mean_absolute_error as mae\n",
    "from sklearn.metrics import make_scorer"
   ]
  },
  {
   "cell_type": "code",
   "execution_count": 44,
   "metadata": {},
   "outputs": [],
   "source": [
    "kfold = KFold(n_splits=5)\n",
    "grid = GridSearchCV(KNeighborsRegressor(),\n",
    "                    param_grid={'n_neighbors' : np.arange(1, 100, 3), \n",
    "                                'p' : [1, 2, 3, 4]},\n",
    "                    scoring='neg_mean_absolute_error',\n",
    "                    cv=kfold)"
   ]
  },
  {
   "cell_type": "code",
   "execution_count": 45,
   "metadata": {},
   "outputs": [
    {
     "data": {
      "text/plain": [
       "GridSearchCV(cv=KFold(n_splits=5, random_state=None, shuffle=False),\n",
       "       error_score='raise',\n",
       "       estimator=KNeighborsRegressor(algorithm='auto', leaf_size=30, metric='minkowski',\n",
       "          metric_params=None, n_jobs=1, n_neighbors=5, p=2,\n",
       "          weights='uniform'),\n",
       "       fit_params=None, iid=True, n_jobs=1,\n",
       "       param_grid={'n_neighbors': array([ 1,  4,  7, 10, 13, 16, 19, 22, 25, 28, 31, 34, 37, 40, 43, 46, 49,\n",
       "       52, 55, 58, 61, 64, 67, 70, 73, 76, 79, 82, 85, 88, 91, 94, 97]), 'p': [1, 2, 3, 4]},\n",
       "       pre_dispatch='2*n_jobs', refit=True, return_train_score=True,\n",
       "       scoring='neg_mean_absolute_error', verbose=0)"
      ]
     },
     "execution_count": 45,
     "metadata": {},
     "output_type": "execute_result"
    }
   ],
   "source": [
    "grid.fit(X, y)"
   ]
  },
  {
   "cell_type": "code",
   "execution_count": 46,
   "metadata": {},
   "outputs": [
    {
     "data": {
      "text/plain": [
       "-237.37053947808633"
      ]
     },
     "execution_count": 46,
     "metadata": {},
     "output_type": "execute_result"
    }
   ],
   "source": [
    "grid.best_score_"
   ]
  },
  {
   "cell_type": "code",
   "execution_count": 47,
   "metadata": {},
   "outputs": [
    {
     "data": {
      "text/plain": [
       "{'n_neighbors': 49, 'p': 1}"
      ]
     },
     "execution_count": 47,
     "metadata": {},
     "output_type": "execute_result"
    }
   ],
   "source": [
    "grid.best_params_"
   ]
  },
  {
   "cell_type": "code",
   "execution_count": 48,
   "metadata": {},
   "outputs": [
    {
     "data": {
      "text/plain": [
       "KNeighborsRegressor(algorithm='auto', leaf_size=30, metric='minkowski',\n",
       "          metric_params=None, n_jobs=1, n_neighbors=49, p=1,\n",
       "          weights='uniform')"
      ]
     },
     "execution_count": 48,
     "metadata": {},
     "output_type": "execute_result"
    }
   ],
   "source": [
    "knn = grid.best_estimator_\n",
    "knn.fit(X, y)"
   ]
  },
  {
   "cell_type": "code",
   "execution_count": 49,
   "metadata": {},
   "outputs": [],
   "source": [
    "starting_oil_pred[~gas_index] = knn.predict(X_test)"
   ]
  },
  {
   "cell_type": "code",
   "execution_count": 50,
   "metadata": {},
   "outputs": [],
   "source": [
    "starting_oil_df = pd.DataFrame(data={'starting_oil' : starting_oil_pred}, index=all_test.index)"
   ]
  },
  {
   "cell_type": "code",
   "execution_count": 51,
   "metadata": {},
   "outputs": [
    {
     "data": {
      "text/html": [
       "<div>\n",
       "<style>\n",
       "    .dataframe thead tr:only-child th {\n",
       "        text-align: right;\n",
       "    }\n",
       "\n",
       "    .dataframe thead th {\n",
       "        text-align: left;\n",
       "    }\n",
       "\n",
       "    .dataframe tbody tr th {\n",
       "        vertical-align: top;\n",
       "    }\n",
       "</style>\n",
       "<table border=\"1\" class=\"dataframe\">\n",
       "  <thead>\n",
       "    <tr style=\"text-align: right;\">\n",
       "      <th></th>\n",
       "      <th>starting_oil</th>\n",
       "    </tr>\n",
       "  </thead>\n",
       "  <tbody>\n",
       "    <tr>\n",
       "      <th>002ff5b8a6dc271f58581e1b4fa2c5fc</th>\n",
       "      <td>207.461837</td>\n",
       "    </tr>\n",
       "    <tr>\n",
       "      <th>008d0347e572a5d938a9c40c29e539fc</th>\n",
       "      <td>267.507143</td>\n",
       "    </tr>\n",
       "    <tr>\n",
       "      <th>00b40cb7bb8c9fd1ac26b4cc86f2b291</th>\n",
       "      <td>207.461837</td>\n",
       "    </tr>\n",
       "    <tr>\n",
       "      <th>01ba18d8b6d29875a18d4bca4eb201d7</th>\n",
       "      <td>109.233242</td>\n",
       "    </tr>\n",
       "    <tr>\n",
       "      <th>024ec6f6e3f9c5150ecf525bf8b7a6a3</th>\n",
       "      <td>311.273265</td>\n",
       "    </tr>\n",
       "  </tbody>\n",
       "</table>\n",
       "</div>"
      ],
      "text/plain": [
       "                                  starting_oil\n",
       "002ff5b8a6dc271f58581e1b4fa2c5fc    207.461837\n",
       "008d0347e572a5d938a9c40c29e539fc    267.507143\n",
       "00b40cb7bb8c9fd1ac26b4cc86f2b291    207.461837\n",
       "01ba18d8b6d29875a18d4bca4eb201d7    109.233242\n",
       "024ec6f6e3f9c5150ecf525bf8b7a6a3    311.273265"
      ]
     },
     "execution_count": 51,
     "metadata": {},
     "output_type": "execute_result"
    }
   ],
   "source": [
    "starting_oil_df.head()"
   ]
  },
  {
   "cell_type": "code",
   "execution_count": 53,
   "metadata": {},
   "outputs": [],
   "source": [
    "starting_oil_df.to_csv('./starting_oil.csv')"
   ]
  }
 ],
 "metadata": {
  "kernelspec": {
   "display_name": "Python 3",
   "language": "python",
   "name": "python3"
  },
  "language_info": {
   "codemirror_mode": {
    "name": "ipython",
    "version": 3
   },
   "file_extension": ".py",
   "mimetype": "text/x-python",
   "name": "python",
   "nbconvert_exporter": "python",
   "pygments_lexer": "ipython3",
   "version": "3.6.3"
  }
 },
 "nbformat": 4,
 "nbformat_minor": 2
}
