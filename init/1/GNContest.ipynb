{
 "cells": [
  {
   "cell_type": "code",
   "execution_count": 21,
   "metadata": {},
   "outputs": [],
   "source": [
    "import numpy as np\n",
    "import pandas as pd\n",
    "import matplotlib.pyplot as plt\n",
    "%matplotlib inline"
   ]
  },
  {
   "cell_type": "code",
   "execution_count": 22,
   "metadata": {},
   "outputs": [],
   "source": [
    "def conv(s):\n",
    "    return s.replace(',', '.')\n",
    "\n",
    "def conv1(s):\n",
    "    if s == '':\n",
    "        return np.nan\n",
    "    return float(s.replace(',', '.'))"
   ]
  },
  {
   "cell_type": "code",
   "execution_count": 40,
   "metadata": {},
   "outputs": [],
   "source": [
    "train_data = pd.read_csv('./train_1.8.csv', encoding='cp1251', converters={'Нефть, т' : conv,\n",
    "                                                                           'Попутный газ, м3' : conv1,\n",
    "                                                                           'Нефть, м3' : conv1,\n",
    "                                                                           'Время работы, ч' : conv1})\n",
    "test_data = pd.read_csv('./test_1.9.csv', encoding='cp1251')"
   ]
  },
  {
   "cell_type": "code",
   "execution_count": 41,
   "metadata": {},
   "outputs": [],
   "source": [
    "train_wells = np.unique(train_data[train_data['Характер работы'] == 'НЕФ']['Скважина'])\n",
    "test_wells = np.unique(test_data['Скважина'])"
   ]
  },
  {
   "cell_type": "code",
   "execution_count": 42,
   "metadata": {},
   "outputs": [],
   "source": [
    "feats = ['Скважина', 'Характер работы', 'Дата', 'Нефть, т', 'Попутный газ, м3', 'Время работы, ч', 'Нефть, м3', 'Дебит жидкости', 'Обводненность']"
   ]
  },
  {
   "cell_type": "code",
   "execution_count": 43,
   "metadata": {},
   "outputs": [],
   "source": [
    "new_df = []\n",
    "\n",
    "for well in train_wells:\n",
    "    cur_df = train_data[train_data['Скважина'] == well][feats].sort_values('Дата')\n",
    "    if cur_df['Нефть, т'].iloc[0] != '0.00':\n",
    "        cur_df = cur_df.iloc[0]\n",
    "    elif cur_df['Нефть, т'].iloc[1] != '0.00':\n",
    "        cur_df = cur_df.iloc[1]\n",
    "    elif cur_df['Нефть, т'].iloc[2] != '0.00':\n",
    "        cur_df = cur_df.iloc[2]\n",
    "    elif cur_df['Нефть, т'].iloc[3] != '0.00':\n",
    "        cur_df = cur_df.iloc[3]\n",
    "    else:\n",
    "        cur_df = cur_df.iloc[4]\n",
    "    \n",
    "    new_df.append(cur_df)"
   ]
  },
  {
   "cell_type": "code",
   "execution_count": 44,
   "metadata": {},
   "outputs": [],
   "source": [
    "new_df = pd.concat(new_df, axis=1).T"
   ]
  },
  {
   "cell_type": "code",
   "execution_count": 45,
   "metadata": {},
   "outputs": [],
   "source": [
    "new_df['Дебит'] = new_df['Дебит жидкости'] - new_df['Обводненность'] * new_df['Дебит жидкости'] / 100"
   ]
  },
  {
   "cell_type": "code",
   "execution_count": 46,
   "metadata": {},
   "outputs": [],
   "source": [
    "new_df['Дебит2'] = new_df['Нефть, м3'] / new_df['Время работы, ч']"
   ]
  },
  {
   "cell_type": "code",
   "execution_count": 47,
   "metadata": {},
   "outputs": [],
   "source": [
    "new_df['Дебит'] = new_df['Дебит'].fillna(new_df['Дебит2'])"
   ]
  },
  {
   "cell_type": "code",
   "execution_count": 106,
   "metadata": {},
   "outputs": [],
   "source": [
    "debit_train = new_df[['Скважина', 'Нефть, т', 'Время работы, ч', 'Дебит', 'Попутный газ, м3']].dropna(0)"
   ]
  },
  {
   "cell_type": "code",
   "execution_count": 107,
   "metadata": {},
   "outputs": [
    {
     "data": {
      "text/html": [
       "<div>\n",
       "<style>\n",
       "    .dataframe thead tr:only-child th {\n",
       "        text-align: right;\n",
       "    }\n",
       "\n",
       "    .dataframe thead th {\n",
       "        text-align: left;\n",
       "    }\n",
       "\n",
       "    .dataframe tbody tr th {\n",
       "        vertical-align: top;\n",
       "    }\n",
       "</style>\n",
       "<table border=\"1\" class=\"dataframe\">\n",
       "  <thead>\n",
       "    <tr style=\"text-align: right;\">\n",
       "      <th></th>\n",
       "      <th>Скважина</th>\n",
       "      <th>Нефть, т</th>\n",
       "      <th>Время работы, ч</th>\n",
       "      <th>Дебит</th>\n",
       "      <th>Попутный газ, м3</th>\n",
       "    </tr>\n",
       "  </thead>\n",
       "  <tbody>\n",
       "    <tr>\n",
       "      <th>1570</th>\n",
       "      <td>005642f48d3e86d871bb701bac2ba042</td>\n",
       "      <td>462.00</td>\n",
       "      <td>432</td>\n",
       "      <td>1.238426</td>\n",
       "      <td>29568</td>\n",
       "    </tr>\n",
       "    <tr>\n",
       "      <th>1199</th>\n",
       "      <td>02384c4d1324238fb99fcf66c88fbdad</td>\n",
       "      <td>458.00</td>\n",
       "      <td>392</td>\n",
       "      <td>1.341837</td>\n",
       "      <td>31705</td>\n",
       "    </tr>\n",
       "    <tr>\n",
       "      <th>768</th>\n",
       "      <td>02bd0350b7f0cef7af7ca50801d89810</td>\n",
       "      <td>15.32</td>\n",
       "      <td>24</td>\n",
       "      <td>0.761250</td>\n",
       "      <td>2148</td>\n",
       "    </tr>\n",
       "    <tr>\n",
       "      <th>1475</th>\n",
       "      <td>02dba139f57f4aa50c3fbf56f586551f</td>\n",
       "      <td>241.00</td>\n",
       "      <td>336</td>\n",
       "      <td>0.824405</td>\n",
       "      <td>15424</td>\n",
       "    </tr>\n",
       "    <tr>\n",
       "      <th>1600</th>\n",
       "      <td>038753062b1b3941bbce024a2af27e18</td>\n",
       "      <td>553.00</td>\n",
       "      <td>216</td>\n",
       "      <td>2.962963</td>\n",
       "      <td>35392</td>\n",
       "    </tr>\n",
       "  </tbody>\n",
       "</table>\n",
       "</div>"
      ],
      "text/plain": [
       "                              Скважина Нефть, т Время работы, ч     Дебит  \\\n",
       "1570  005642f48d3e86d871bb701bac2ba042   462.00             432  1.238426   \n",
       "1199  02384c4d1324238fb99fcf66c88fbdad   458.00             392  1.341837   \n",
       "768   02bd0350b7f0cef7af7ca50801d89810    15.32              24  0.761250   \n",
       "1475  02dba139f57f4aa50c3fbf56f586551f   241.00             336  0.824405   \n",
       "1600  038753062b1b3941bbce024a2af27e18   553.00             216  2.962963   \n",
       "\n",
       "     Попутный газ, м3  \n",
       "1570            29568  \n",
       "1199            31705  \n",
       "768              2148  \n",
       "1475            15424  \n",
       "1600            35392  "
      ]
     },
     "execution_count": 107,
     "metadata": {},
     "output_type": "execute_result"
    }
   ],
   "source": [
    "debit_train.head()"
   ]
  },
  {
   "cell_type": "code",
   "execution_count": 108,
   "metadata": {
    "scrolled": false
   },
   "outputs": [
    {
     "data": {
      "text/plain": [
       "(0, 300000)"
      ]
     },
     "execution_count": 108,
     "metadata": {},
     "output_type": "execute_result"
    },
    {
     "data": {
      "image/png": "[encoded data removed]",
      "text/plain": [
       "<matplotlib.figure.Figure at 0x102a87cc0>"
      ]
     },
     "metadata": {},
     "output_type": "display_data"
    }
   ],
   "source": [
    "x = debit_train['Попутный газ, м3'].values.astype(np.float64)[:, np.newaxis]\n",
    "y = debit_train['Нефть, т'].values.astype(np.float64)[:, np.newaxis]\n",
    "angle = y / (x + 1)\n",
    "\n",
    "plt.figure(figsize=(10, 8))\n",
    "plt.scatter(x, y)\n",
    "plt.xlim(0, 300000)"
   ]
  },
  {
   "cell_type": "code",
   "execution_count": 109,
   "metadata": {},
   "outputs": [],
   "source": [
    "xy = angle #np.hstack([x, y, angle])"
   ]
  },
  {
   "cell_type": "code",
   "execution_count": 110,
   "metadata": {},
   "outputs": [],
   "source": [
    "from sklearn.cluster import KMeans, SpectralClustering, DBSCAN"
   ]
  },
  {
   "cell_type": "code",
   "execution_count": 111,
   "metadata": {},
   "outputs": [
    {
     "data": {
      "text/plain": [
       "<matplotlib.collections.PathCollection at 0x113dd1198>"
      ]
     },
     "execution_count": 111,
     "metadata": {},
     "output_type": "execute_result"
    },
    {
     "data": {
      "image/png": "[encoded data removed]",
      "text/plain": [
       "<matplotlib.figure.Figure at 0x102a9c3c8>"
      ]
     },
     "metadata": {},
     "output_type": "display_data"
    }
   ],
   "source": [
    "kmeans = KMeans(n_clusters = 8, random_state=1543)\n",
    "\n",
    "\n",
    "labels = kmeans.fit_predict(xy)[:, None]\n",
    "\n",
    "plt.figure(figsize=(10, 8))\n",
    "plt.scatter(x, y, c=labels)\n",
    "#plt.xlim(0, 300000)"
   ]
  },
  {
   "cell_type": "code",
   "execution_count": 115,
   "metadata": {},
   "outputs": [],
   "source": [
    "z = debit_train['Время работы, ч'].values.astype(np.float64)[:, np.newaxis]"
   ]
  },
  {
   "cell_type": "code",
   "execution_count": 118,
   "metadata": {},
   "outputs": [
    {
     "data": {
      "text/plain": [
       "<matplotlib.collections.PathCollection at 0x11439c3c8>"
      ]
     },
     "execution_count": 118,
     "metadata": {},
     "output_type": "execute_result"
    },
    {
     "data": {
      "image/png": "[encoded data removed]",
      "text/plain": [
       "<matplotlib.figure.Figure at 0x1140ed080>"
      ]
     },
     "metadata": {},
     "output_type": "display_data"
    }
   ],
   "source": [
    "plt.figure(figsize=(10, 8))\n",
    "plt.scatter(z, y)"
   ]
  },
  {
   "cell_type": "markdown",
   "metadata": {},
   "source": [
    "## Достанем данные по координатам"
   ]
  },
  {
   "cell_type": "code",
   "execution_count": 149,
   "metadata": {},
   "outputs": [],
   "source": [
    "coords_train = pd.read_csv('./coords_train_1.1.csv', encoding='cp1251')\n",
    "coords_train = coords_train.groupby('well_hash')['ПЛАСТ_X', 'ПЛАСТ_Y'].mean()\n",
    "coords_train.reset_index(inplace=True)\n",
    "coords_train.rename(columns={'well_hash' : 'Скважина'}, inplace=True)"
   ]
  },
  {
   "cell_type": "code",
   "execution_count": 150,
   "metadata": {},
   "outputs": [],
   "source": [
    "coords_test = pd.read_csv('./coords_test_1.1.csv', encoding='cp1251')\n",
    "coords_test = coords_test.groupby('well_hash')['ПЛАСТ_X', 'ПЛАСТ_Y'].mean()\n",
    "coords_test.reset_index(inplace=True)\n",
    "coords_test.rename(columns={'well_hash' : 'Скважина'}, inplace=True)"
   ]
  },
  {
   "cell_type": "code",
   "execution_count": 151,
   "metadata": {},
   "outputs": [
    {
     "data": {
      "text/html": [
       "<div>\n",
       "<style>\n",
       "    .dataframe thead tr:only-child th {\n",
       "        text-align: right;\n",
       "    }\n",
       "\n",
       "    .dataframe thead th {\n",
       "        text-align: left;\n",
       "    }\n",
       "\n",
       "    .dataframe tbody tr th {\n",
       "        vertical-align: top;\n",
       "    }\n",
       "</style>\n",
       "<table border=\"1\" class=\"dataframe\">\n",
       "  <thead>\n",
       "    <tr style=\"text-align: right;\">\n",
       "      <th></th>\n",
       "      <th>Скважина</th>\n",
       "      <th>ПЛАСТ_X</th>\n",
       "      <th>ПЛАСТ_Y</th>\n",
       "    </tr>\n",
       "  </thead>\n",
       "  <tbody>\n",
       "    <tr>\n",
       "      <th>0</th>\n",
       "      <td>02bd0350b7f0cef7af7ca50801d89810</td>\n",
       "      <td>1.297986e+07</td>\n",
       "      <td>3.998130e+07</td>\n",
       "    </tr>\n",
       "    <tr>\n",
       "      <th>1</th>\n",
       "      <td>046568c4bd1c6343c5f932ef6a21b112</td>\n",
       "      <td>1.243139e+07</td>\n",
       "      <td>3.780028e+07</td>\n",
       "    </tr>\n",
       "    <tr>\n",
       "      <th>2</th>\n",
       "      <td>04d7884a9f7019671285b87ca468d0f1</td>\n",
       "      <td>1.243339e+07</td>\n",
       "      <td>3.781346e+07</td>\n",
       "    </tr>\n",
       "    <tr>\n",
       "      <th>3</th>\n",
       "      <td>053c7b37c95c4617f331791134227db7</td>\n",
       "      <td>1.240853e+07</td>\n",
       "      <td>3.776296e+07</td>\n",
       "    </tr>\n",
       "    <tr>\n",
       "      <th>4</th>\n",
       "      <td>0556368a803a0c64972646d4bfaecd86</td>\n",
       "      <td>1.164759e+07</td>\n",
       "      <td>3.637853e+07</td>\n",
       "    </tr>\n",
       "  </tbody>\n",
       "</table>\n",
       "</div>"
      ],
      "text/plain": [
       "                           Скважина       ПЛАСТ_X       ПЛАСТ_Y\n",
       "0  02bd0350b7f0cef7af7ca50801d89810  1.297986e+07  3.998130e+07\n",
       "1  046568c4bd1c6343c5f932ef6a21b112  1.243139e+07  3.780028e+07\n",
       "2  04d7884a9f7019671285b87ca468d0f1  1.243339e+07  3.781346e+07\n",
       "3  053c7b37c95c4617f331791134227db7  1.240853e+07  3.776296e+07\n",
       "4  0556368a803a0c64972646d4bfaecd86  1.164759e+07  3.637853e+07"
      ]
     },
     "execution_count": 151,
     "metadata": {},
     "output_type": "execute_result"
    }
   ],
   "source": [
    "coords_train.head()"
   ]
  },
  {
   "cell_type": "code",
   "execution_count": 153,
   "metadata": {},
   "outputs": [
    {
     "data": {
      "text/plain": [
       "<matplotlib.collections.PathCollection at 0x114dd7b70>"
      ]
     },
     "execution_count": 153,
     "metadata": {},
     "output_type": "execute_result"
    },
    {
     "data": {
      "image/png": "[encoded data removed]",
      "text/plain": [
       "<matplotlib.figure.Figure at 0x114dce748>"
      ]
     },
     "metadata": {},
     "output_type": "display_data"
    }
   ],
   "source": [
    "x_train = coords_train['ПЛАСТ_X'].values\n",
    "y_train = coords_train['ПЛАСТ_Y'].values\n",
    "\n",
    "x_test = coords_test['ПЛАСТ_X'].values\n",
    "y_test = coords_test['ПЛАСТ_Y'].values\n",
    "\n",
    "plt.figure(figsize=(10, 8))\n",
    "plt.scatter(x_train, y_train)\n",
    "plt.scatter(x_test, y_test)"
   ]
  },
  {
   "cell_type": "markdown",
   "metadata": {},
   "source": [
    "## Достанем данные по давлению в пласте"
   ]
  },
  {
   "cell_type": "code",
   "execution_count": 155,
   "metadata": {},
   "outputs": [],
   "source": [
    "gdis_train = pd.read_csv('./gdis_train1.2.csv', encoding='cp1251')\n",
    "gdis_train = gdis_train.groupby('Скважина').mean().reset_index()\n",
    "\n",
    "gdis_test = pd.read_csv('./gdis_test1.2.csv', encoding='cp1251')\n",
    "gdis_test = gdis_test.groupby('Скважина').mean().reset_index()"
   ]
  },
  {
   "cell_type": "code",
   "execution_count": 156,
   "metadata": {},
   "outputs": [
    {
     "data": {
      "text/html": [
       "<div>\n",
       "<style>\n",
       "    .dataframe thead tr:only-child th {\n",
       "        text-align: right;\n",
       "    }\n",
       "\n",
       "    .dataframe thead th {\n",
       "        text-align: left;\n",
       "    }\n",
       "\n",
       "    .dataframe tbody tr th {\n",
       "        vertical-align: top;\n",
       "    }\n",
       "</style>\n",
       "<table border=\"1\" class=\"dataframe\">\n",
       "  <thead>\n",
       "    <tr style=\"text-align: right;\">\n",
       "      <th></th>\n",
       "      <th>Скважина</th>\n",
       "      <th>Давление пластовое</th>\n",
       "    </tr>\n",
       "  </thead>\n",
       "  <tbody>\n",
       "    <tr>\n",
       "      <th>0</th>\n",
       "      <td>005642f48d3e86d871bb701bac2ba042</td>\n",
       "      <td>103.150000</td>\n",
       "    </tr>\n",
       "    <tr>\n",
       "      <th>1</th>\n",
       "      <td>02384c4d1324238fb99fcf66c88fbdad</td>\n",
       "      <td>218.566667</td>\n",
       "    </tr>\n",
       "    <tr>\n",
       "      <th>2</th>\n",
       "      <td>02bd0350b7f0cef7af7ca50801d89810</td>\n",
       "      <td>255.150000</td>\n",
       "    </tr>\n",
       "    <tr>\n",
       "      <th>3</th>\n",
       "      <td>031f7cf95ada8d6e49ad6bd96c886d9c</td>\n",
       "      <td>83.000000</td>\n",
       "    </tr>\n",
       "    <tr>\n",
       "      <th>4</th>\n",
       "      <td>038753062b1b3941bbce024a2af27e18</td>\n",
       "      <td>232.300000</td>\n",
       "    </tr>\n",
       "  </tbody>\n",
       "</table>\n",
       "</div>"
      ],
      "text/plain": [
       "                           Скважина  Давление пластовое\n",
       "0  005642f48d3e86d871bb701bac2ba042          103.150000\n",
       "1  02384c4d1324238fb99fcf66c88fbdad          218.566667\n",
       "2  02bd0350b7f0cef7af7ca50801d89810          255.150000\n",
       "3  031f7cf95ada8d6e49ad6bd96c886d9c           83.000000\n",
       "4  038753062b1b3941bbce024a2af27e18          232.300000"
      ]
     },
     "execution_count": 156,
     "metadata": {},
     "output_type": "execute_result"
    }
   ],
   "source": [
    "gdis_train.head()"
   ]
  },
  {
   "cell_type": "markdown",
   "metadata": {},
   "source": [
    "## Достанем данные по ГРП"
   ]
  },
  {
   "cell_type": "code",
   "execution_count": 120,
   "metadata": {},
   "outputs": [],
   "source": [
    "grp_df_train = pd.read_csv('./frac_train_1.csv', encoding='cp1251')"
   ]
  },
  {
   "cell_type": "code",
   "execution_count": 121,
   "metadata": {},
   "outputs": [],
   "source": [
    "grp_train = pd.Series(train_wells).apply(lambda x: x in grp_df_train['Скважина'].values).astype(int)"
   ]
  },
  {
   "cell_type": "code",
   "execution_count": 135,
   "metadata": {},
   "outputs": [],
   "source": [
    "grp_train = pd.DataFrame(data=np.stack([train_wells, grp_train], axis=1), columns=['Скважина', 'ГРП'])"
   ]
  },
  {
   "cell_type": "code",
   "execution_count": 136,
   "metadata": {},
   "outputs": [
    {
     "data": {
      "text/html": [
       "<div>\n",
       "<style>\n",
       "    .dataframe thead tr:only-child th {\n",
       "        text-align: right;\n",
       "    }\n",
       "\n",
       "    .dataframe thead th {\n",
       "        text-align: left;\n",
       "    }\n",
       "\n",
       "    .dataframe tbody tr th {\n",
       "        vertical-align: top;\n",
       "    }\n",
       "</style>\n",
       "<table border=\"1\" class=\"dataframe\">\n",
       "  <thead>\n",
       "    <tr style=\"text-align: right;\">\n",
       "      <th></th>\n",
       "      <th>Скважина</th>\n",
       "      <th>ГРП</th>\n",
       "    </tr>\n",
       "  </thead>\n",
       "  <tbody>\n",
       "    <tr>\n",
       "      <th>0</th>\n",
       "      <td>005642f48d3e86d871bb701bac2ba042</td>\n",
       "      <td>1</td>\n",
       "    </tr>\n",
       "    <tr>\n",
       "      <th>1</th>\n",
       "      <td>02384c4d1324238fb99fcf66c88fbdad</td>\n",
       "      <td>1</td>\n",
       "    </tr>\n",
       "    <tr>\n",
       "      <th>2</th>\n",
       "      <td>02bd0350b7f0cef7af7ca50801d89810</td>\n",
       "      <td>1</td>\n",
       "    </tr>\n",
       "    <tr>\n",
       "      <th>3</th>\n",
       "      <td>02dba139f57f4aa50c3fbf56f586551f</td>\n",
       "      <td>1</td>\n",
       "    </tr>\n",
       "    <tr>\n",
       "      <th>4</th>\n",
       "      <td>038753062b1b3941bbce024a2af27e18</td>\n",
       "      <td>1</td>\n",
       "    </tr>\n",
       "  </tbody>\n",
       "</table>\n",
       "</div>"
      ],
      "text/plain": [
       "                           Скважина ГРП\n",
       "0  005642f48d3e86d871bb701bac2ba042   1\n",
       "1  02384c4d1324238fb99fcf66c88fbdad   1\n",
       "2  02bd0350b7f0cef7af7ca50801d89810   1\n",
       "3  02dba139f57f4aa50c3fbf56f586551f   1\n",
       "4  038753062b1b3941bbce024a2af27e18   1"
      ]
     },
     "execution_count": 136,
     "metadata": {},
     "output_type": "execute_result"
    }
   ],
   "source": [
    "grp_train.head()"
   ]
  },
  {
   "cell_type": "code",
   "execution_count": 138,
   "metadata": {},
   "outputs": [],
   "source": [
    "grp_df_test = pd.read_csv('./frac_test_1.csv', encoding='cp1251')"
   ]
  },
  {
   "cell_type": "code",
   "execution_count": 139,
   "metadata": {},
   "outputs": [],
   "source": [
    "grp_test = pd.Series(test_wells).apply(lambda x: x in grp_df_test['Скважина'].values).astype(int)"
   ]
  },
  {
   "cell_type": "code",
   "execution_count": 140,
   "metadata": {},
   "outputs": [],
   "source": [
    "grp_test = pd.DataFrame(data=np.stack([test_wells, grp_test], axis=1), columns=['Скважина', 'ГРП'])"
   ]
  },
  {
   "cell_type": "code",
   "execution_count": 141,
   "metadata": {},
   "outputs": [
    {
     "data": {
      "text/html": [
       "<div>\n",
       "<style>\n",
       "    .dataframe thead tr:only-child th {\n",
       "        text-align: right;\n",
       "    }\n",
       "\n",
       "    .dataframe thead th {\n",
       "        text-align: left;\n",
       "    }\n",
       "\n",
       "    .dataframe tbody tr th {\n",
       "        vertical-align: top;\n",
       "    }\n",
       "</style>\n",
       "<table border=\"1\" class=\"dataframe\">\n",
       "  <thead>\n",
       "    <tr style=\"text-align: right;\">\n",
       "      <th></th>\n",
       "      <th>Скважина</th>\n",
       "      <th>ГРП</th>\n",
       "    </tr>\n",
       "  </thead>\n",
       "  <tbody>\n",
       "    <tr>\n",
       "      <th>0</th>\n",
       "      <td>002ff5b8a6dc271f58581e1b4fa2c5fc</td>\n",
       "      <td>1</td>\n",
       "    </tr>\n",
       "    <tr>\n",
       "      <th>1</th>\n",
       "      <td>008d0347e572a5d938a9c40c29e539fc</td>\n",
       "      <td>0</td>\n",
       "    </tr>\n",
       "    <tr>\n",
       "      <th>2</th>\n",
       "      <td>00b40cb7bb8c9fd1ac26b4cc86f2b291</td>\n",
       "      <td>0</td>\n",
       "    </tr>\n",
       "    <tr>\n",
       "      <th>3</th>\n",
       "      <td>01ba18d8b6d29875a18d4bca4eb201d7</td>\n",
       "      <td>1</td>\n",
       "    </tr>\n",
       "    <tr>\n",
       "      <th>4</th>\n",
       "      <td>024ec6f6e3f9c5150ecf525bf8b7a6a3</td>\n",
       "      <td>1</td>\n",
       "    </tr>\n",
       "  </tbody>\n",
       "</table>\n",
       "</div>"
      ],
      "text/plain": [
       "                           Скважина ГРП\n",
       "0  002ff5b8a6dc271f58581e1b4fa2c5fc   1\n",
       "1  008d0347e572a5d938a9c40c29e539fc   0\n",
       "2  00b40cb7bb8c9fd1ac26b4cc86f2b291   0\n",
       "3  01ba18d8b6d29875a18d4bca4eb201d7   1\n",
       "4  024ec6f6e3f9c5150ecf525bf8b7a6a3   1"
      ]
     },
     "execution_count": 141,
     "metadata": {},
     "output_type": "execute_result"
    }
   ],
   "source": [
    "grp_test.head()"
   ]
  },
  {
   "cell_type": "markdown",
   "metadata": {},
   "source": [
    "## Объединим все!"
   ]
  },
  {
   "cell_type": "code",
   "execution_count": 194,
   "metadata": {},
   "outputs": [],
   "source": [
    "all_train = pd.concat([debit_train.set_index('Скважина'),\n",
    "                       grp_train.set_index('Скважина'),\n",
    "                       gdis_train.set_index('Скважина'),\n",
    "                       coords_train.set_index('Скважина')], axis=1).dropna(0)\n",
    "\n",
    "all_test = pd.concat([grp_test.set_index('Скважина'),\n",
    "                      gdis_test.set_index('Скважина'),\n",
    "                      coords_test.set_index('Скважина')], axis=1)"
   ]
  },
  {
   "cell_type": "code",
   "execution_count": 195,
   "metadata": {},
   "outputs": [],
   "source": [
    "all_test['Давление пластовое'].fillna(all_test.mean()['Давление пластовое'], inplace=True)\n",
    "all_test.fillna(-99999, inplace=True)"
   ]
  },
  {
   "cell_type": "code",
   "execution_count": 196,
   "metadata": {},
   "outputs": [
    {
     "data": {
      "text/html": [
       "<div>\n",
       "<style>\n",
       "    .dataframe thead tr:only-child th {\n",
       "        text-align: right;\n",
       "    }\n",
       "\n",
       "    .dataframe thead th {\n",
       "        text-align: left;\n",
       "    }\n",
       "\n",
       "    .dataframe tbody tr th {\n",
       "        vertical-align: top;\n",
       "    }\n",
       "</style>\n",
       "<table border=\"1\" class=\"dataframe\">\n",
       "  <thead>\n",
       "    <tr style=\"text-align: right;\">\n",
       "      <th></th>\n",
       "      <th>ГРП</th>\n",
       "      <th>Давление пластовое</th>\n",
       "      <th>ПЛАСТ_X</th>\n",
       "      <th>ПЛАСТ_Y</th>\n",
       "    </tr>\n",
       "  </thead>\n",
       "  <tbody>\n",
       "    <tr>\n",
       "      <th>002ff5b8a6dc271f58581e1b4fa2c5fc</th>\n",
       "      <td>1</td>\n",
       "      <td>178.966195</td>\n",
       "      <td>-9.999900e+04</td>\n",
       "      <td>-9.999900e+04</td>\n",
       "    </tr>\n",
       "    <tr>\n",
       "      <th>008d0347e572a5d938a9c40c29e539fc</th>\n",
       "      <td>0</td>\n",
       "      <td>178.966195</td>\n",
       "      <td>1.272636e+07</td>\n",
       "      <td>3.857880e+07</td>\n",
       "    </tr>\n",
       "    <tr>\n",
       "      <th>00b40cb7bb8c9fd1ac26b4cc86f2b291</th>\n",
       "      <td>0</td>\n",
       "      <td>178.966195</td>\n",
       "      <td>-9.999900e+04</td>\n",
       "      <td>-9.999900e+04</td>\n",
       "    </tr>\n",
       "    <tr>\n",
       "      <th>01ba18d8b6d29875a18d4bca4eb201d7</th>\n",
       "      <td>1</td>\n",
       "      <td>117.500000</td>\n",
       "      <td>-9.999900e+04</td>\n",
       "      <td>-9.999900e+04</td>\n",
       "    </tr>\n",
       "    <tr>\n",
       "      <th>024ec6f6e3f9c5150ecf525bf8b7a6a3</th>\n",
       "      <td>1</td>\n",
       "      <td>231.000000</td>\n",
       "      <td>1.243423e+07</td>\n",
       "      <td>3.781085e+07</td>\n",
       "    </tr>\n",
       "  </tbody>\n",
       "</table>\n",
       "</div>"
      ],
      "text/plain": [
       "                                  ГРП  Давление пластовое       ПЛАСТ_X  \\\n",
       "002ff5b8a6dc271f58581e1b4fa2c5fc    1          178.966195 -9.999900e+04   \n",
       "008d0347e572a5d938a9c40c29e539fc    0          178.966195  1.272636e+07   \n",
       "00b40cb7bb8c9fd1ac26b4cc86f2b291    0          178.966195 -9.999900e+04   \n",
       "01ba18d8b6d29875a18d4bca4eb201d7    1          117.500000 -9.999900e+04   \n",
       "024ec6f6e3f9c5150ecf525bf8b7a6a3    1          231.000000  1.243423e+07   \n",
       "\n",
       "                                       ПЛАСТ_Y  \n",
       "002ff5b8a6dc271f58581e1b4fa2c5fc -9.999900e+04  \n",
       "008d0347e572a5d938a9c40c29e539fc  3.857880e+07  \n",
       "00b40cb7bb8c9fd1ac26b4cc86f2b291 -9.999900e+04  \n",
       "01ba18d8b6d29875a18d4bca4eb201d7 -9.999900e+04  \n",
       "024ec6f6e3f9c5150ecf525bf8b7a6a3  3.781085e+07  "
      ]
     },
     "execution_count": 196,
     "metadata": {},
     "output_type": "execute_result"
    }
   ],
   "source": [
    "all_test.head()"
   ]
  },
  {
   "cell_type": "code",
   "execution_count": 197,
   "metadata": {},
   "outputs": [
    {
     "data": {
      "text/html": [
       "<div>\n",
       "<style>\n",
       "    .dataframe thead tr:only-child th {\n",
       "        text-align: right;\n",
       "    }\n",
       "\n",
       "    .dataframe thead th {\n",
       "        text-align: left;\n",
       "    }\n",
       "\n",
       "    .dataframe tbody tr th {\n",
       "        vertical-align: top;\n",
       "    }\n",
       "</style>\n",
       "<table border=\"1\" class=\"dataframe\">\n",
       "  <thead>\n",
       "    <tr style=\"text-align: right;\">\n",
       "      <th></th>\n",
       "      <th>Нефть, т</th>\n",
       "      <th>Время работы, ч</th>\n",
       "      <th>Дебит</th>\n",
       "      <th>Попутный газ, м3</th>\n",
       "      <th>ГРП</th>\n",
       "      <th>Давление пластовое</th>\n",
       "      <th>ПЛАСТ_X</th>\n",
       "      <th>ПЛАСТ_Y</th>\n",
       "    </tr>\n",
       "  </thead>\n",
       "  <tbody>\n",
       "    <tr>\n",
       "      <th>02bd0350b7f0cef7af7ca50801d89810</th>\n",
       "      <td>15.32</td>\n",
       "      <td>24</td>\n",
       "      <td>0.761250</td>\n",
       "      <td>2148</td>\n",
       "      <td>1</td>\n",
       "      <td>255.150000</td>\n",
       "      <td>1.297986e+07</td>\n",
       "      <td>3.998130e+07</td>\n",
       "    </tr>\n",
       "    <tr>\n",
       "      <th>046568c4bd1c6343c5f932ef6a21b112</th>\n",
       "      <td>10.00</td>\n",
       "      <td>24</td>\n",
       "      <td>0.500000</td>\n",
       "      <td>680</td>\n",
       "      <td>1</td>\n",
       "      <td>357.500000</td>\n",
       "      <td>1.243139e+07</td>\n",
       "      <td>3.780028e+07</td>\n",
       "    </tr>\n",
       "    <tr>\n",
       "      <th>04d7884a9f7019671285b87ca468d0f1</th>\n",
       "      <td>334.00</td>\n",
       "      <td>310</td>\n",
       "      <td>1.238710</td>\n",
       "      <td>11718</td>\n",
       "      <td>1</td>\n",
       "      <td>232.000000</td>\n",
       "      <td>1.243339e+07</td>\n",
       "      <td>3.781346e+07</td>\n",
       "    </tr>\n",
       "    <tr>\n",
       "      <th>053c7b37c95c4617f331791134227db7</th>\n",
       "      <td>11.00</td>\n",
       "      <td>9</td>\n",
       "      <td>1.333333</td>\n",
       "      <td>462</td>\n",
       "      <td>1</td>\n",
       "      <td>148.333333</td>\n",
       "      <td>1.240853e+07</td>\n",
       "      <td>3.776296e+07</td>\n",
       "    </tr>\n",
       "    <tr>\n",
       "      <th>0556368a803a0c64972646d4bfaecd86</th>\n",
       "      <td>1396.00</td>\n",
       "      <td>624</td>\n",
       "      <td>2.711538</td>\n",
       "      <td>176348</td>\n",
       "      <td>1</td>\n",
       "      <td>120.000000</td>\n",
       "      <td>1.164759e+07</td>\n",
       "      <td>3.637853e+07</td>\n",
       "    </tr>\n",
       "  </tbody>\n",
       "</table>\n",
       "</div>"
      ],
      "text/plain": [
       "                                 Нефть, т Время работы, ч     Дебит  \\\n",
       "02bd0350b7f0cef7af7ca50801d89810    15.32              24  0.761250   \n",
       "046568c4bd1c6343c5f932ef6a21b112    10.00              24  0.500000   \n",
       "04d7884a9f7019671285b87ca468d0f1   334.00             310  1.238710   \n",
       "053c7b37c95c4617f331791134227db7    11.00               9  1.333333   \n",
       "0556368a803a0c64972646d4bfaecd86  1396.00             624  2.711538   \n",
       "\n",
       "                                 Попутный газ, м3 ГРП  Давление пластовое  \\\n",
       "02bd0350b7f0cef7af7ca50801d89810             2148   1          255.150000   \n",
       "046568c4bd1c6343c5f932ef6a21b112              680   1          357.500000   \n",
       "04d7884a9f7019671285b87ca468d0f1            11718   1          232.000000   \n",
       "053c7b37c95c4617f331791134227db7              462   1          148.333333   \n",
       "0556368a803a0c64972646d4bfaecd86           176348   1          120.000000   \n",
       "\n",
       "                                       ПЛАСТ_X       ПЛАСТ_Y  \n",
       "02bd0350b7f0cef7af7ca50801d89810  1.297986e+07  3.998130e+07  \n",
       "046568c4bd1c6343c5f932ef6a21b112  1.243139e+07  3.780028e+07  \n",
       "04d7884a9f7019671285b87ca468d0f1  1.243339e+07  3.781346e+07  \n",
       "053c7b37c95c4617f331791134227db7  1.240853e+07  3.776296e+07  \n",
       "0556368a803a0c64972646d4bfaecd86  1.164759e+07  3.637853e+07  "
      ]
     },
     "execution_count": 197,
     "metadata": {},
     "output_type": "execute_result"
    }
   ],
   "source": [
    "all_train.head()"
   ]
  }
 ],
 "metadata": {
  "kernelspec": {
   "display_name": "Python 3",
   "language": "python",
   "name": "python3"
  },
  "language_info": {
   "codemirror_mode": {
    "name": "ipython",
    "version": 3
   },
   "file_extension": ".py",
   "mimetype": "text/x-python",
   "name": "python",
   "nbconvert_exporter": "python",
   "pygments_lexer": "ipython3",
   "version": "3.6.3"
  }
 },
 "nbformat": 4,
 "nbformat_minor": 2
}
